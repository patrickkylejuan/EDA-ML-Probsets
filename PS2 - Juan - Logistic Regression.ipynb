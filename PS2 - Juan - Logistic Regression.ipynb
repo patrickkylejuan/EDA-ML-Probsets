{
 "cells": [
  {
   "cell_type": "markdown",
   "metadata": {},
   "source": [
    "# Problem Set 2 CS129.18\n",
    "\n",
    "The following problem set will revolve around the Pokemon stats dataset.\n",
    "The dataset `data/Pokemon.csv` has **721** rows and **27** columns. Not all columns are needed for the questions to be asked.\n"
   ]
  },
  {
   "cell_type": "markdown",
   "metadata": {},
   "source": [
    "## Requirements\n",
    "\n",
    "\n",
    ">Gotta catch 'em all.\n",
    "\n",
    "Using the lessons on Logistic Regression, and the other resource notebooks, show the following in this Jupyter Notebook.\n",
    "\n",
    "Write your answers down as Markdown cells or comments in the code.\n",
    "\n",
    "1. How many Legendary Pokemon are there? ( 1pt )\n",
    "\n",
    "2. Who is the Pokemon with the highest attack-to-HP ratio? (Tip: Just get the divide attack by HP) ( 3pts )\n",
    "\n",
    "3. Build a binary classifier for whether Pokemon are Fire Type or not. ( 4pts )\n",
    "\n",
    "4. Describe the attributes and stats of all Legendary Type pokemon using boxplots. ( 5pts )\n",
    "\n",
    "5. Solve for the probabilities of each Pokemon being a Fire Type. ( 2pts )\n",
    "\n",
    "6. What is the accuracy of your model?( 2pts )\n",
    "\n",
    "7. Apply upsampling for the minority class that is Fire Type and show the change in Accuracy and Precision. ( 3pts )\n",
    "\n",
    "\n",
    "\n",
    "-----\n",
    "\n",
    "\n",
    "Bonus 1 : What is the difference between machine learning and pattern recognition? (1pt)\n",
    "\n",
    "Bonus 2:  Who is your favorite Pokemon?\n",
    "\n",
    "----\n",
    "\n",
    "**Submit this file on Moodle on the submission link I will provide. This is due September 25 12nn.**"
   ]
  },
  {
   "cell_type": "code",
   "execution_count": 1,
   "metadata": {},
   "outputs": [],
   "source": [
    "%matplotlib inline\n",
    "\n",
    "import matplotlib.pylab as plt\n",
    "import numpy as np\n",
    "import pandas as pd"
   ]
  },
  {
   "cell_type": "code",
   "execution_count": 2,
   "metadata": {},
   "outputs": [],
   "source": [
    "df = pd.read_csv(\"data/Pokemon.csv\")"
   ]
  },
  {
   "cell_type": "code",
   "execution_count": 3,
   "metadata": {},
   "outputs": [
    {
     "data": {
      "text/html": [
       "<div>\n",
       "<style scoped>\n",
       "    .dataframe tbody tr th:only-of-type {\n",
       "        vertical-align: middle;\n",
       "    }\n",
       "\n",
       "    .dataframe tbody tr th {\n",
       "        vertical-align: top;\n",
       "    }\n",
       "\n",
       "    .dataframe thead th {\n",
       "        text-align: right;\n",
       "    }\n",
       "</style>\n",
       "<table border=\"1\" class=\"dataframe\">\n",
       "  <thead>\n",
       "    <tr style=\"text-align: right;\">\n",
       "      <th></th>\n",
       "      <th>Number</th>\n",
       "      <th>Name</th>\n",
       "      <th>Type_1</th>\n",
       "      <th>Type_2</th>\n",
       "      <th>Total</th>\n",
       "      <th>HP</th>\n",
       "      <th>Attack</th>\n",
       "      <th>Defense</th>\n",
       "      <th>Sp_Atk</th>\n",
       "      <th>Sp_Def</th>\n",
       "      <th>...</th>\n",
       "      <th>Color</th>\n",
       "      <th>hasGender</th>\n",
       "      <th>Pr_Male</th>\n",
       "      <th>Egg_Group_1</th>\n",
       "      <th>Egg_Group_2</th>\n",
       "      <th>hasMegaEvolution</th>\n",
       "      <th>Height_m</th>\n",
       "      <th>Weight_kg</th>\n",
       "      <th>Catch_Rate</th>\n",
       "      <th>Body_Style</th>\n",
       "    </tr>\n",
       "  </thead>\n",
       "  <tbody>\n",
       "    <tr>\n",
       "      <th>0</th>\n",
       "      <td>1</td>\n",
       "      <td>Bulbasaur</td>\n",
       "      <td>Grass</td>\n",
       "      <td>Poison</td>\n",
       "      <td>318</td>\n",
       "      <td>45</td>\n",
       "      <td>49</td>\n",
       "      <td>49</td>\n",
       "      <td>65</td>\n",
       "      <td>65</td>\n",
       "      <td>...</td>\n",
       "      <td>Green</td>\n",
       "      <td>True</td>\n",
       "      <td>0.875</td>\n",
       "      <td>Monster</td>\n",
       "      <td>Grass</td>\n",
       "      <td>False</td>\n",
       "      <td>0.71</td>\n",
       "      <td>6.9</td>\n",
       "      <td>45</td>\n",
       "      <td>quadruped</td>\n",
       "    </tr>\n",
       "    <tr>\n",
       "      <th>1</th>\n",
       "      <td>2</td>\n",
       "      <td>Ivysaur</td>\n",
       "      <td>Grass</td>\n",
       "      <td>Poison</td>\n",
       "      <td>405</td>\n",
       "      <td>60</td>\n",
       "      <td>62</td>\n",
       "      <td>63</td>\n",
       "      <td>80</td>\n",
       "      <td>80</td>\n",
       "      <td>...</td>\n",
       "      <td>Green</td>\n",
       "      <td>True</td>\n",
       "      <td>0.875</td>\n",
       "      <td>Monster</td>\n",
       "      <td>Grass</td>\n",
       "      <td>False</td>\n",
       "      <td>0.99</td>\n",
       "      <td>13.0</td>\n",
       "      <td>45</td>\n",
       "      <td>quadruped</td>\n",
       "    </tr>\n",
       "    <tr>\n",
       "      <th>2</th>\n",
       "      <td>3</td>\n",
       "      <td>Venusaur</td>\n",
       "      <td>Grass</td>\n",
       "      <td>Poison</td>\n",
       "      <td>525</td>\n",
       "      <td>80</td>\n",
       "      <td>82</td>\n",
       "      <td>83</td>\n",
       "      <td>100</td>\n",
       "      <td>100</td>\n",
       "      <td>...</td>\n",
       "      <td>Green</td>\n",
       "      <td>True</td>\n",
       "      <td>0.875</td>\n",
       "      <td>Monster</td>\n",
       "      <td>Grass</td>\n",
       "      <td>True</td>\n",
       "      <td>2.01</td>\n",
       "      <td>100.0</td>\n",
       "      <td>45</td>\n",
       "      <td>quadruped</td>\n",
       "    </tr>\n",
       "    <tr>\n",
       "      <th>3</th>\n",
       "      <td>4</td>\n",
       "      <td>Charmander</td>\n",
       "      <td>Fire</td>\n",
       "      <td>NaN</td>\n",
       "      <td>309</td>\n",
       "      <td>39</td>\n",
       "      <td>52</td>\n",
       "      <td>43</td>\n",
       "      <td>60</td>\n",
       "      <td>50</td>\n",
       "      <td>...</td>\n",
       "      <td>Red</td>\n",
       "      <td>True</td>\n",
       "      <td>0.875</td>\n",
       "      <td>Monster</td>\n",
       "      <td>Dragon</td>\n",
       "      <td>False</td>\n",
       "      <td>0.61</td>\n",
       "      <td>8.5</td>\n",
       "      <td>45</td>\n",
       "      <td>bipedal_tailed</td>\n",
       "    </tr>\n",
       "    <tr>\n",
       "      <th>4</th>\n",
       "      <td>5</td>\n",
       "      <td>Charmeleon</td>\n",
       "      <td>Fire</td>\n",
       "      <td>NaN</td>\n",
       "      <td>405</td>\n",
       "      <td>58</td>\n",
       "      <td>64</td>\n",
       "      <td>58</td>\n",
       "      <td>80</td>\n",
       "      <td>65</td>\n",
       "      <td>...</td>\n",
       "      <td>Red</td>\n",
       "      <td>True</td>\n",
       "      <td>0.875</td>\n",
       "      <td>Monster</td>\n",
       "      <td>Dragon</td>\n",
       "      <td>False</td>\n",
       "      <td>1.09</td>\n",
       "      <td>19.0</td>\n",
       "      <td>45</td>\n",
       "      <td>bipedal_tailed</td>\n",
       "    </tr>\n",
       "  </tbody>\n",
       "</table>\n",
       "<p>5 rows × 23 columns</p>\n",
       "</div>"
      ],
      "text/plain": [
       "   Number        Name Type_1  Type_2  Total  HP  Attack  Defense  Sp_Atk  \\\n",
       "0       1   Bulbasaur  Grass  Poison    318  45      49       49      65   \n",
       "1       2     Ivysaur  Grass  Poison    405  60      62       63      80   \n",
       "2       3    Venusaur  Grass  Poison    525  80      82       83     100   \n",
       "3       4  Charmander   Fire     NaN    309  39      52       43      60   \n",
       "4       5  Charmeleon   Fire     NaN    405  58      64       58      80   \n",
       "\n",
       "   Sp_Def  ...  Color  hasGender  Pr_Male Egg_Group_1  Egg_Group_2  \\\n",
       "0      65  ...  Green       True    0.875     Monster        Grass   \n",
       "1      80  ...  Green       True    0.875     Monster        Grass   \n",
       "2     100  ...  Green       True    0.875     Monster        Grass   \n",
       "3      50  ...    Red       True    0.875     Monster       Dragon   \n",
       "4      65  ...    Red       True    0.875     Monster       Dragon   \n",
       "\n",
       "   hasMegaEvolution Height_m Weight_kg  Catch_Rate      Body_Style  \n",
       "0             False     0.71       6.9          45       quadruped  \n",
       "1             False     0.99      13.0          45       quadruped  \n",
       "2              True     2.01     100.0          45       quadruped  \n",
       "3             False     0.61       8.5          45  bipedal_tailed  \n",
       "4             False     1.09      19.0          45  bipedal_tailed  \n",
       "\n",
       "[5 rows x 23 columns]"
      ]
     },
     "execution_count": 3,
     "metadata": {},
     "output_type": "execute_result"
    }
   ],
   "source": [
    "df.head()"
   ]
  },
  {
   "cell_type": "markdown",
   "metadata": {},
   "source": [
    "### 1. How many Legendary Pokemon are there? ( 1pt )\n"
   ]
  },
  {
   "cell_type": "code",
   "execution_count": 4,
   "metadata": {},
   "outputs": [
    {
     "data": {
      "text/plain": [
       "Index(['Number', 'Name', 'Type_1', 'Type_2', 'Total', 'HP', 'Attack',\n",
       "       'Defense', 'Sp_Atk', 'Sp_Def', 'Speed', 'Generation', 'isLegendary',\n",
       "       'Color', 'hasGender', 'Pr_Male', 'Egg_Group_1', 'Egg_Group_2',\n",
       "       'hasMegaEvolution', 'Height_m', 'Weight_kg', 'Catch_Rate',\n",
       "       'Body_Style'],\n",
       "      dtype='object')"
      ]
     },
     "execution_count": 4,
     "metadata": {},
     "output_type": "execute_result"
    }
   ],
   "source": [
    "df.columns"
   ]
  },
  {
   "cell_type": "code",
   "execution_count": 5,
   "metadata": {},
   "outputs": [
    {
     "data": {
      "text/plain": [
       "46"
      ]
     },
     "execution_count": 5,
     "metadata": {},
     "output_type": "execute_result"
    }
   ],
   "source": [
    "df['isLegendary'].sum()"
   ]
  },
  {
   "cell_type": "markdown",
   "metadata": {},
   "source": [
    "There are 46 legendary pokemons in the dataset"
   ]
  },
  {
   "cell_type": "markdown",
   "metadata": {},
   "source": [
    "### 2. Who is the Pokemon with the highest attack-to-HP ratio? (Tip: Just get the divide attack by HP) ( 3pts )"
   ]
  },
  {
   "cell_type": "code",
   "execution_count": 6,
   "metadata": {},
   "outputs": [],
   "source": [
    "df['attack-to-HP ratio'] = df['Attack'] / df['HP']"
   ]
  },
  {
   "cell_type": "code",
   "execution_count": 7,
   "metadata": {},
   "outputs": [
    {
     "data": {
      "text/html": [
       "<div>\n",
       "<style scoped>\n",
       "    .dataframe tbody tr th:only-of-type {\n",
       "        vertical-align: middle;\n",
       "    }\n",
       "\n",
       "    .dataframe tbody tr th {\n",
       "        vertical-align: top;\n",
       "    }\n",
       "\n",
       "    .dataframe thead th {\n",
       "        text-align: right;\n",
       "    }\n",
       "</style>\n",
       "<table border=\"1\" class=\"dataframe\">\n",
       "  <thead>\n",
       "    <tr style=\"text-align: right;\">\n",
       "      <th></th>\n",
       "      <th>Number</th>\n",
       "      <th>Name</th>\n",
       "      <th>Type_1</th>\n",
       "      <th>Type_2</th>\n",
       "      <th>Total</th>\n",
       "      <th>HP</th>\n",
       "      <th>Attack</th>\n",
       "      <th>Defense</th>\n",
       "      <th>Sp_Atk</th>\n",
       "      <th>Sp_Def</th>\n",
       "      <th>...</th>\n",
       "      <th>hasGender</th>\n",
       "      <th>Pr_Male</th>\n",
       "      <th>Egg_Group_1</th>\n",
       "      <th>Egg_Group_2</th>\n",
       "      <th>hasMegaEvolution</th>\n",
       "      <th>Height_m</th>\n",
       "      <th>Weight_kg</th>\n",
       "      <th>Catch_Rate</th>\n",
       "      <th>Body_Style</th>\n",
       "      <th>attack-to-HP ratio</th>\n",
       "    </tr>\n",
       "  </thead>\n",
       "  <tbody>\n",
       "    <tr>\n",
       "      <th>291</th>\n",
       "      <td>292</td>\n",
       "      <td>Shedinja</td>\n",
       "      <td>Bug</td>\n",
       "      <td>Ghost</td>\n",
       "      <td>236</td>\n",
       "      <td>1</td>\n",
       "      <td>90</td>\n",
       "      <td>45</td>\n",
       "      <td>30</td>\n",
       "      <td>30</td>\n",
       "      <td>...</td>\n",
       "      <td>False</td>\n",
       "      <td>NaN</td>\n",
       "      <td>Mineral</td>\n",
       "      <td>NaN</td>\n",
       "      <td>False</td>\n",
       "      <td>0.79</td>\n",
       "      <td>1.2</td>\n",
       "      <td>45</td>\n",
       "      <td>head_base</td>\n",
       "      <td>90.000000</td>\n",
       "    </tr>\n",
       "    <tr>\n",
       "      <th>49</th>\n",
       "      <td>50</td>\n",
       "      <td>Diglett</td>\n",
       "      <td>Ground</td>\n",
       "      <td>NaN</td>\n",
       "      <td>265</td>\n",
       "      <td>10</td>\n",
       "      <td>55</td>\n",
       "      <td>25</td>\n",
       "      <td>35</td>\n",
       "      <td>45</td>\n",
       "      <td>...</td>\n",
       "      <td>True</td>\n",
       "      <td>0.500</td>\n",
       "      <td>Field</td>\n",
       "      <td>NaN</td>\n",
       "      <td>False</td>\n",
       "      <td>0.20</td>\n",
       "      <td>0.8</td>\n",
       "      <td>255</td>\n",
       "      <td>head_base</td>\n",
       "      <td>5.500000</td>\n",
       "    </tr>\n",
       "    <tr>\n",
       "      <th>97</th>\n",
       "      <td>98</td>\n",
       "      <td>Krabby</td>\n",
       "      <td>Water</td>\n",
       "      <td>NaN</td>\n",
       "      <td>325</td>\n",
       "      <td>30</td>\n",
       "      <td>105</td>\n",
       "      <td>90</td>\n",
       "      <td>25</td>\n",
       "      <td>25</td>\n",
       "      <td>...</td>\n",
       "      <td>True</td>\n",
       "      <td>0.500</td>\n",
       "      <td>Water_3</td>\n",
       "      <td>NaN</td>\n",
       "      <td>False</td>\n",
       "      <td>0.41</td>\n",
       "      <td>6.5</td>\n",
       "      <td>225</td>\n",
       "      <td>insectoid</td>\n",
       "      <td>3.500000</td>\n",
       "    </tr>\n",
       "    <tr>\n",
       "      <th>385</th>\n",
       "      <td>386</td>\n",
       "      <td>Deoxys</td>\n",
       "      <td>Psychic</td>\n",
       "      <td>NaN</td>\n",
       "      <td>600</td>\n",
       "      <td>50</td>\n",
       "      <td>150</td>\n",
       "      <td>50</td>\n",
       "      <td>150</td>\n",
       "      <td>50</td>\n",
       "      <td>...</td>\n",
       "      <td>False</td>\n",
       "      <td>NaN</td>\n",
       "      <td>Undiscovered</td>\n",
       "      <td>NaN</td>\n",
       "      <td>False</td>\n",
       "      <td>1.70</td>\n",
       "      <td>60.8</td>\n",
       "      <td>3</td>\n",
       "      <td>bipedal_tailless</td>\n",
       "      <td>3.000000</td>\n",
       "    </tr>\n",
       "    <tr>\n",
       "      <th>139</th>\n",
       "      <td>140</td>\n",
       "      <td>Kabuto</td>\n",
       "      <td>Rock</td>\n",
       "      <td>Water</td>\n",
       "      <td>355</td>\n",
       "      <td>30</td>\n",
       "      <td>80</td>\n",
       "      <td>90</td>\n",
       "      <td>55</td>\n",
       "      <td>45</td>\n",
       "      <td>...</td>\n",
       "      <td>True</td>\n",
       "      <td>0.875</td>\n",
       "      <td>Water_1</td>\n",
       "      <td>Water_3</td>\n",
       "      <td>False</td>\n",
       "      <td>0.51</td>\n",
       "      <td>11.5</td>\n",
       "      <td>45</td>\n",
       "      <td>insectoid</td>\n",
       "      <td>2.666667</td>\n",
       "    </tr>\n",
       "  </tbody>\n",
       "</table>\n",
       "<p>5 rows × 24 columns</p>\n",
       "</div>"
      ],
      "text/plain": [
       "     Number      Name   Type_1 Type_2  Total  HP  Attack  Defense  Sp_Atk  \\\n",
       "291     292  Shedinja      Bug  Ghost    236   1      90       45      30   \n",
       "49       50   Diglett   Ground    NaN    265  10      55       25      35   \n",
       "97       98    Krabby    Water    NaN    325  30     105       90      25   \n",
       "385     386    Deoxys  Psychic    NaN    600  50     150       50     150   \n",
       "139     140    Kabuto     Rock  Water    355  30      80       90      55   \n",
       "\n",
       "     Sp_Def  ...  hasGender  Pr_Male   Egg_Group_1 Egg_Group_2  \\\n",
       "291      30  ...      False      NaN       Mineral         NaN   \n",
       "49       45  ...       True    0.500         Field         NaN   \n",
       "97       25  ...       True    0.500       Water_3         NaN   \n",
       "385      50  ...      False      NaN  Undiscovered         NaN   \n",
       "139      45  ...       True    0.875       Water_1     Water_3   \n",
       "\n",
       "     hasMegaEvolution  Height_m Weight_kg Catch_Rate        Body_Style  \\\n",
       "291             False      0.79       1.2         45         head_base   \n",
       "49              False      0.20       0.8        255         head_base   \n",
       "97              False      0.41       6.5        225         insectoid   \n",
       "385             False      1.70      60.8          3  bipedal_tailless   \n",
       "139             False      0.51      11.5         45         insectoid   \n",
       "\n",
       "     attack-to-HP ratio  \n",
       "291           90.000000  \n",
       "49             5.500000  \n",
       "97             3.500000  \n",
       "385            3.000000  \n",
       "139            2.666667  \n",
       "\n",
       "[5 rows x 24 columns]"
      ]
     },
     "execution_count": 7,
     "metadata": {},
     "output_type": "execute_result"
    }
   ],
   "source": [
    "df.sort_values(['attack-to-HP ratio'], ascending=False).head(5)"
   ]
  },
  {
   "cell_type": "markdown",
   "metadata": {},
   "source": [
    "Shedinja is the pokemon with the highest attack to HP ratio"
   ]
  },
  {
   "cell_type": "markdown",
   "metadata": {},
   "source": [
    "### 3. Build a binary classifier for whether Pokemon are Fire Type or not. ( 4pts )"
   ]
  },
  {
   "cell_type": "code",
   "execution_count": 8,
   "metadata": {},
   "outputs": [
    {
     "name": "stdout",
     "output_type": "stream",
     "text": [
      "<class 'pandas.core.frame.DataFrame'>\n",
      "RangeIndex: 721 entries, 0 to 720\n",
      "Data columns (total 24 columns):\n",
      " #   Column              Non-Null Count  Dtype  \n",
      "---  ------              --------------  -----  \n",
      " 0   Number              721 non-null    int64  \n",
      " 1   Name                721 non-null    object \n",
      " 2   Type_1              721 non-null    object \n",
      " 3   Type_2              350 non-null    object \n",
      " 4   Total               721 non-null    int64  \n",
      " 5   HP                  721 non-null    int64  \n",
      " 6   Attack              721 non-null    int64  \n",
      " 7   Defense             721 non-null    int64  \n",
      " 8   Sp_Atk              721 non-null    int64  \n",
      " 9   Sp_Def              721 non-null    int64  \n",
      " 10  Speed               721 non-null    int64  \n",
      " 11  Generation          721 non-null    int64  \n",
      " 12  isLegendary         721 non-null    bool   \n",
      " 13  Color               721 non-null    object \n",
      " 14  hasGender           721 non-null    bool   \n",
      " 15  Pr_Male             644 non-null    float64\n",
      " 16  Egg_Group_1         721 non-null    object \n",
      " 17  Egg_Group_2         191 non-null    object \n",
      " 18  hasMegaEvolution    721 non-null    bool   \n",
      " 19  Height_m            721 non-null    float64\n",
      " 20  Weight_kg           721 non-null    float64\n",
      " 21  Catch_Rate          721 non-null    int64  \n",
      " 22  Body_Style          721 non-null    object \n",
      " 23  attack-to-HP ratio  721 non-null    float64\n",
      "dtypes: bool(3), float64(4), int64(10), object(7)\n",
      "memory usage: 120.5+ KB\n"
     ]
    }
   ],
   "source": [
    "df.info()"
   ]
  },
  {
   "cell_type": "code",
   "execution_count": 9,
   "metadata": {},
   "outputs": [
    {
     "data": {
      "text/plain": [
       "Water       105\n",
       "Normal       93\n",
       "Grass        66\n",
       "Bug          63\n",
       "Fire         47\n",
       "Psychic      47\n",
       "Rock         41\n",
       "Electric     36\n",
       "Ground       30\n",
       "Poison       28\n",
       "Dark         28\n",
       "Fighting     25\n",
       "Dragon       24\n",
       "Ice          23\n",
       "Ghost        23\n",
       "Steel        22\n",
       "Fairy        17\n",
       "Flying        3\n",
       "Name: Type_1, dtype: int64"
      ]
     },
     "execution_count": 9,
     "metadata": {},
     "output_type": "execute_result"
    }
   ],
   "source": [
    "df['Type_1'].value_counts()"
   ]
  },
  {
   "cell_type": "code",
   "execution_count": 10,
   "metadata": {},
   "outputs": [
    {
     "data": {
      "text/plain": [
       "Flying      87\n",
       "Poison      31\n",
       "Ground      30\n",
       "Psychic     27\n",
       "Steel       19\n",
       "Fighting    19\n",
       "Fairy       18\n",
       "Grass       18\n",
       "Dark        16\n",
       "Rock        14\n",
       "Dragon      14\n",
       "Water       13\n",
       "Ghost       12\n",
       "Ice         10\n",
       "Fire         9\n",
       "Electric     6\n",
       "Normal       4\n",
       "Bug          3\n",
       "Name: Type_2, dtype: int64"
      ]
     },
     "execution_count": 10,
     "metadata": {},
     "output_type": "execute_result"
    }
   ],
   "source": [
    "df['Type_2'].value_counts()"
   ]
  },
  {
   "cell_type": "code",
   "execution_count": 11,
   "metadata": {},
   "outputs": [],
   "source": [
    "# Make a new column isFireType (true if Type 1 or Type 2 of Pokemon is Fire)\n",
    "def label_is_fire(row):\n",
    "    if row['Type_1'] == 'Fire' or row['Type_2'] == 'Fire' :\n",
    "        return 1\n",
    "    else:\n",
    "        return 0"
   ]
  },
  {
   "cell_type": "code",
   "execution_count": 12,
   "metadata": {},
   "outputs": [],
   "source": [
    "df['is_fire_type'] = df.apply(lambda row: label_is_fire(row), axis=1)"
   ]
  },
  {
   "cell_type": "code",
   "execution_count": 13,
   "metadata": {},
   "outputs": [
    {
     "data": {
      "text/plain": [
       "56"
      ]
     },
     "execution_count": 13,
     "metadata": {},
     "output_type": "execute_result"
    }
   ],
   "source": [
    "df['is_fire_type'].sum()"
   ]
  },
  {
   "cell_type": "code",
   "execution_count": 14,
   "metadata": {},
   "outputs": [
    {
     "data": {
      "text/plain": [
       "Number                  0\n",
       "Name                    0\n",
       "Type_1                  0\n",
       "Type_2                371\n",
       "Total                   0\n",
       "HP                      0\n",
       "Attack                  0\n",
       "Defense                 0\n",
       "Sp_Atk                  0\n",
       "Sp_Def                  0\n",
       "Speed                   0\n",
       "Generation              0\n",
       "isLegendary             0\n",
       "Color                   0\n",
       "hasGender               0\n",
       "Pr_Male                77\n",
       "Egg_Group_1             0\n",
       "Egg_Group_2           530\n",
       "hasMegaEvolution        0\n",
       "Height_m                0\n",
       "Weight_kg               0\n",
       "Catch_Rate              0\n",
       "Body_Style              0\n",
       "attack-to-HP ratio      0\n",
       "is_fire_type            0\n",
       "dtype: int64"
      ]
     },
     "execution_count": 14,
     "metadata": {},
     "output_type": "execute_result"
    }
   ],
   "source": [
    "# Data Cleaning and feature engineering\n",
    "df.isnull().sum()"
   ]
  },
  {
   "cell_type": "code",
   "execution_count": 15,
   "metadata": {},
   "outputs": [
    {
     "data": {
      "text/plain": [
       "Index(['Number', 'Name', 'Type_1', 'Type_2', 'Total', 'HP', 'Attack',\n",
       "       'Defense', 'Sp_Atk', 'Sp_Def', 'Speed', 'Generation', 'isLegendary',\n",
       "       'Color', 'hasGender', 'Pr_Male', 'Egg_Group_1', 'Egg_Group_2',\n",
       "       'hasMegaEvolution', 'Height_m', 'Weight_kg', 'Catch_Rate', 'Body_Style',\n",
       "       'attack-to-HP ratio', 'is_fire_type'],\n",
       "      dtype='object')"
      ]
     },
     "execution_count": 15,
     "metadata": {},
     "output_type": "execute_result"
    }
   ],
   "source": [
    "df.columns"
   ]
  },
  {
   "cell_type": "code",
   "execution_count": 16,
   "metadata": {},
   "outputs": [],
   "source": [
    "# Make a dataframe solely made out of firetype pokemons\n",
    "df_firetype1 = df[df['Type_1'] == 'Fire']\n",
    "df_firetype2 = df[df['Type_2'] == 'Fire']\n",
    "fire_types = df_firetype2.append(df_firetype1)"
   ]
  },
  {
   "cell_type": "code",
   "execution_count": 17,
   "metadata": {},
   "outputs": [
    {
     "data": {
      "text/plain": [
       "45     25\n",
       "3       7\n",
       "190     6\n",
       "75      4\n",
       "90      3\n",
       "120     3\n",
       "60      2\n",
       "65      1\n",
       "15      1\n",
       "150     1\n",
       "220     1\n",
       "30      1\n",
       "255     1\n",
       "Name: Catch_Rate, dtype: int64"
      ]
     },
     "execution_count": 17,
     "metadata": {},
     "output_type": "execute_result"
    }
   ],
   "source": [
    "fire_types['Catch_Rate'].value_counts()"
   ]
  },
  {
   "cell_type": "code",
   "execution_count": 18,
   "metadata": {},
   "outputs": [
    {
     "data": {
      "text/plain": [
       "Index(['Number', 'Name', 'Type_1', 'Type_2', 'Total', 'HP', 'Attack',\n",
       "       'Defense', 'Sp_Atk', 'Sp_Def', 'Speed', 'Generation', 'isLegendary',\n",
       "       'Color', 'hasGender', 'Pr_Male', 'Egg_Group_1', 'Egg_Group_2',\n",
       "       'hasMegaEvolution', 'Height_m', 'Weight_kg', 'Catch_Rate', 'Body_Style',\n",
       "       'attack-to-HP ratio', 'is_fire_type'],\n",
       "      dtype='object')"
      ]
     },
     "execution_count": 18,
     "metadata": {},
     "output_type": "execute_result"
    }
   ],
   "source": [
    "# Get dummy variables for categorical features\n",
    "df.columns"
   ]
  },
  {
   "cell_type": "code",
   "execution_count": 19,
   "metadata": {},
   "outputs": [
    {
     "data": {
      "text/plain": [
       "Index(['Number', 'Name', 'Type_1', 'Type_2', 'Total', 'HP', 'Attack',\n",
       "       'Defense', 'Sp_Atk', 'Sp_Def', 'Speed', 'Generation', 'isLegendary',\n",
       "       'Color', 'hasGender', 'Pr_Male', 'Egg_Group_1', 'Egg_Group_2',\n",
       "       'hasMegaEvolution', 'Height_m', 'Weight_kg', 'Catch_Rate', 'Body_Style',\n",
       "       'attack-to-HP ratio', 'is_fire_type'],\n",
       "      dtype='object')"
      ]
     },
     "execution_count": 19,
     "metadata": {},
     "output_type": "execute_result"
    }
   ],
   "source": [
    "df.columns"
   ]
  },
  {
   "cell_type": "code",
   "execution_count": 20,
   "metadata": {},
   "outputs": [],
   "source": [
    "model_df = pd.get_dummies(df, columns = ['Color','Body_Style'])"
   ]
  },
  {
   "cell_type": "code",
   "execution_count": 21,
   "metadata": {},
   "outputs": [],
   "source": [
    "model_df = model_df.drop(columns=['Body_Style_with_fins', 'Color_Grey', 'isLegendary',])"
   ]
  },
  {
   "cell_type": "code",
   "execution_count": 22,
   "metadata": {},
   "outputs": [],
   "source": [
    "model_df = model_df.drop(columns=['Number','Name', 'Type_1', 'Type_2', 'hasGender','Generation', 'hasMegaEvolution', 'Height_m', 'Weight_kg', 'Catch_Rate', 'attack-to-HP ratio' ])"
   ]
  },
  {
   "cell_type": "code",
   "execution_count": 23,
   "metadata": {},
   "outputs": [],
   "source": [
    "model_df = model_df.drop(columns = ['Egg_Group_1', 'Egg_Group_2'])"
   ]
  },
  {
   "cell_type": "code",
   "execution_count": 24,
   "metadata": {},
   "outputs": [
    {
     "data": {
      "text/plain": [
       "Index(['Total', 'HP', 'Attack', 'Defense', 'Sp_Atk', 'Sp_Def', 'Speed',\n",
       "       'Pr_Male', 'is_fire_type', 'Color_Black', 'Color_Blue', 'Color_Brown',\n",
       "       'Color_Green', 'Color_Pink', 'Color_Purple', 'Color_Red', 'Color_White',\n",
       "       'Color_Yellow', 'Body_Style_bipedal_tailed',\n",
       "       'Body_Style_bipedal_tailless', 'Body_Style_four_wings',\n",
       "       'Body_Style_head_arms', 'Body_Style_head_base', 'Body_Style_head_legs',\n",
       "       'Body_Style_head_only', 'Body_Style_insectoid',\n",
       "       'Body_Style_multiple_bodies', 'Body_Style_quadruped',\n",
       "       'Body_Style_serpentine_body', 'Body_Style_several_limbs',\n",
       "       'Body_Style_two_wings'],\n",
       "      dtype='object')"
      ]
     },
     "execution_count": 24,
     "metadata": {},
     "output_type": "execute_result"
    }
   ],
   "source": [
    "model_df.columns"
   ]
  },
  {
   "cell_type": "code",
   "execution_count": 25,
   "metadata": {},
   "outputs": [
    {
     "data": {
      "text/html": [
       "<div>\n",
       "<style scoped>\n",
       "    .dataframe tbody tr th:only-of-type {\n",
       "        vertical-align: middle;\n",
       "    }\n",
       "\n",
       "    .dataframe tbody tr th {\n",
       "        vertical-align: top;\n",
       "    }\n",
       "\n",
       "    .dataframe thead th {\n",
       "        text-align: right;\n",
       "    }\n",
       "</style>\n",
       "<table border=\"1\" class=\"dataframe\">\n",
       "  <thead>\n",
       "    <tr style=\"text-align: right;\">\n",
       "      <th></th>\n",
       "      <th>Total</th>\n",
       "      <th>HP</th>\n",
       "      <th>Attack</th>\n",
       "      <th>Defense</th>\n",
       "      <th>Sp_Atk</th>\n",
       "      <th>Sp_Def</th>\n",
       "      <th>Speed</th>\n",
       "      <th>Pr_Male</th>\n",
       "      <th>is_fire_type</th>\n",
       "      <th>Color_Black</th>\n",
       "      <th>...</th>\n",
       "      <th>Body_Style_head_arms</th>\n",
       "      <th>Body_Style_head_base</th>\n",
       "      <th>Body_Style_head_legs</th>\n",
       "      <th>Body_Style_head_only</th>\n",
       "      <th>Body_Style_insectoid</th>\n",
       "      <th>Body_Style_multiple_bodies</th>\n",
       "      <th>Body_Style_quadruped</th>\n",
       "      <th>Body_Style_serpentine_body</th>\n",
       "      <th>Body_Style_several_limbs</th>\n",
       "      <th>Body_Style_two_wings</th>\n",
       "    </tr>\n",
       "  </thead>\n",
       "  <tbody>\n",
       "    <tr>\n",
       "      <th>0</th>\n",
       "      <td>-0.912018</td>\n",
       "      <td>-0.905138</td>\n",
       "      <td>-0.898134</td>\n",
       "      <td>-0.744925</td>\n",
       "      <td>-0.129931</td>\n",
       "      <td>-0.158953</td>\n",
       "      <td>-0.759906</td>\n",
       "      <td>1.609613</td>\n",
       "      <td>0</td>\n",
       "      <td>0</td>\n",
       "      <td>...</td>\n",
       "      <td>0</td>\n",
       "      <td>0</td>\n",
       "      <td>0</td>\n",
       "      <td>0</td>\n",
       "      <td>0</td>\n",
       "      <td>0</td>\n",
       "      <td>1</td>\n",
       "      <td>0</td>\n",
       "      <td>0</td>\n",
       "      <td>0</td>\n",
       "    </tr>\n",
       "    <tr>\n",
       "      <th>1</th>\n",
       "      <td>-0.118133</td>\n",
       "      <td>-0.324426</td>\n",
       "      <td>-0.449306</td>\n",
       "      <td>-0.266721</td>\n",
       "      <td>0.391481</td>\n",
       "      <td>0.396662</td>\n",
       "      <td>-0.209629</td>\n",
       "      <td>1.609613</td>\n",
       "      <td>0</td>\n",
       "      <td>0</td>\n",
       "      <td>...</td>\n",
       "      <td>0</td>\n",
       "      <td>0</td>\n",
       "      <td>0</td>\n",
       "      <td>0</td>\n",
       "      <td>0</td>\n",
       "      <td>0</td>\n",
       "      <td>1</td>\n",
       "      <td>0</td>\n",
       "      <td>0</td>\n",
       "      <td>0</td>\n",
       "    </tr>\n",
       "    <tr>\n",
       "      <th>2</th>\n",
       "      <td>0.976881</td>\n",
       "      <td>0.449857</td>\n",
       "      <td>0.241197</td>\n",
       "      <td>0.416427</td>\n",
       "      <td>1.086697</td>\n",
       "      <td>1.137482</td>\n",
       "      <td>0.524073</td>\n",
       "      <td>1.609613</td>\n",
       "      <td>0</td>\n",
       "      <td>0</td>\n",
       "      <td>...</td>\n",
       "      <td>0</td>\n",
       "      <td>0</td>\n",
       "      <td>0</td>\n",
       "      <td>0</td>\n",
       "      <td>0</td>\n",
       "      <td>0</td>\n",
       "      <td>1</td>\n",
       "      <td>0</td>\n",
       "      <td>0</td>\n",
       "      <td>0</td>\n",
       "    </tr>\n",
       "    <tr>\n",
       "      <th>3</th>\n",
       "      <td>-0.994145</td>\n",
       "      <td>-1.137423</td>\n",
       "      <td>-0.794558</td>\n",
       "      <td>-0.949869</td>\n",
       "      <td>-0.303735</td>\n",
       "      <td>-0.714567</td>\n",
       "      <td>-0.026204</td>\n",
       "      <td>1.609613</td>\n",
       "      <td>1</td>\n",
       "      <td>0</td>\n",
       "      <td>...</td>\n",
       "      <td>0</td>\n",
       "      <td>0</td>\n",
       "      <td>0</td>\n",
       "      <td>0</td>\n",
       "      <td>0</td>\n",
       "      <td>0</td>\n",
       "      <td>0</td>\n",
       "      <td>0</td>\n",
       "      <td>0</td>\n",
       "      <td>0</td>\n",
       "    </tr>\n",
       "    <tr>\n",
       "      <th>4</th>\n",
       "      <td>-0.118133</td>\n",
       "      <td>-0.401854</td>\n",
       "      <td>-0.380256</td>\n",
       "      <td>-0.437508</td>\n",
       "      <td>0.391481</td>\n",
       "      <td>-0.158953</td>\n",
       "      <td>0.524073</td>\n",
       "      <td>1.609613</td>\n",
       "      <td>1</td>\n",
       "      <td>0</td>\n",
       "      <td>...</td>\n",
       "      <td>0</td>\n",
       "      <td>0</td>\n",
       "      <td>0</td>\n",
       "      <td>0</td>\n",
       "      <td>0</td>\n",
       "      <td>0</td>\n",
       "      <td>0</td>\n",
       "      <td>0</td>\n",
       "      <td>0</td>\n",
       "      <td>0</td>\n",
       "    </tr>\n",
       "  </tbody>\n",
       "</table>\n",
       "<p>5 rows × 31 columns</p>\n",
       "</div>"
      ],
      "text/plain": [
       "      Total        HP    Attack   Defense    Sp_Atk    Sp_Def     Speed  \\\n",
       "0 -0.912018 -0.905138 -0.898134 -0.744925 -0.129931 -0.158953 -0.759906   \n",
       "1 -0.118133 -0.324426 -0.449306 -0.266721  0.391481  0.396662 -0.209629   \n",
       "2  0.976881  0.449857  0.241197  0.416427  1.086697  1.137482  0.524073   \n",
       "3 -0.994145 -1.137423 -0.794558 -0.949869 -0.303735 -0.714567 -0.026204   \n",
       "4 -0.118133 -0.401854 -0.380256 -0.437508  0.391481 -0.158953  0.524073   \n",
       "\n",
       "    Pr_Male  is_fire_type  Color_Black  ...  Body_Style_head_arms  \\\n",
       "0  1.609613             0            0  ...                     0   \n",
       "1  1.609613             0            0  ...                     0   \n",
       "2  1.609613             0            0  ...                     0   \n",
       "3  1.609613             1            0  ...                     0   \n",
       "4  1.609613             1            0  ...                     0   \n",
       "\n",
       "   Body_Style_head_base  Body_Style_head_legs  Body_Style_head_only  \\\n",
       "0                     0                     0                     0   \n",
       "1                     0                     0                     0   \n",
       "2                     0                     0                     0   \n",
       "3                     0                     0                     0   \n",
       "4                     0                     0                     0   \n",
       "\n",
       "   Body_Style_insectoid  Body_Style_multiple_bodies  Body_Style_quadruped  \\\n",
       "0                     0                           0                     1   \n",
       "1                     0                           0                     1   \n",
       "2                     0                           0                     1   \n",
       "3                     0                           0                     0   \n",
       "4                     0                           0                     0   \n",
       "\n",
       "   Body_Style_serpentine_body  Body_Style_several_limbs  Body_Style_two_wings  \n",
       "0                           0                         0                     0  \n",
       "1                           0                         0                     0  \n",
       "2                           0                         0                     0  \n",
       "3                           0                         0                     0  \n",
       "4                           0                         0                     0  \n",
       "\n",
       "[5 rows x 31 columns]"
      ]
     },
     "execution_count": 25,
     "metadata": {},
     "output_type": "execute_result"
    }
   ],
   "source": [
    "# Features to use -> \n",
    "from sklearn.preprocessing import StandardScaler\n",
    "scaled_features = model_df.copy() # create a copy of the df\n",
    "col_names = ['Total', 'HP', 'Attack', 'Defense', 'Sp_Atk', 'Sp_Def', 'Speed','Pr_Male'] # generate a list of column names for values to standardize\n",
    "features = scaled_features[col_names]\n",
    "\n",
    "scaler = StandardScaler().fit(features.values)\n",
    "features = scaler.transform(features.values)\n",
    "\n",
    "scaled_features[col_names] = features\n",
    "scaled_features.head() #df with scaled features \n"
   ]
  },
  {
   "cell_type": "code",
   "execution_count": 26,
   "metadata": {},
   "outputs": [
    {
     "name": "stdout",
     "output_type": "stream",
     "text": [
      "<class 'pandas.core.frame.DataFrame'>\n",
      "RangeIndex: 721 entries, 0 to 720\n",
      "Data columns (total 31 columns):\n",
      " #   Column                       Non-Null Count  Dtype  \n",
      "---  ------                       --------------  -----  \n",
      " 0   Total                        721 non-null    float64\n",
      " 1   HP                           721 non-null    float64\n",
      " 2   Attack                       721 non-null    float64\n",
      " 3   Defense                      721 non-null    float64\n",
      " 4   Sp_Atk                       721 non-null    float64\n",
      " 5   Sp_Def                       721 non-null    float64\n",
      " 6   Speed                        721 non-null    float64\n",
      " 7   Pr_Male                      644 non-null    float64\n",
      " 8   is_fire_type                 721 non-null    int64  \n",
      " 9   Color_Black                  721 non-null    uint8  \n",
      " 10  Color_Blue                   721 non-null    uint8  \n",
      " 11  Color_Brown                  721 non-null    uint8  \n",
      " 12  Color_Green                  721 non-null    uint8  \n",
      " 13  Color_Pink                   721 non-null    uint8  \n",
      " 14  Color_Purple                 721 non-null    uint8  \n",
      " 15  Color_Red                    721 non-null    uint8  \n",
      " 16  Color_White                  721 non-null    uint8  \n",
      " 17  Color_Yellow                 721 non-null    uint8  \n",
      " 18  Body_Style_bipedal_tailed    721 non-null    uint8  \n",
      " 19  Body_Style_bipedal_tailless  721 non-null    uint8  \n",
      " 20  Body_Style_four_wings        721 non-null    uint8  \n",
      " 21  Body_Style_head_arms         721 non-null    uint8  \n",
      " 22  Body_Style_head_base         721 non-null    uint8  \n",
      " 23  Body_Style_head_legs         721 non-null    uint8  \n",
      " 24  Body_Style_head_only         721 non-null    uint8  \n",
      " 25  Body_Style_insectoid         721 non-null    uint8  \n",
      " 26  Body_Style_multiple_bodies   721 non-null    uint8  \n",
      " 27  Body_Style_quadruped         721 non-null    uint8  \n",
      " 28  Body_Style_serpentine_body   721 non-null    uint8  \n",
      " 29  Body_Style_several_limbs     721 non-null    uint8  \n",
      " 30  Body_Style_two_wings         721 non-null    uint8  \n",
      "dtypes: float64(8), int64(1), uint8(22)\n",
      "memory usage: 66.3 KB\n"
     ]
    }
   ],
   "source": [
    "scaled_features.info()"
   ]
  },
  {
   "cell_type": "code",
   "execution_count": 27,
   "metadata": {},
   "outputs": [],
   "source": [
    "# Generate X and Y values\n",
    "X = scaled_features.drop(columns=['is_fire_type', 'Pr_Male']).values\n",
    "y = scaled_features.iloc[:, 8].values"
   ]
  },
  {
   "cell_type": "code",
   "execution_count": 28,
   "metadata": {},
   "outputs": [],
   "source": [
    "from sklearn.model_selection import train_test_split\n",
    "X_train, X_test, y_train, y_test = train_test_split(X, y, test_size=0.30, random_state=42, stratify=y) #tried stratifying to preserve the ratio of target variables\n"
   ]
  },
  {
   "cell_type": "code",
   "execution_count": 29,
   "metadata": {},
   "outputs": [
    {
     "name": "stdout",
     "output_type": "stream",
     "text": [
      "Accuracy: 0.8525345622119815\n",
      "Precision: 0.3170731707317073\n",
      "Recall: 0.7647058823529411\n"
     ]
    }
   ],
   "source": [
    "\n",
    "from sklearn.linear_model import LogisticRegression\n",
    "from sklearn import metrics\n",
    "\n",
    "logistic_model = LogisticRegression(class_weight=\"balanced\")\n",
    "logistic_model.fit(X_train, y_train)\n",
    "predictions = logistic_model.predict(X_test)\n",
    "print(\"Accuracy:\",metrics.accuracy_score(y_test, predictions))\n",
    "print(\"Precision:\",metrics.precision_score(y_test, predictions))\n",
    "print(\"Recall:\",metrics.recall_score(y_test, predictions))\n"
   ]
  },
  {
   "cell_type": "code",
   "execution_count": 30,
   "metadata": {},
   "outputs": [
    {
     "data": {
      "text/plain": [
       "<AxesSubplot:>"
      ]
     },
     "execution_count": 30,
     "metadata": {},
     "output_type": "execute_result"
    },
    {
     "data": {
      "image/png": "[encoded data removed]",
      "text/plain": [
       "<Figure size 432x288 with 2 Axes>"
      ]
     },
     "metadata": {
      "needs_background": "light"
     },
     "output_type": "display_data"
    }
   ],
   "source": [
    "# Visualizing the Confusion Matrix\n",
    "import seaborn as sns\n",
    "from sklearn.metrics import confusion_matrix\n",
    "cf_matrix = confusion_matrix(y_test, predictions)\n",
    "sns.heatmap(cf_matrix, annot=True, cmap='Blues', fmt='g')\n"
   ]
  },
  {
   "cell_type": "code",
   "execution_count": 31,
   "metadata": {},
   "outputs": [
    {
     "data": {
      "text/html": [
       "<div>\n",
       "<style scoped>\n",
       "    .dataframe tbody tr th:only-of-type {\n",
       "        vertical-align: middle;\n",
       "    }\n",
       "\n",
       "    .dataframe tbody tr th {\n",
       "        vertical-align: top;\n",
       "    }\n",
       "\n",
       "    .dataframe thead th {\n",
       "        text-align: right;\n",
       "    }\n",
       "</style>\n",
       "<table border=\"1\" class=\"dataframe\">\n",
       "  <thead>\n",
       "    <tr style=\"text-align: right;\">\n",
       "      <th></th>\n",
       "      <th>0</th>\n",
       "      <th>1</th>\n",
       "      <th>accuracy</th>\n",
       "      <th>macro avg</th>\n",
       "      <th>weighted avg</th>\n",
       "    </tr>\n",
       "  </thead>\n",
       "  <tbody>\n",
       "    <tr>\n",
       "      <th>precision</th>\n",
       "      <td>0.977273</td>\n",
       "      <td>0.317073</td>\n",
       "      <td>0.852535</td>\n",
       "      <td>0.647173</td>\n",
       "      <td>0.925552</td>\n",
       "    </tr>\n",
       "    <tr>\n",
       "      <th>recall</th>\n",
       "      <td>0.860000</td>\n",
       "      <td>0.764706</td>\n",
       "      <td>0.852535</td>\n",
       "      <td>0.812353</td>\n",
       "      <td>0.852535</td>\n",
       "    </tr>\n",
       "    <tr>\n",
       "      <th>f1-score</th>\n",
       "      <td>0.914894</td>\n",
       "      <td>0.448276</td>\n",
       "      <td>0.852535</td>\n",
       "      <td>0.681585</td>\n",
       "      <td>0.878338</td>\n",
       "    </tr>\n",
       "    <tr>\n",
       "      <th>support</th>\n",
       "      <td>200.000000</td>\n",
       "      <td>17.000000</td>\n",
       "      <td>0.852535</td>\n",
       "      <td>217.000000</td>\n",
       "      <td>217.000000</td>\n",
       "    </tr>\n",
       "  </tbody>\n",
       "</table>\n",
       "</div>"
      ],
      "text/plain": [
       "                    0          1  accuracy   macro avg  weighted avg\n",
       "precision    0.977273   0.317073  0.852535    0.647173      0.925552\n",
       "recall       0.860000   0.764706  0.852535    0.812353      0.852535\n",
       "f1-score     0.914894   0.448276  0.852535    0.681585      0.878338\n",
       "support    200.000000  17.000000  0.852535  217.000000    217.000000"
      ]
     },
     "execution_count": 31,
     "metadata": {},
     "output_type": "execute_result"
    }
   ],
   "source": [
    "# Visualizing Precision, Recall and F1 scores for each class\n",
    "from sklearn.metrics import classification_report\n",
    "\n",
    "pd.DataFrame(classification_report(y_test,predictions,output_dict=True))\n"
   ]
  },
  {
   "cell_type": "markdown",
   "metadata": {},
   "source": [
    "Looking at the clasification report, for the target variable (is_fire_type): we have generally low precision and high recall i.e. this is a bad model"
   ]
  },
  {
   "cell_type": "markdown",
   "metadata": {},
   "source": [
    "### 4. Describe the attributes and stats of all Legendary Type pokemon using boxplots. ( 5pts )"
   ]
  },
  {
   "cell_type": "code",
   "execution_count": 32,
   "metadata": {},
   "outputs": [],
   "source": [
    "legend_df = df[df['isLegendary'] == 1]"
   ]
  },
  {
   "cell_type": "code",
   "execution_count": 33,
   "metadata": {},
   "outputs": [
    {
     "data": {
      "text/html": [
       "<div>\n",
       "<style scoped>\n",
       "    .dataframe tbody tr th:only-of-type {\n",
       "        vertical-align: middle;\n",
       "    }\n",
       "\n",
       "    .dataframe tbody tr th {\n",
       "        vertical-align: top;\n",
       "    }\n",
       "\n",
       "    .dataframe thead th {\n",
       "        text-align: right;\n",
       "    }\n",
       "</style>\n",
       "<table border=\"1\" class=\"dataframe\">\n",
       "  <thead>\n",
       "    <tr style=\"text-align: right;\">\n",
       "      <th></th>\n",
       "      <th>Number</th>\n",
       "      <th>Name</th>\n",
       "      <th>Type_1</th>\n",
       "      <th>Type_2</th>\n",
       "      <th>Total</th>\n",
       "      <th>HP</th>\n",
       "      <th>Attack</th>\n",
       "      <th>Defense</th>\n",
       "      <th>Sp_Atk</th>\n",
       "      <th>Sp_Def</th>\n",
       "      <th>...</th>\n",
       "      <th>Pr_Male</th>\n",
       "      <th>Egg_Group_1</th>\n",
       "      <th>Egg_Group_2</th>\n",
       "      <th>hasMegaEvolution</th>\n",
       "      <th>Height_m</th>\n",
       "      <th>Weight_kg</th>\n",
       "      <th>Catch_Rate</th>\n",
       "      <th>Body_Style</th>\n",
       "      <th>attack-to-HP ratio</th>\n",
       "      <th>is_fire_type</th>\n",
       "    </tr>\n",
       "  </thead>\n",
       "  <tbody>\n",
       "    <tr>\n",
       "      <th>143</th>\n",
       "      <td>144</td>\n",
       "      <td>Articuno</td>\n",
       "      <td>Ice</td>\n",
       "      <td>Flying</td>\n",
       "      <td>580</td>\n",
       "      <td>90</td>\n",
       "      <td>85</td>\n",
       "      <td>100</td>\n",
       "      <td>95</td>\n",
       "      <td>125</td>\n",
       "      <td>...</td>\n",
       "      <td>NaN</td>\n",
       "      <td>Undiscovered</td>\n",
       "      <td>NaN</td>\n",
       "      <td>False</td>\n",
       "      <td>1.70</td>\n",
       "      <td>55.4</td>\n",
       "      <td>3</td>\n",
       "      <td>two_wings</td>\n",
       "      <td>0.944444</td>\n",
       "      <td>0</td>\n",
       "    </tr>\n",
       "    <tr>\n",
       "      <th>144</th>\n",
       "      <td>145</td>\n",
       "      <td>Zapdos</td>\n",
       "      <td>Electric</td>\n",
       "      <td>Flying</td>\n",
       "      <td>580</td>\n",
       "      <td>90</td>\n",
       "      <td>90</td>\n",
       "      <td>85</td>\n",
       "      <td>125</td>\n",
       "      <td>90</td>\n",
       "      <td>...</td>\n",
       "      <td>NaN</td>\n",
       "      <td>Undiscovered</td>\n",
       "      <td>NaN</td>\n",
       "      <td>False</td>\n",
       "      <td>1.60</td>\n",
       "      <td>52.6</td>\n",
       "      <td>3</td>\n",
       "      <td>two_wings</td>\n",
       "      <td>1.000000</td>\n",
       "      <td>0</td>\n",
       "    </tr>\n",
       "    <tr>\n",
       "      <th>145</th>\n",
       "      <td>146</td>\n",
       "      <td>Moltres</td>\n",
       "      <td>Fire</td>\n",
       "      <td>Flying</td>\n",
       "      <td>580</td>\n",
       "      <td>90</td>\n",
       "      <td>100</td>\n",
       "      <td>90</td>\n",
       "      <td>125</td>\n",
       "      <td>85</td>\n",
       "      <td>...</td>\n",
       "      <td>NaN</td>\n",
       "      <td>Undiscovered</td>\n",
       "      <td>NaN</td>\n",
       "      <td>False</td>\n",
       "      <td>2.01</td>\n",
       "      <td>60.0</td>\n",
       "      <td>3</td>\n",
       "      <td>two_wings</td>\n",
       "      <td>1.111111</td>\n",
       "      <td>1</td>\n",
       "    </tr>\n",
       "  </tbody>\n",
       "</table>\n",
       "<p>3 rows × 25 columns</p>\n",
       "</div>"
      ],
      "text/plain": [
       "     Number      Name    Type_1  Type_2  Total  HP  Attack  Defense  Sp_Atk  \\\n",
       "143     144  Articuno       Ice  Flying    580  90      85      100      95   \n",
       "144     145    Zapdos  Electric  Flying    580  90      90       85     125   \n",
       "145     146   Moltres      Fire  Flying    580  90     100       90     125   \n",
       "\n",
       "     Sp_Def  ...  Pr_Male   Egg_Group_1  Egg_Group_2 hasMegaEvolution  \\\n",
       "143     125  ...      NaN  Undiscovered          NaN            False   \n",
       "144      90  ...      NaN  Undiscovered          NaN            False   \n",
       "145      85  ...      NaN  Undiscovered          NaN            False   \n",
       "\n",
       "     Height_m  Weight_kg Catch_Rate Body_Style  attack-to-HP ratio  \\\n",
       "143      1.70       55.4          3  two_wings            0.944444   \n",
       "144      1.60       52.6          3  two_wings            1.000000   \n",
       "145      2.01       60.0          3  two_wings            1.111111   \n",
       "\n",
       "     is_fire_type  \n",
       "143             0  \n",
       "144             0  \n",
       "145             1  \n",
       "\n",
       "[3 rows x 25 columns]"
      ]
     },
     "execution_count": 33,
     "metadata": {},
     "output_type": "execute_result"
    }
   ],
   "source": [
    "legend_df.head(3)"
   ]
  },
  {
   "cell_type": "code",
   "execution_count": 34,
   "metadata": {},
   "outputs": [
    {
     "data": {
      "text/plain": [
       "0    0.875\n",
       "1    0.875\n",
       "2    0.875\n",
       "3    0.875\n",
       "4    0.875\n",
       "5    0.875\n",
       "6    0.875\n",
       "7    0.875\n",
       "8    0.875\n",
       "9    0.500\n",
       "Name: Pr_Male, dtype: float64"
      ]
     },
     "execution_count": 34,
     "metadata": {},
     "output_type": "execute_result"
    }
   ],
   "source": [
    "df['Pr_Male'].head(10)"
   ]
  },
  {
   "cell_type": "code",
   "execution_count": 35,
   "metadata": {},
   "outputs": [
    {
     "data": {
      "text/plain": [
       "Index(['Number', 'Total', 'HP', 'Attack', 'Defense', 'Sp_Atk', 'Sp_Def',\n",
       "       'Speed', 'Generation', 'Pr_Male', 'Height_m', 'Weight_kg', 'Catch_Rate',\n",
       "       'attack-to-HP ratio', 'is_fire_type'],\n",
       "      dtype='object')"
      ]
     },
     "execution_count": 35,
     "metadata": {},
     "output_type": "execute_result"
    }
   ],
   "source": [
    "#Get continuous variable columns by getting the columns from df.describe()\n",
    "legend_df.describe().columns"
   ]
  },
  {
   "cell_type": "code",
   "execution_count": 36,
   "metadata": {},
   "outputs": [],
   "source": [
    "#Remove the unneeded columns\n",
    "cols_plot = ['Total', 'HP', 'Attack', 'Defense', 'Sp_Atk', 'Sp_Def',\n",
    "       'Speed','Pr_Male', 'Height_m', 'Weight_kg', 'Catch_Rate']"
   ]
  },
  {
   "cell_type": "code",
   "execution_count": 37,
   "metadata": {},
   "outputs": [
    {
     "data": {
      "text/plain": [
       "0.00    580.0\n",
       "0.25    580.0\n",
       "0.50    600.0\n",
       "0.75    677.5\n",
       "1.00    720.0\n",
       "Name: Total, dtype: float64"
      ]
     },
     "execution_count": 37,
     "metadata": {},
     "output_type": "execute_result"
    },
    {
     "data": {
      "image/png": "[encoded data removed]",
      "text/plain": [
       "<Figure size 1440x216 with 1 Axes>"
      ]
     },
     "metadata": {},
     "output_type": "display_data"
    }
   ],
   "source": [
    "# Get the box plot of each feature ( Would have iterated but will describe each boxplot so opted to plot them one by one)\n",
    "import seaborn as sns \n",
    "\n",
    "sns.set(rc={'figure.figsize':(20,3)})\n",
    "ax = sns.boxplot(x=legend_df[\"Total\"])\n",
    "legend_df.Total.quantile([0,0.25,0.5,0.75,1])\n",
    "\n",
    "# In terms of the Total attribute, the median of the legendaries is 600. Minimum and maximum values are 580 and 720. \\\n",
    "# The IQR is between 580 and 677.5 . No outliers as no values exceeded the whiskers."
   ]
  },
  {
   "cell_type": "code",
   "execution_count": 38,
   "metadata": {},
   "outputs": [
    {
     "data": {
      "text/plain": [
       "0.00     50.00\n",
       "0.25     80.00\n",
       "0.50     91.00\n",
       "0.75    103.75\n",
       "1.00    150.00\n",
       "Name: HP, dtype: float64"
      ]
     },
     "execution_count": 38,
     "metadata": {},
     "output_type": "execute_result"
    },
    {
     "data": {
      "image/png": "[encoded data removed]",
      "text/plain": [
       "<Figure size 1440x216 with 1 Axes>"
      ]
     },
     "metadata": {},
     "output_type": "display_data"
    }
   ],
   "source": [
    "\n",
    "ax = sns.boxplot(x=legend_df[\"HP\"])\n",
    "legend_df.HP.quantile([0,0.25, 0.50, 0.75,1])\n",
    "\n",
    "# In terms of HP, the median HP of the legendaries is 91. Minimum and maximum values are 50 and 150. \\\n",
    "# The IQR is between 80 and 103.75 i.e. bulk of Legendaries have HP between these 2 values. One outlier Legendary Pokemon has an HP of 150."
   ]
  },
  {
   "cell_type": "code",
   "execution_count": 39,
   "metadata": {},
   "outputs": [
    {
     "data": {
      "text/plain": [
       "0.00     50.00\n",
       "0.25     90.00\n",
       "0.50    107.50\n",
       "0.75    123.75\n",
       "1.00    160.00\n",
       "Name: Attack, dtype: float64"
      ]
     },
     "execution_count": 39,
     "metadata": {},
     "output_type": "execute_result"
    },
    {
     "data": {
      "image/png": "[encoded data removed]",
      "text/plain": [
       "<Figure size 1440x216 with 1 Axes>"
      ]
     },
     "metadata": {},
     "output_type": "display_data"
    }
   ],
   "source": [
    "\n",
    "ax = sns.boxplot(x=legend_df[\"Attack\"])\n",
    "legend_df.Attack.quantile([0,0.25, 0.5,0.75,1])\n",
    "\n",
    "# In terms of Attack, the median Attack of the legendaries is 107.50. Minimum and maximum values are 50 and 160.00. \\\n",
    "# The IQR is between 90.00 and 123.75 i.e. bulk of Legendaries have Attack between these 2 values. No outliers"
   ]
  },
  {
   "cell_type": "code",
   "execution_count": 40,
   "metadata": {},
   "outputs": [
    {
     "data": {
      "text/plain": [
       "0.00     50.00\n",
       "0.25     90.00\n",
       "0.50    100.00\n",
       "0.75    118.75\n",
       "1.00    200.00\n",
       "Name: Defense, dtype: float64"
      ]
     },
     "execution_count": 40,
     "metadata": {},
     "output_type": "execute_result"
    },
    {
     "data": {
      "image/png": "[encoded data removed]",
      "text/plain": [
       "<Figure size 1440x216 with 1 Axes>"
      ]
     },
     "metadata": {},
     "output_type": "display_data"
    }
   ],
   "source": [
    "\n",
    "ax = sns.boxplot(x=legend_df[\"Defense\"])\n",
    "legend_df.Defense.quantile([0,0.25,0.5,0.75,1])\n",
    "# In terms of Defense, the median Defense of the legendaries is 100.00. Minimum and maximum values are 50 and 200.00. \\\n",
    "# The IQR is between 90.00 and 118.75 i.e. bulk of Legendaries have Defense between these 2 values. One outlier Legendary Pokemon has a Defense of 200."
   ]
  },
  {
   "cell_type": "code",
   "execution_count": 41,
   "metadata": {},
   "outputs": [
    {
     "data": {
      "text/plain": [
       "0.00     50.00\n",
       "0.25     96.25\n",
       "0.50    117.50\n",
       "0.75    130.00\n",
       "1.00    154.00\n",
       "Name: Sp_Atk, dtype: float64"
      ]
     },
     "execution_count": 41,
     "metadata": {},
     "output_type": "execute_result"
    },
    {
     "data": {
      "image/png": "[encoded data removed]",
      "text/plain": [
       "<Figure size 1440x216 with 1 Axes>"
      ]
     },
     "metadata": {},
     "output_type": "display_data"
    }
   ],
   "source": [
    "\n",
    "ax = sns.boxplot(x=legend_df[\"Sp_Atk\"])\n",
    "legend_df.Sp_Atk.quantile([0,0.25,0.5,0.75,1])\n",
    "# In terms of Sp_Atk, the median Sp_Atk of the legendaries is 117.50. Minimum and maximum values are 50 and 154.00. \\\n",
    "# The IQR is between 96.25 and 130.00 i.e. bulk of Legendaries have Sp_Atk between these 2 values. No outliers"
   ]
  },
  {
   "cell_type": "code",
   "execution_count": 42,
   "metadata": {},
   "outputs": [
    {
     "data": {
      "text/plain": [
       "0.00     50.0\n",
       "0.25     90.0\n",
       "0.50    100.0\n",
       "0.75    120.0\n",
       "1.00    200.0\n",
       "Name: Sp_Def, dtype: float64"
      ]
     },
     "execution_count": 42,
     "metadata": {},
     "output_type": "execute_result"
    },
    {
     "data": {
      "image/png": "[encoded data removed]",
      "text/plain": [
       "<Figure size 1440x216 with 1 Axes>"
      ]
     },
     "metadata": {},
     "output_type": "display_data"
    }
   ],
   "source": [
    "\n",
    "ax = sns.boxplot(x=legend_df[\"Sp_Def\"])\n",
    "legend_df.Sp_Def.quantile([0,0.25,0.5,0.75,1])\n",
    "# In terms of Sp_Def, the median Sp_Def of the legendaries is 100.0. Minimum and maximum values are 50 and 200.0. \\\n",
    "# The IQR is between 90.0 and 120.0 i.e. bulk of Legendaries have Sp_Def between these 2 values. One outlier Legendary Pokemon has a Sp_Def of 200."
   ]
  },
  {
   "cell_type": "code",
   "execution_count": 43,
   "metadata": {},
   "outputs": [
    {
     "data": {
      "text/plain": [
       "0.00     50.0\n",
       "0.25     90.0\n",
       "0.50     99.0\n",
       "0.75    108.0\n",
       "1.00    150.0\n",
       "Name: Speed, dtype: float64"
      ]
     },
     "execution_count": 43,
     "metadata": {},
     "output_type": "execute_result"
    },
    {
     "data": {
      "image/png": "[encoded data removed]",
      "text/plain": [
       "<Figure size 1440x216 with 1 Axes>"
      ]
     },
     "metadata": {},
     "output_type": "display_data"
    }
   ],
   "source": [
    "\n",
    "ax = sns.boxplot(x=legend_df[\"Speed\"])\n",
    "legend_df.Speed.quantile([0,0.25,0.5,0.75,1])\n",
    "# In terms of Speed, the median Speed of the legendaries is 99.0. Minimum and maximum values are 50 and 150.0. \\\n",
    "# The IQR is between 90.0 and 108.0 i.e. bulk of Legendaries have Speed between these 2 values. \n",
    "# One outlier Pokemon below the boxplot whisker has a speed of 50.\n",
    "# One outlier Pokemon above the boxplot whiskey has a speed of 150."
   ]
  },
  {
   "cell_type": "code",
   "execution_count": 44,
   "metadata": {},
   "outputs": [
    {
     "data": {
      "text/plain": [
       "0.00    0.000\n",
       "0.25    0.625\n",
       "0.50    1.000\n",
       "0.75    1.000\n",
       "1.00    1.000\n",
       "Name: Pr_Male, dtype: float64"
      ]
     },
     "execution_count": 44,
     "metadata": {},
     "output_type": "execute_result"
    },
    {
     "data": {
      "image/png": "[encoded data removed]",
      "text/plain": [
       "<Figure size 1440x216 with 1 Axes>"
      ]
     },
     "metadata": {},
     "output_type": "display_data"
    }
   ],
   "source": [
    "\n",
    "ax = sns.boxplot(x=legend_df[\"Pr_Male\"])\n",
    "legend_df.Pr_Male.quantile([0,0.25,0.5,0.75,1])\n",
    "# In terms of Pr_Male, the median Pr_Male of the legendaries is 1.000 i.e. more than half of legendaries are definitely Male. \n",
    "# Minimum and maximum values are 0 and 1. \n",
    "# The IQR is between 0.625 and 1.000 i.e. bulk of Legendaries have Pr_Male between these 2 values. \n",
    "# One outlier Legendary Pokemon has 0 probability of being Male."
   ]
  },
  {
   "cell_type": "code",
   "execution_count": 45,
   "metadata": {},
   "outputs": [
    {
     "data": {
      "text/plain": [
       "0.00    0.20\n",
       "0.25    1.50\n",
       "0.50    1.96\n",
       "0.75    3.20\n",
       "1.00    7.01\n",
       "Name: Height_m, dtype: float64"
      ]
     },
     "execution_count": 45,
     "metadata": {},
     "output_type": "execute_result"
    },
    {
     "data": {
      "image/png": "[encoded data removed]",
      "text/plain": [
       "<Figure size 1440x216 with 1 Axes>"
      ]
     },
     "metadata": {},
     "output_type": "display_data"
    }
   ],
   "source": [
    "\n",
    "ax = sns.boxplot(x=legend_df[\"Height_m\"])\n",
    "legend_df.Height_m.quantile([0,0.25,0.5,0.75,1])\n",
    "# In terms of Height_m, the median Height_m of the legendaries is1.96. Minimum and maximum values are 0.20 and 7.01. \\\n",
    "# The IQR is between 1.50 and 3.20 i.e. bulk of Legendaries have Height_m between these 2 values. \n",
    "# Three pokemons have outlier heights greater than the boxplot whiskers"
   ]
  },
  {
   "cell_type": "code",
   "execution_count": 46,
   "metadata": {},
   "outputs": [
    {
     "data": {
      "text/plain": [
       "0.00      0.30\n",
       "0.25     56.55\n",
       "0.50    196.50\n",
       "0.75    293.75\n",
       "1.00    950.00\n",
       "Name: Weight_kg, dtype: float64"
      ]
     },
     "execution_count": 46,
     "metadata": {},
     "output_type": "execute_result"
    },
    {
     "data": {
      "image/png": "[encoded data removed]",
      "text/plain": [
       "<Figure size 1440x216 with 1 Axes>"
      ]
     },
     "metadata": {},
     "output_type": "display_data"
    }
   ],
   "source": [
    "ax = sns.boxplot(x=legend_df[\"Weight_kg\"])\n",
    "legend_df.Weight_kg.quantile([0,0.25,0.5,0.75,1])\n",
    "# In terms of Weight_kg, the median Weight_kg of the legendaries is 196.50. Minimum and maximum values are 0.30 and 950.00. \\\n",
    "# The IQR is between 56.55 and 293.75 i.e. bulk of Legendaries have Weight_kg between these 2 values. \n",
    "# Three pokemons have outlier weights greater than the boxplot whiskers (maybe these are the three pokemons who have outlier heights?)"
   ]
  },
  {
   "cell_type": "code",
   "execution_count": 47,
   "metadata": {},
   "outputs": [
    {
     "data": {
      "text/plain": [
       "0.00     3.0\n",
       "0.25     3.0\n",
       "0.50     3.0\n",
       "0.75     3.0\n",
       "1.00    45.0\n",
       "Name: Catch_Rate, dtype: float64"
      ]
     },
     "execution_count": 47,
     "metadata": {},
     "output_type": "execute_result"
    },
    {
     "data": {
      "image/png": "[encoded data removed]",
      "text/plain": [
       "<Figure size 1440x216 with 1 Axes>"
      ]
     },
     "metadata": {},
     "output_type": "display_data"
    }
   ],
   "source": [
    "\n",
    "ax = sns.boxplot(x=legend_df[\"Catch_Rate\"])\n",
    "legend_df.Catch_Rate.quantile([0,0.25,0.5,0.75,1]) #lol there are only 2 values so I guess for the purposes of this dataset, this shouldnt be boxplotted"
   ]
  },
  {
   "cell_type": "markdown",
   "metadata": {},
   "source": [
    "### 5. Solve for the probabilities of each Pokemon being a Fire Type. ( 2pts )"
   ]
  },
  {
   "cell_type": "code",
   "execution_count": 48,
   "metadata": {},
   "outputs": [
    {
     "data": {
      "text/html": [
       "<div>\n",
       "<style scoped>\n",
       "    .dataframe tbody tr th:only-of-type {\n",
       "        vertical-align: middle;\n",
       "    }\n",
       "\n",
       "    .dataframe tbody tr th {\n",
       "        vertical-align: top;\n",
       "    }\n",
       "\n",
       "    .dataframe thead th {\n",
       "        text-align: right;\n",
       "    }\n",
       "</style>\n",
       "<table border=\"1\" class=\"dataframe\">\n",
       "  <thead>\n",
       "    <tr style=\"text-align: right;\">\n",
       "      <th></th>\n",
       "      <th>Name</th>\n",
       "      <th>is_fire_type</th>\n",
       "      <th>prob</th>\n",
       "    </tr>\n",
       "  </thead>\n",
       "  <tbody>\n",
       "    <tr>\n",
       "      <th>0</th>\n",
       "      <td>Bulbasaur</td>\n",
       "      <td>0</td>\n",
       "      <td>0.104104</td>\n",
       "    </tr>\n",
       "    <tr>\n",
       "      <th>1</th>\n",
       "      <td>Ivysaur</td>\n",
       "      <td>0</td>\n",
       "      <td>0.121351</td>\n",
       "    </tr>\n",
       "    <tr>\n",
       "      <th>2</th>\n",
       "      <td>Venusaur</td>\n",
       "      <td>0</td>\n",
       "      <td>0.145377</td>\n",
       "    </tr>\n",
       "    <tr>\n",
       "      <th>3</th>\n",
       "      <td>Charmander</td>\n",
       "      <td>1</td>\n",
       "      <td>0.840050</td>\n",
       "    </tr>\n",
       "    <tr>\n",
       "      <th>4</th>\n",
       "      <td>Charmeleon</td>\n",
       "      <td>1</td>\n",
       "      <td>0.882813</td>\n",
       "    </tr>\n",
       "    <tr>\n",
       "      <th>5</th>\n",
       "      <td>Charizard</td>\n",
       "      <td>1</td>\n",
       "      <td>0.931889</td>\n",
       "    </tr>\n",
       "    <tr>\n",
       "      <th>6</th>\n",
       "      <td>Squirtle</td>\n",
       "      <td>0</td>\n",
       "      <td>0.007842</td>\n",
       "    </tr>\n",
       "    <tr>\n",
       "      <th>7</th>\n",
       "      <td>Wartortle</td>\n",
       "      <td>0</td>\n",
       "      <td>0.009068</td>\n",
       "    </tr>\n",
       "    <tr>\n",
       "      <th>8</th>\n",
       "      <td>Blastoise</td>\n",
       "      <td>0</td>\n",
       "      <td>0.010622</td>\n",
       "    </tr>\n",
       "    <tr>\n",
       "      <th>9</th>\n",
       "      <td>Caterpie</td>\n",
       "      <td>0</td>\n",
       "      <td>0.012082</td>\n",
       "    </tr>\n",
       "  </tbody>\n",
       "</table>\n",
       "</div>"
      ],
      "text/plain": [
       "         Name  is_fire_type      prob\n",
       "0   Bulbasaur             0  0.104104\n",
       "1     Ivysaur             0  0.121351\n",
       "2    Venusaur             0  0.145377\n",
       "3  Charmander             1  0.840050\n",
       "4  Charmeleon             1  0.882813\n",
       "5   Charizard             1  0.931889\n",
       "6    Squirtle             0  0.007842\n",
       "7   Wartortle             0  0.009068\n",
       "8   Blastoise             0  0.010622\n",
       "9    Caterpie             0  0.012082"
      ]
     },
     "execution_count": 48,
     "metadata": {},
     "output_type": "execute_result"
    }
   ],
   "source": [
    "# Get the probability from the imbalance-trained logistic regression model\n",
    "prob =[x[1] for x in logistic_model.predict_proba(X)]\n",
    "# Output a DF containing pokemon number, name and probability of being a fire type from our trained logistic reg model\n",
    "df_withprob = df.copy()\n",
    "df_withprob['prob'] = prob \n",
    "\n",
    "df_withprob[['Name', 'is_fire_type','prob']].head(10)"
   ]
  },
  {
   "cell_type": "markdown",
   "metadata": {},
   "source": [
    "### 6. What is the accuracy of your model?( 2pts )"
   ]
  },
  {
   "cell_type": "code",
   "execution_count": 49,
   "metadata": {},
   "outputs": [
    {
     "name": "stdout",
     "output_type": "stream",
     "text": [
      "0.8525345622119815\n"
     ]
    }
   ],
   "source": [
    "accuracy = metrics.accuracy_score(predictions,y_test)\n",
    "print(accuracy) #however when looking at the precision and recall, it's quite bad due to the low precision score for the target variable"
   ]
  },
  {
   "cell_type": "markdown",
   "metadata": {},
   "source": [
    "### 7. Apply upsampling for the minority class that is Fire Type and show the change in Accuracy and Precision. ( 3pts )"
   ]
  },
  {
   "cell_type": "code",
   "execution_count": 50,
   "metadata": {},
   "outputs": [
    {
     "data": {
      "text/html": [
       "<div>\n",
       "<style scoped>\n",
       "    .dataframe tbody tr th:only-of-type {\n",
       "        vertical-align: middle;\n",
       "    }\n",
       "\n",
       "    .dataframe tbody tr th {\n",
       "        vertical-align: top;\n",
       "    }\n",
       "\n",
       "    .dataframe thead th {\n",
       "        text-align: right;\n",
       "    }\n",
       "</style>\n",
       "<table border=\"1\" class=\"dataframe\">\n",
       "  <thead>\n",
       "    <tr style=\"text-align: right;\">\n",
       "      <th></th>\n",
       "      <th>Total</th>\n",
       "      <th>HP</th>\n",
       "      <th>Attack</th>\n",
       "      <th>Defense</th>\n",
       "      <th>Sp_Atk</th>\n",
       "      <th>Sp_Def</th>\n",
       "      <th>Speed</th>\n",
       "      <th>Color_Black</th>\n",
       "      <th>Color_Blue</th>\n",
       "      <th>Color_Brown</th>\n",
       "      <th>...</th>\n",
       "      <th>Body_Style_head_arms</th>\n",
       "      <th>Body_Style_head_base</th>\n",
       "      <th>Body_Style_head_legs</th>\n",
       "      <th>Body_Style_head_only</th>\n",
       "      <th>Body_Style_insectoid</th>\n",
       "      <th>Body_Style_multiple_bodies</th>\n",
       "      <th>Body_Style_quadruped</th>\n",
       "      <th>Body_Style_serpentine_body</th>\n",
       "      <th>Body_Style_several_limbs</th>\n",
       "      <th>Body_Style_two_wings</th>\n",
       "    </tr>\n",
       "  </thead>\n",
       "  <tbody>\n",
       "    <tr>\n",
       "      <th>0</th>\n",
       "      <td>-0.912018</td>\n",
       "      <td>-0.905138</td>\n",
       "      <td>-0.898134</td>\n",
       "      <td>-0.744925</td>\n",
       "      <td>-0.129931</td>\n",
       "      <td>-0.158953</td>\n",
       "      <td>-0.759906</td>\n",
       "      <td>0</td>\n",
       "      <td>0</td>\n",
       "      <td>0</td>\n",
       "      <td>...</td>\n",
       "      <td>0</td>\n",
       "      <td>0</td>\n",
       "      <td>0</td>\n",
       "      <td>0</td>\n",
       "      <td>0</td>\n",
       "      <td>0</td>\n",
       "      <td>1</td>\n",
       "      <td>0</td>\n",
       "      <td>0</td>\n",
       "      <td>0</td>\n",
       "    </tr>\n",
       "    <tr>\n",
       "      <th>1</th>\n",
       "      <td>-0.118133</td>\n",
       "      <td>-0.324426</td>\n",
       "      <td>-0.449306</td>\n",
       "      <td>-0.266721</td>\n",
       "      <td>0.391481</td>\n",
       "      <td>0.396662</td>\n",
       "      <td>-0.209629</td>\n",
       "      <td>0</td>\n",
       "      <td>0</td>\n",
       "      <td>0</td>\n",
       "      <td>...</td>\n",
       "      <td>0</td>\n",
       "      <td>0</td>\n",
       "      <td>0</td>\n",
       "      <td>0</td>\n",
       "      <td>0</td>\n",
       "      <td>0</td>\n",
       "      <td>1</td>\n",
       "      <td>0</td>\n",
       "      <td>0</td>\n",
       "      <td>0</td>\n",
       "    </tr>\n",
       "    <tr>\n",
       "      <th>2</th>\n",
       "      <td>0.976881</td>\n",
       "      <td>0.449857</td>\n",
       "      <td>0.241197</td>\n",
       "      <td>0.416427</td>\n",
       "      <td>1.086697</td>\n",
       "      <td>1.137482</td>\n",
       "      <td>0.524073</td>\n",
       "      <td>0</td>\n",
       "      <td>0</td>\n",
       "      <td>0</td>\n",
       "      <td>...</td>\n",
       "      <td>0</td>\n",
       "      <td>0</td>\n",
       "      <td>0</td>\n",
       "      <td>0</td>\n",
       "      <td>0</td>\n",
       "      <td>0</td>\n",
       "      <td>1</td>\n",
       "      <td>0</td>\n",
       "      <td>0</td>\n",
       "      <td>0</td>\n",
       "    </tr>\n",
       "    <tr>\n",
       "      <th>3</th>\n",
       "      <td>-0.994145</td>\n",
       "      <td>-1.137423</td>\n",
       "      <td>-0.794558</td>\n",
       "      <td>-0.949869</td>\n",
       "      <td>-0.303735</td>\n",
       "      <td>-0.714567</td>\n",
       "      <td>-0.026204</td>\n",
       "      <td>0</td>\n",
       "      <td>0</td>\n",
       "      <td>0</td>\n",
       "      <td>...</td>\n",
       "      <td>0</td>\n",
       "      <td>0</td>\n",
       "      <td>0</td>\n",
       "      <td>0</td>\n",
       "      <td>0</td>\n",
       "      <td>0</td>\n",
       "      <td>0</td>\n",
       "      <td>0</td>\n",
       "      <td>0</td>\n",
       "      <td>0</td>\n",
       "    </tr>\n",
       "    <tr>\n",
       "      <th>4</th>\n",
       "      <td>-0.118133</td>\n",
       "      <td>-0.401854</td>\n",
       "      <td>-0.380256</td>\n",
       "      <td>-0.437508</td>\n",
       "      <td>0.391481</td>\n",
       "      <td>-0.158953</td>\n",
       "      <td>0.524073</td>\n",
       "      <td>0</td>\n",
       "      <td>0</td>\n",
       "      <td>0</td>\n",
       "      <td>...</td>\n",
       "      <td>0</td>\n",
       "      <td>0</td>\n",
       "      <td>0</td>\n",
       "      <td>0</td>\n",
       "      <td>0</td>\n",
       "      <td>0</td>\n",
       "      <td>0</td>\n",
       "      <td>0</td>\n",
       "      <td>0</td>\n",
       "      <td>0</td>\n",
       "    </tr>\n",
       "    <tr>\n",
       "      <th>...</th>\n",
       "      <td>...</td>\n",
       "      <td>...</td>\n",
       "      <td>...</td>\n",
       "      <td>...</td>\n",
       "      <td>...</td>\n",
       "      <td>...</td>\n",
       "      <td>...</td>\n",
       "      <td>...</td>\n",
       "      <td>...</td>\n",
       "      <td>...</td>\n",
       "      <td>...</td>\n",
       "      <td>...</td>\n",
       "      <td>...</td>\n",
       "      <td>...</td>\n",
       "      <td>...</td>\n",
       "      <td>...</td>\n",
       "      <td>...</td>\n",
       "      <td>...</td>\n",
       "      <td>...</td>\n",
       "      <td>...</td>\n",
       "      <td>...</td>\n",
       "    </tr>\n",
       "    <tr>\n",
       "      <th>716</th>\n",
       "      <td>2.391275</td>\n",
       "      <td>2.230709</td>\n",
       "      <td>1.932931</td>\n",
       "      <td>0.826315</td>\n",
       "      <td>2.164282</td>\n",
       "      <td>1.063400</td>\n",
       "      <td>1.221091</td>\n",
       "      <td>0</td>\n",
       "      <td>0</td>\n",
       "      <td>0</td>\n",
       "      <td>...</td>\n",
       "      <td>0</td>\n",
       "      <td>0</td>\n",
       "      <td>0</td>\n",
       "      <td>0</td>\n",
       "      <td>0</td>\n",
       "      <td>0</td>\n",
       "      <td>0</td>\n",
       "      <td>0</td>\n",
       "      <td>0</td>\n",
       "      <td>1</td>\n",
       "    </tr>\n",
       "    <tr>\n",
       "      <th>717</th>\n",
       "      <td>1.661266</td>\n",
       "      <td>1.533854</td>\n",
       "      <td>0.862651</td>\n",
       "      <td>1.714408</td>\n",
       "      <td>0.426242</td>\n",
       "      <td>0.952277</td>\n",
       "      <td>1.074350</td>\n",
       "      <td>0</td>\n",
       "      <td>0</td>\n",
       "      <td>0</td>\n",
       "      <td>...</td>\n",
       "      <td>0</td>\n",
       "      <td>0</td>\n",
       "      <td>0</td>\n",
       "      <td>0</td>\n",
       "      <td>0</td>\n",
       "      <td>0</td>\n",
       "      <td>0</td>\n",
       "      <td>1</td>\n",
       "      <td>0</td>\n",
       "      <td>0</td>\n",
       "    </tr>\n",
       "    <tr>\n",
       "      <th>718</th>\n",
       "      <td>1.661266</td>\n",
       "      <td>-0.711567</td>\n",
       "      <td>0.862651</td>\n",
       "      <td>2.704972</td>\n",
       "      <td>1.086697</td>\n",
       "      <td>2.989532</td>\n",
       "      <td>-0.576481</td>\n",
       "      <td>0</td>\n",
       "      <td>0</td>\n",
       "      <td>0</td>\n",
       "      <td>...</td>\n",
       "      <td>1</td>\n",
       "      <td>0</td>\n",
       "      <td>0</td>\n",
       "      <td>0</td>\n",
       "      <td>0</td>\n",
       "      <td>0</td>\n",
       "      <td>0</td>\n",
       "      <td>0</td>\n",
       "      <td>0</td>\n",
       "      <td>0</td>\n",
       "    </tr>\n",
       "    <tr>\n",
       "      <th>719</th>\n",
       "      <td>1.661266</td>\n",
       "      <td>0.449857</td>\n",
       "      <td>1.207902</td>\n",
       "      <td>-0.369194</td>\n",
       "      <td>2.824737</td>\n",
       "      <td>2.248712</td>\n",
       "      <td>0.157222</td>\n",
       "      <td>0</td>\n",
       "      <td>0</td>\n",
       "      <td>0</td>\n",
       "      <td>...</td>\n",
       "      <td>0</td>\n",
       "      <td>0</td>\n",
       "      <td>0</td>\n",
       "      <td>1</td>\n",
       "      <td>0</td>\n",
       "      <td>0</td>\n",
       "      <td>0</td>\n",
       "      <td>0</td>\n",
       "      <td>0</td>\n",
       "      <td>0</td>\n",
       "    </tr>\n",
       "    <tr>\n",
       "      <th>720</th>\n",
       "      <td>1.661266</td>\n",
       "      <td>0.449857</td>\n",
       "      <td>1.207902</td>\n",
       "      <td>1.680250</td>\n",
       "      <td>2.129521</td>\n",
       "      <td>0.767072</td>\n",
       "      <td>0.157222</td>\n",
       "      <td>0</td>\n",
       "      <td>0</td>\n",
       "      <td>1</td>\n",
       "      <td>...</td>\n",
       "      <td>0</td>\n",
       "      <td>0</td>\n",
       "      <td>0</td>\n",
       "      <td>0</td>\n",
       "      <td>0</td>\n",
       "      <td>0</td>\n",
       "      <td>1</td>\n",
       "      <td>0</td>\n",
       "      <td>0</td>\n",
       "      <td>0</td>\n",
       "    </tr>\n",
       "  </tbody>\n",
       "</table>\n",
       "<p>721 rows × 29 columns</p>\n",
       "</div>"
      ],
      "text/plain": [
       "        Total        HP    Attack   Defense    Sp_Atk    Sp_Def     Speed  \\\n",
       "0   -0.912018 -0.905138 -0.898134 -0.744925 -0.129931 -0.158953 -0.759906   \n",
       "1   -0.118133 -0.324426 -0.449306 -0.266721  0.391481  0.396662 -0.209629   \n",
       "2    0.976881  0.449857  0.241197  0.416427  1.086697  1.137482  0.524073   \n",
       "3   -0.994145 -1.137423 -0.794558 -0.949869 -0.303735 -0.714567 -0.026204   \n",
       "4   -0.118133 -0.401854 -0.380256 -0.437508  0.391481 -0.158953  0.524073   \n",
       "..        ...       ...       ...       ...       ...       ...       ...   \n",
       "716  2.391275  2.230709  1.932931  0.826315  2.164282  1.063400  1.221091   \n",
       "717  1.661266  1.533854  0.862651  1.714408  0.426242  0.952277  1.074350   \n",
       "718  1.661266 -0.711567  0.862651  2.704972  1.086697  2.989532 -0.576481   \n",
       "719  1.661266  0.449857  1.207902 -0.369194  2.824737  2.248712  0.157222   \n",
       "720  1.661266  0.449857  1.207902  1.680250  2.129521  0.767072  0.157222   \n",
       "\n",
       "     Color_Black  Color_Blue  Color_Brown  ...  Body_Style_head_arms  \\\n",
       "0              0           0            0  ...                     0   \n",
       "1              0           0            0  ...                     0   \n",
       "2              0           0            0  ...                     0   \n",
       "3              0           0            0  ...                     0   \n",
       "4              0           0            0  ...                     0   \n",
       "..           ...         ...          ...  ...                   ...   \n",
       "716            0           0            0  ...                     0   \n",
       "717            0           0            0  ...                     0   \n",
       "718            0           0            0  ...                     1   \n",
       "719            0           0            0  ...                     0   \n",
       "720            0           0            1  ...                     0   \n",
       "\n",
       "     Body_Style_head_base  Body_Style_head_legs  Body_Style_head_only  \\\n",
       "0                       0                     0                     0   \n",
       "1                       0                     0                     0   \n",
       "2                       0                     0                     0   \n",
       "3                       0                     0                     0   \n",
       "4                       0                     0                     0   \n",
       "..                    ...                   ...                   ...   \n",
       "716                     0                     0                     0   \n",
       "717                     0                     0                     0   \n",
       "718                     0                     0                     0   \n",
       "719                     0                     0                     1   \n",
       "720                     0                     0                     0   \n",
       "\n",
       "     Body_Style_insectoid  Body_Style_multiple_bodies  Body_Style_quadruped  \\\n",
       "0                       0                           0                     1   \n",
       "1                       0                           0                     1   \n",
       "2                       0                           0                     1   \n",
       "3                       0                           0                     0   \n",
       "4                       0                           0                     0   \n",
       "..                    ...                         ...                   ...   \n",
       "716                     0                           0                     0   \n",
       "717                     0                           0                     0   \n",
       "718                     0                           0                     0   \n",
       "719                     0                           0                     0   \n",
       "720                     0                           0                     1   \n",
       "\n",
       "     Body_Style_serpentine_body  Body_Style_several_limbs  \\\n",
       "0                             0                         0   \n",
       "1                             0                         0   \n",
       "2                             0                         0   \n",
       "3                             0                         0   \n",
       "4                             0                         0   \n",
       "..                          ...                       ...   \n",
       "716                           0                         0   \n",
       "717                           1                         0   \n",
       "718                           0                         0   \n",
       "719                           0                         0   \n",
       "720                           0                         0   \n",
       "\n",
       "     Body_Style_two_wings  \n",
       "0                       0  \n",
       "1                       0  \n",
       "2                       0  \n",
       "3                       0  \n",
       "4                       0  \n",
       "..                    ...  \n",
       "716                     1  \n",
       "717                     0  \n",
       "718                     0  \n",
       "719                     0  \n",
       "720                     0  \n",
       "\n",
       "[721 rows x 29 columns]"
      ]
     },
     "execution_count": 50,
     "metadata": {},
     "output_type": "execute_result"
    }
   ],
   "source": [
    "scaled_features.drop(columns=['is_fire_type', 'Pr_Male'])"
   ]
  },
  {
   "cell_type": "code",
   "execution_count": 51,
   "metadata": {},
   "outputs": [
    {
     "data": {
      "text/plain": [
       "0    465\n",
       "1    465\n",
       "Name: is_fire_type, dtype: int64"
      ]
     },
     "execution_count": 51,
     "metadata": {},
     "output_type": "execute_result"
    }
   ],
   "source": [
    "# Trying out using oversampled data in both training and test sets\n",
    "\n",
    "from sklearn.utils import resample\n",
    "\n",
    "X = scaled_features.drop(columns=['is_fire_type', 'Pr_Male'])\n",
    "y = scaled_features[['is_fire_type']]\n",
    "\n",
    "X_train, X_test, Y_train, Y_test = train_test_split(X, \n",
    "                   y, \n",
    "                   test_size=0.3,     \n",
    "                   random_state=42, stratify = y)\n",
    "\n",
    "X = pd.concat([X_train, Y_train], axis=1)\n",
    "\n",
    "# separate minority and majority classes\n",
    "not_firetype = X[X.is_fire_type==False]\n",
    "is_firetype = X[X.is_fire_type==True]\n",
    "\n",
    "# upsample minority\n",
    "firetype_upsampled = resample(is_firetype,\n",
    "                          replace=True, # sample with replacement\n",
    "                          n_samples=len(not_firetype), # match number in majority class\n",
    "                          random_state=42) # reproducible results\n",
    "\n",
    "# combine majority and upsampled minority\n",
    "firetype_upsampled = pd.concat([not_firetype, firetype_upsampled])\n",
    "\n",
    "# check new class counts\n",
    "firetype_upsampled.is_fire_type.value_counts()"
   ]
  },
  {
   "cell_type": "code",
   "execution_count": 52,
   "metadata": {},
   "outputs": [
    {
     "data": {
      "text/plain": [
       "Index(['Total', 'HP', 'Attack', 'Defense', 'Sp_Atk', 'Sp_Def', 'Speed',\n",
       "       'Color_Black', 'Color_Blue', 'Color_Brown', 'Color_Green', 'Color_Pink',\n",
       "       'Color_Purple', 'Color_Red', 'Color_White', 'Color_Yellow',\n",
       "       'Body_Style_bipedal_tailed', 'Body_Style_bipedal_tailless',\n",
       "       'Body_Style_four_wings', 'Body_Style_head_arms', 'Body_Style_head_base',\n",
       "       'Body_Style_head_legs', 'Body_Style_head_only', 'Body_Style_insectoid',\n",
       "       'Body_Style_multiple_bodies', 'Body_Style_quadruped',\n",
       "       'Body_Style_serpentine_body', 'Body_Style_several_limbs',\n",
       "       'Body_Style_two_wings', 'is_fire_type'],\n",
       "      dtype='object')"
      ]
     },
     "execution_count": 52,
     "metadata": {},
     "output_type": "execute_result"
    }
   ],
   "source": [
    "firetype_upsampled.columns"
   ]
  },
  {
   "cell_type": "code",
   "execution_count": 53,
   "metadata": {},
   "outputs": [
    {
     "name": "stderr",
     "output_type": "stream",
     "text": [
      "C:\\Users\\Patrick\\anaconda3\\envs\\gcash_env\\lib\\site-packages\\sklearn\\utils\\validation.py:73: DataConversionWarning: A column-vector y was passed when a 1d array was expected. Please change the shape of y to (n_samples, ), for example using ravel().\n",
      "  return f(**kwargs)\n"
     ]
    }
   ],
   "source": [
    "# Let's try this out \n",
    "# Now we have an upsampled dataframe\n",
    "\n",
    "X_train = firetype_upsampled.drop(columns=['is_fire_type']).values\n",
    "y_train = firetype_upsampled[['is_fire_type']].values\n",
    "\n",
    "logistic_model = LogisticRegression(class_weight=\"balanced\")\n",
    "logistic_model.fit(X_train, y_train)\n",
    "predictions = logistic_model.predict(X_test)\n",
    "\n"
   ]
  },
  {
   "cell_type": "code",
   "execution_count": 54,
   "metadata": {},
   "outputs": [
    {
     "name": "stdout",
     "output_type": "stream",
     "text": [
      "Accuracy: 0.8387096774193549\n",
      "Precision: 0.29545454545454547\n",
      "Recall: 0.7647058823529411\n"
     ]
    }
   ],
   "source": [
    "print(\"Accuracy:\",metrics.accuracy_score(y_test, predictions))\n",
    "print(\"Precision:\",metrics.precision_score(y_test, predictions))\n",
    "print(\"Recall:\",metrics.recall_score(y_test, predictions))"
   ]
  },
  {
   "cell_type": "code",
   "execution_count": 55,
   "metadata": {},
   "outputs": [
    {
     "data": {
      "text/html": [
       "<div>\n",
       "<style scoped>\n",
       "    .dataframe tbody tr th:only-of-type {\n",
       "        vertical-align: middle;\n",
       "    }\n",
       "\n",
       "    .dataframe tbody tr th {\n",
       "        vertical-align: top;\n",
       "    }\n",
       "\n",
       "    .dataframe thead th {\n",
       "        text-align: right;\n",
       "    }\n",
       "</style>\n",
       "<table border=\"1\" class=\"dataframe\">\n",
       "  <thead>\n",
       "    <tr style=\"text-align: right;\">\n",
       "      <th></th>\n",
       "      <th>0</th>\n",
       "      <th>1</th>\n",
       "      <th>accuracy</th>\n",
       "      <th>macro avg</th>\n",
       "      <th>weighted avg</th>\n",
       "    </tr>\n",
       "  </thead>\n",
       "  <tbody>\n",
       "    <tr>\n",
       "      <th>precision</th>\n",
       "      <td>0.976879</td>\n",
       "      <td>0.295455</td>\n",
       "      <td>0.83871</td>\n",
       "      <td>0.636167</td>\n",
       "      <td>0.923495</td>\n",
       "    </tr>\n",
       "    <tr>\n",
       "      <th>recall</th>\n",
       "      <td>0.845000</td>\n",
       "      <td>0.764706</td>\n",
       "      <td>0.83871</td>\n",
       "      <td>0.804853</td>\n",
       "      <td>0.838710</td>\n",
       "    </tr>\n",
       "    <tr>\n",
       "      <th>f1-score</th>\n",
       "      <td>0.906166</td>\n",
       "      <td>0.426230</td>\n",
       "      <td>0.83871</td>\n",
       "      <td>0.666198</td>\n",
       "      <td>0.868567</td>\n",
       "    </tr>\n",
       "    <tr>\n",
       "      <th>support</th>\n",
       "      <td>200.000000</td>\n",
       "      <td>17.000000</td>\n",
       "      <td>0.83871</td>\n",
       "      <td>217.000000</td>\n",
       "      <td>217.000000</td>\n",
       "    </tr>\n",
       "  </tbody>\n",
       "</table>\n",
       "</div>"
      ],
      "text/plain": [
       "                    0          1  accuracy   macro avg  weighted avg\n",
       "precision    0.976879   0.295455   0.83871    0.636167      0.923495\n",
       "recall       0.845000   0.764706   0.83871    0.804853      0.838710\n",
       "f1-score     0.906166   0.426230   0.83871    0.666198      0.868567\n",
       "support    200.000000  17.000000   0.83871  217.000000    217.000000"
      ]
     },
     "execution_count": 55,
     "metadata": {},
     "output_type": "execute_result"
    },
    {
     "data": {
      "image/png": "[encoded data removed]",
      "text/plain": [
       "<Figure size 1440x216 with 2 Axes>"
      ]
     },
     "metadata": {},
     "output_type": "display_data"
    }
   ],
   "source": [
    "# Nicee precision improved! Let's plot the confusion matrix and precision_score\n",
    "cf_matrix = confusion_matrix(y_test, predictions)\n",
    "sns.heatmap(cf_matrix, annot=True, cmap='Blues', fmt='g')\n",
    "pd.DataFrame(classification_report(y_test,predictions,output_dict=True))"
   ]
  },
  {
   "attachments": {
    "e9f9a4bf-dc11-421e-a07b-e456d0515c0a.png": {
     "image/png": "[encoded data removed]"
    }
   },
   "cell_type": "markdown",
   "metadata": {},
   "source": [
    "We can notice that the precision and recall rates have improved greatly once we incorporated upsampling. The image below shoes the original precision and recall scores we got from an imbalanced dataset.\n",
    "\n",
    "![image.png](attachment:e9f9a4bf-dc11-421e-a07b-e456d0515c0a.png)"
   ]
  },
  {
   "cell_type": "markdown",
   "metadata": {},
   "source": [
    "This the Accuracy, Precision and Recall Score that we got after oversampling."
   ]
  },
  {
   "attachments": {
    "25f3d793-6124-4b56-998b-08f723041bc1.png": {
     "image/png": "[encoded data removed]"
    }
   },
   "cell_type": "markdown",
   "metadata": {},
   "source": [
    "![image.png](attachment:25f3d793-6124-4b56-998b-08f723041bc1.png)"
   ]
  },
  {
   "cell_type": "markdown",
   "metadata": {},
   "source": [
    "From the results, we can observe that this is not a great model as the performance w/ the test data was not improved after oversampling.\n",
    "\n",
    "In terms of model performance, we could probably improve this model by using feature selection techniques and hyperparameter tuning. But due to the scope of this lesson, I think that this is a sufficient model in terms of highlighting the value of knowing what to do with imbalanced datasets and binary classification problems using logreg."
   ]
  },
  {
   "cell_type": "code",
   "execution_count": 56,
   "metadata": {},
   "outputs": [],
   "source": [
    "# Try using smote\n",
    "# Trying out using oversampled data in both training and test sets\n",
    "\n",
    "from imblearn.over_sampling import SMOTE\n",
    "\n",
    "X = scaled_features.drop(columns=['is_fire_type', 'Pr_Male']).values\n",
    "y = scaled_features[['is_fire_type']].values\n",
    "\n",
    "X_train, X_test, y_train, y_test = train_test_split(X,y,test_size = 0.30, random_state=42)\n"
   ]
  },
  {
   "cell_type": "code",
   "execution_count": 57,
   "metadata": {},
   "outputs": [],
   "source": [
    "sm = SMOTE(random_state=12)\n",
    "x_train_res, y_train_res = sm.fit_sample(X_train, y_train)"
   ]
  },
  {
   "cell_type": "code",
   "execution_count": 58,
   "metadata": {},
   "outputs": [],
   "source": [
    "logistic_model = LogisticRegression(class_weight=\"balanced\")\n",
    "logistic_model.fit(x_train_res, y_train_res)\n",
    "predictions = logistic_model.predict(X_test)"
   ]
  },
  {
   "cell_type": "code",
   "execution_count": 59,
   "metadata": {},
   "outputs": [
    {
     "name": "stdout",
     "output_type": "stream",
     "text": [
      "Accuracy: 0.8847926267281107\n",
      "Precision: 0.34210526315789475\n",
      "Recall: 1.0\n"
     ]
    }
   ],
   "source": [
    "print(\"Accuracy:\",metrics.accuracy_score(y_test, predictions))\n",
    "print(\"Precision:\",metrics.precision_score(y_test, predictions))\n",
    "print(\"Recall:\",metrics.recall_score(y_test, predictions))\n",
    "\n",
    "# It seems that the model performed slightly better after using SMOTE as the oversampling method -- The general low precision score\n",
    "# might be because inherently, the features and hyperparameters used during model building might not be suitable for predicting whether \n",
    "# a Pokemon is fire type or not"
   ]
  },
  {
   "cell_type": "code",
   "execution_count": null,
   "metadata": {
    "jupyter": {
     "source_hidden": true
    },
    "tags": []
   },
   "outputs": [],
   "source": []
  }
 ],
 "metadata": {
  "kernelspec": {
   "display_name": "Python 3",
   "language": "python",
   "name": "python3"
  },
  "language_info": {
   "codemirror_mode": {
    "name": "ipython",
    "version": 3
   },
   "file_extension": ".py",
   "mimetype": "text/x-python",
   "name": "python",
   "nbconvert_exporter": "python",
   "pygments_lexer": "ipython3",
   "version": "3.7.10"
  }
 },
 "nbformat": 4,
 "nbformat_minor": 4
}
