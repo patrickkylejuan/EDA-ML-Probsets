{
 "cells": [
  {
   "cell_type": "markdown",
   "metadata": {},
   "source": [
    "# EDA Class - Final Project - Flags "
   ]
  },
  {
   "cell_type": "markdown",
   "metadata": {},
   "source": [
    "Pick a dataset.\n",
    "\n",
    "Your objective is to extract at least 3 insights. \n",
    "\n",
    "These insights should be more interesting and complex than simple descriptive statistics. Datasets from AWS' Open Data often have a main theme, so try to work with these. Use any or all analytical tools that you learned over the past few weeks, whether transformative (ex. TFIDF, vectorization, etc.) descriptive (find any interesting clustering in the data?) and/or predictive (ex. \"Will COVID end soon? Lol\"). \n",
    "\n",
    "Your project will be evaluated based on how creative your insights are, how difficult the methods you used are, and the quality of the questions you ask. \n",
    "Submit all your work in Jupyter notebook."
   ]
  },
  {
   "cell_type": "markdown",
   "metadata": {},
   "source": [
    "## The Dataset"
   ]
  },
  {
   "cell_type": "markdown",
   "metadata": {},
   "source": [
    "### Context\n",
    "This is anonymized sales data from a certain PH company.\n",
    "\n",
    "#### Content\n",
    "This dataset includes about 40,000 rows and 15 feature variables. Each row corresponds to a customer infomation, and includes the variables:\n",
    "\n",
    "**flag:** Whether the customer has bought the target product or not <br/>\n",
    "**gender:** Gender of the customer <br/>\n",
    "**education:** Education background of customer <br/>\n",
    "**house_val:** Value of the residence the customer lives in <br/>\n",
    "**age:** Age of the customer by group <br/>\n",
    "**online:** Whether the customer had online shopping experience or not <br/>\n",
    "**customer_psy:** Variable describing consumer psychology based on the area of residence <br/>\n",
    "**marriage:** Marriage status of the customer <br/>\n",
    "**children:** Whether the customer has children or not <br/>\n",
    "**occupation:** Career information of the customer <br/>\n",
    "**mortgage:** Housing Loan Information of customers <br/>\n",
    "**house_own:** Whether the customer owns a house or not <br/>\n",
    "**region:** Information on the area in which the customer are located <br/>\n",
    "**car_prob:** The probability that the customer will buy a new car (1 means the maximum possible）<br/>\n",
    "**fam_income:** Family income Information of the customer (A means the lowest, and L means the highest) <br/>"
   ]
  },
  {
   "cell_type": "markdown",
   "metadata": {},
   "source": [
    "## Motivation + Guide Questions"
   ]
  },
  {
   "cell_type": "markdown",
   "metadata": {},
   "source": [
    "This is an interesting dataset as this is real world data. I'll attempt to simulate corporate data science by leveraging skills learned from the class to extract valuable insights from this dataset.\n",
    "For the guide questions, I was thinking of doing the following:\n",
    "- Clean the dataset and do preliminary EDA \n",
    "- Building a machine learning model that can predict whether or not a customer avails a product\n",
    "- Segregate customers who availed the product into target groups \n",
    "- Analyze the formed clusters"
   ]
  },
  {
   "cell_type": "markdown",
   "metadata": {},
   "source": [
    "## 1. Dataset Cleaning and Exploratory Data Analysis (EDA)"
   ]
  },
  {
   "cell_type": "code",
   "execution_count": 2,
   "metadata": {},
   "outputs": [],
   "source": [
    "import bamboolib as bam"
   ]
  },
  {
   "cell_type": "markdown",
   "metadata": {},
   "source": [
    "bamboolib documentation: https://docs.bamboolib.8080labs.com/"
   ]
  },
  {
   "cell_type": "code",
   "execution_count": 3,
   "metadata": {},
   "outputs": [],
   "source": [
    "import matplotlib.pyplot as plt\n",
    "import pandas as pd\n",
    "import numpy as np\n",
    "import seaborn as sns\n",
    "from sklearn import preprocessing\n",
    "from xgboost import XGBClassifier\n",
    "from kmodes.kmodes import KModes\n",
    "from sklearn.model_selection import train_test_split\n",
    "from sklearn.model_selection import GridSearchCV\n",
    "from sklearn.model_selection import StratifiedKFold\n",
    "from sklearn.metrics import confusion_matrix\n",
    "from sklearn.metrics import classification_report\n",
    "from sklearn.metrics import accuracy_score"
   ]
  },
  {
   "cell_type": "code",
   "execution_count": 7,
   "metadata": {},
   "outputs": [],
   "source": [
    "# Loading the dataset\n",
    "sales_df = pd.read_csv(\"data/sales_data.csv\")"
   ]
  },
  {
   "cell_type": "code",
   "execution_count": 8,
   "metadata": {},
   "outputs": [
    {
     "data": {
      "application/vnd.jupyter.widget-view+json": {
       "model_id": "0478269f0ac24c408d9e40fcda72717c"
      },
      "text/html": [
       "<div>\n",
       "<style scoped>\n",
       "    .dataframe tbody tr th:only-of-type {\n",
       "        vertical-align: middle;\n",
       "    }\n",
       "\n",
       "    .dataframe tbody tr th {\n",
       "        vertical-align: top;\n",
       "    }\n",
       "\n",
       "    .dataframe thead th {\n",
       "        text-align: right;\n",
       "    }\n",
       "</style>\n",
       "<table border=\"1\" class=\"dataframe\">\n",
       "  <thead>\n",
       "    <tr style=\"text-align: right;\">\n",
       "      <th></th>\n",
       "      <th>flag</th>\n",
       "      <th>gender</th>\n",
       "      <th>education</th>\n",
       "      <th>house_val</th>\n",
       "      <th>age</th>\n",
       "      <th>online</th>\n",
       "      <th>customer_psy</th>\n",
       "      <th>marriage</th>\n",
       "      <th>child</th>\n",
       "      <th>occupation</th>\n",
       "      <th>mortgage</th>\n",
       "      <th>house_owner</th>\n",
       "      <th>region</th>\n",
       "      <th>car_prob</th>\n",
       "      <th>fam_income</th>\n",
       "    </tr>\n",
       "  </thead>\n",
       "  <tbody>\n",
       "    <tr>\n",
       "      <th>0</th>\n",
       "      <td>Y</td>\n",
       "      <td>M</td>\n",
       "      <td>4. Grad</td>\n",
       "      <td>756460</td>\n",
       "      <td>1_Unk</td>\n",
       "      <td>N</td>\n",
       "      <td>B</td>\n",
       "      <td>NaN</td>\n",
       "      <td>U</td>\n",
       "      <td>Professional</td>\n",
       "      <td>1Low</td>\n",
       "      <td>NaN</td>\n",
       "      <td>Midwest</td>\n",
       "      <td>1</td>\n",
       "      <td>L</td>\n",
       "    </tr>\n",
       "    <tr>\n",
       "      <th>1</th>\n",
       "      <td>N</td>\n",
       "      <td>F</td>\n",
       "      <td>3. Bach</td>\n",
       "      <td>213171</td>\n",
       "      <td>7_&gt;65</td>\n",
       "      <td>N</td>\n",
       "      <td>E</td>\n",
       "      <td>NaN</td>\n",
       "      <td>U</td>\n",
       "      <td>Professional</td>\n",
       "      <td>1Low</td>\n",
       "      <td>Owner</td>\n",
       "      <td>Northeast</td>\n",
       "      <td>3</td>\n",
       "      <td>G</td>\n",
       "    </tr>\n",
       "    <tr>\n",
       "      <th>2</th>\n",
       "      <td>N</td>\n",
       "      <td>M</td>\n",
       "      <td>2. Some College</td>\n",
       "      <td>111147</td>\n",
       "      <td>2_&lt;=25</td>\n",
       "      <td>Y</td>\n",
       "      <td>C</td>\n",
       "      <td>NaN</td>\n",
       "      <td>Y</td>\n",
       "      <td>Professional</td>\n",
       "      <td>1Low</td>\n",
       "      <td>Owner</td>\n",
       "      <td>Midwest</td>\n",
       "      <td>1</td>\n",
       "      <td>J</td>\n",
       "    </tr>\n",
       "    <tr>\n",
       "      <th>3</th>\n",
       "      <td>Y</td>\n",
       "      <td>M</td>\n",
       "      <td>2. Some College</td>\n",
       "      <td>354151</td>\n",
       "      <td>2_&lt;=25</td>\n",
       "      <td>Y</td>\n",
       "      <td>B</td>\n",
       "      <td>Single</td>\n",
       "      <td>U</td>\n",
       "      <td>Sales/Service</td>\n",
       "      <td>1Low</td>\n",
       "      <td>NaN</td>\n",
       "      <td>West</td>\n",
       "      <td>2</td>\n",
       "      <td>L</td>\n",
       "    </tr>\n",
       "    <tr>\n",
       "      <th>4</th>\n",
       "      <td>Y</td>\n",
       "      <td>F</td>\n",
       "      <td>2. Some College</td>\n",
       "      <td>117087</td>\n",
       "      <td>1_Unk</td>\n",
       "      <td>Y</td>\n",
       "      <td>J</td>\n",
       "      <td>Married</td>\n",
       "      <td>Y</td>\n",
       "      <td>Sales/Service</td>\n",
       "      <td>1Low</td>\n",
       "      <td>NaN</td>\n",
       "      <td>South</td>\n",
       "      <td>7</td>\n",
       "      <td>H</td>\n",
       "    </tr>\n",
       "  </tbody>\n",
       "</table>\n",
       "</div>"
      ],
      "text/plain": [
       "  flag gender        education  house_val     age online customer_psy  \\\n",
       "0    Y      M          4. Grad     756460   1_Unk      N            B   \n",
       "1    N      F          3. Bach     213171   7_>65      N            E   \n",
       "2    N      M  2. Some College     111147  2_<=25      Y            C   \n",
       "3    Y      M  2. Some College     354151  2_<=25      Y            B   \n",
       "4    Y      F  2. Some College     117087   1_Unk      Y            J   \n",
       "\n",
       "  marriage child     occupation mortgage house_owner     region  car_prob  \\\n",
       "0      NaN     U   Professional     1Low         NaN    Midwest         1   \n",
       "1      NaN     U   Professional     1Low       Owner  Northeast         3   \n",
       "2      NaN     Y   Professional     1Low       Owner    Midwest         1   \n",
       "3   Single     U  Sales/Service     1Low         NaN       West         2   \n",
       "4  Married     Y  Sales/Service     1Low         NaN      South         7   \n",
       "\n",
       "  fam_income  \n",
       "0          L  \n",
       "1          G  \n",
       "2          J  \n",
       "3          L  \n",
       "4          H  "
      ]
     },
     "metadata": {},
     "output_type": "display_data"
    }
   ],
   "source": [
    "sales_df.head(5)"
   ]
  },
  {
   "cell_type": "code",
   "execution_count": 9,
   "metadata": {},
   "outputs": [
    {
     "data": {
      "application/vnd.jupyter.widget-view+json": {
       "model_id": "b5a7c4bad77f4d559ae6dc0c1ffb327d"
      },
      "text/html": [
       "<div>\n",
       "<style scoped>\n",
       "    .dataframe tbody tr th:only-of-type {\n",
       "        vertical-align: middle;\n",
       "    }\n",
       "\n",
       "    .dataframe tbody tr th {\n",
       "        vertical-align: top;\n",
       "    }\n",
       "\n",
       "    .dataframe thead th {\n",
       "        text-align: right;\n",
       "    }\n",
       "</style>\n",
       "<table border=\"1\" class=\"dataframe\">\n",
       "  <thead>\n",
       "    <tr style=\"text-align: right;\">\n",
       "      <th></th>\n",
       "      <th>flag</th>\n",
       "      <th>gender</th>\n",
       "      <th>education</th>\n",
       "      <th>house_val</th>\n",
       "      <th>age</th>\n",
       "      <th>online</th>\n",
       "      <th>customer_psy</th>\n",
       "      <th>marriage</th>\n",
       "      <th>child</th>\n",
       "      <th>occupation</th>\n",
       "      <th>mortgage</th>\n",
       "      <th>house_owner</th>\n",
       "      <th>region</th>\n",
       "      <th>car_prob</th>\n",
       "      <th>fam_income</th>\n",
       "    </tr>\n",
       "  </thead>\n",
       "  <tbody>\n",
       "    <tr>\n",
       "      <th>0</th>\n",
       "      <td>Y</td>\n",
       "      <td>M</td>\n",
       "      <td>4. Grad</td>\n",
       "      <td>756460</td>\n",
       "      <td>1_Unk</td>\n",
       "      <td>N</td>\n",
       "      <td>B</td>\n",
       "      <td>NaN</td>\n",
       "      <td>U</td>\n",
       "      <td>Professional</td>\n",
       "      <td>1Low</td>\n",
       "      <td>NaN</td>\n",
       "      <td>Midwest</td>\n",
       "      <td>1</td>\n",
       "      <td>L</td>\n",
       "    </tr>\n",
       "    <tr>\n",
       "      <th>1</th>\n",
       "      <td>N</td>\n",
       "      <td>F</td>\n",
       "      <td>3. Bach</td>\n",
       "      <td>213171</td>\n",
       "      <td>7_&gt;65</td>\n",
       "      <td>N</td>\n",
       "      <td>E</td>\n",
       "      <td>NaN</td>\n",
       "      <td>U</td>\n",
       "      <td>Professional</td>\n",
       "      <td>1Low</td>\n",
       "      <td>Owner</td>\n",
       "      <td>Northeast</td>\n",
       "      <td>3</td>\n",
       "      <td>G</td>\n",
       "    </tr>\n",
       "    <tr>\n",
       "      <th>2</th>\n",
       "      <td>N</td>\n",
       "      <td>M</td>\n",
       "      <td>2. Some College</td>\n",
       "      <td>111147</td>\n",
       "      <td>2_&lt;=25</td>\n",
       "      <td>Y</td>\n",
       "      <td>C</td>\n",
       "      <td>NaN</td>\n",
       "      <td>Y</td>\n",
       "      <td>Professional</td>\n",
       "      <td>1Low</td>\n",
       "      <td>Owner</td>\n",
       "      <td>Midwest</td>\n",
       "      <td>1</td>\n",
       "      <td>J</td>\n",
       "    </tr>\n",
       "    <tr>\n",
       "      <th>3</th>\n",
       "      <td>Y</td>\n",
       "      <td>M</td>\n",
       "      <td>2. Some College</td>\n",
       "      <td>354151</td>\n",
       "      <td>2_&lt;=25</td>\n",
       "      <td>Y</td>\n",
       "      <td>B</td>\n",
       "      <td>Single</td>\n",
       "      <td>U</td>\n",
       "      <td>Sales/Service</td>\n",
       "      <td>1Low</td>\n",
       "      <td>NaN</td>\n",
       "      <td>West</td>\n",
       "      <td>2</td>\n",
       "      <td>L</td>\n",
       "    </tr>\n",
       "    <tr>\n",
       "      <th>4</th>\n",
       "      <td>Y</td>\n",
       "      <td>F</td>\n",
       "      <td>2. Some College</td>\n",
       "      <td>117087</td>\n",
       "      <td>1_Unk</td>\n",
       "      <td>Y</td>\n",
       "      <td>J</td>\n",
       "      <td>Married</td>\n",
       "      <td>Y</td>\n",
       "      <td>Sales/Service</td>\n",
       "      <td>1Low</td>\n",
       "      <td>NaN</td>\n",
       "      <td>South</td>\n",
       "      <td>7</td>\n",
       "      <td>H</td>\n",
       "    </tr>\n",
       "    <tr>\n",
       "      <th>...</th>\n",
       "      <td>...</td>\n",
       "      <td>...</td>\n",
       "      <td>...</td>\n",
       "      <td>...</td>\n",
       "      <td>...</td>\n",
       "      <td>...</td>\n",
       "      <td>...</td>\n",
       "      <td>...</td>\n",
       "      <td>...</td>\n",
       "      <td>...</td>\n",
       "      <td>...</td>\n",
       "      <td>...</td>\n",
       "      <td>...</td>\n",
       "      <td>...</td>\n",
       "      <td>...</td>\n",
       "    </tr>\n",
       "    <tr>\n",
       "      <th>39995</th>\n",
       "      <td>Y</td>\n",
       "      <td>F</td>\n",
       "      <td>3. Bach</td>\n",
       "      <td>0</td>\n",
       "      <td>7_&gt;65</td>\n",
       "      <td>Y</td>\n",
       "      <td>C</td>\n",
       "      <td>NaN</td>\n",
       "      <td>U</td>\n",
       "      <td>Retired</td>\n",
       "      <td>1Low</td>\n",
       "      <td>NaN</td>\n",
       "      <td>South</td>\n",
       "      <td>3</td>\n",
       "      <td>F</td>\n",
       "    </tr>\n",
       "    <tr>\n",
       "      <th>39996</th>\n",
       "      <td>N</td>\n",
       "      <td>F</td>\n",
       "      <td>1. HS</td>\n",
       "      <td>213596</td>\n",
       "      <td>4_&lt;=45</td>\n",
       "      <td>N</td>\n",
       "      <td>I</td>\n",
       "      <td>Married</td>\n",
       "      <td>U</td>\n",
       "      <td>Blue Collar</td>\n",
       "      <td>1Low</td>\n",
       "      <td>Owner</td>\n",
       "      <td>South</td>\n",
       "      <td>1</td>\n",
       "      <td>D</td>\n",
       "    </tr>\n",
       "    <tr>\n",
       "      <th>39997</th>\n",
       "      <td>Y</td>\n",
       "      <td>M</td>\n",
       "      <td>0. &lt;HS</td>\n",
       "      <td>134070</td>\n",
       "      <td>3_&lt;=35</td>\n",
       "      <td>Y</td>\n",
       "      <td>F</td>\n",
       "      <td>Married</td>\n",
       "      <td>U</td>\n",
       "      <td>Sales/Service</td>\n",
       "      <td>1Low</td>\n",
       "      <td>Owner</td>\n",
       "      <td>Midwest</td>\n",
       "      <td>4</td>\n",
       "      <td>E</td>\n",
       "    </tr>\n",
       "    <tr>\n",
       "      <th>39998</th>\n",
       "      <td>N</td>\n",
       "      <td>M</td>\n",
       "      <td>1. HS</td>\n",
       "      <td>402210</td>\n",
       "      <td>7_&gt;65</td>\n",
       "      <td>Y</td>\n",
       "      <td>E</td>\n",
       "      <td>NaN</td>\n",
       "      <td>Y</td>\n",
       "      <td>Sales/Service</td>\n",
       "      <td>1Low</td>\n",
       "      <td>NaN</td>\n",
       "      <td>West</td>\n",
       "      <td>2</td>\n",
       "      <td>B</td>\n",
       "    </tr>\n",
       "    <tr>\n",
       "      <th>39999</th>\n",
       "      <td>N</td>\n",
       "      <td>F</td>\n",
       "      <td>3. Bach</td>\n",
       "      <td>836030</td>\n",
       "      <td>7_&gt;65</td>\n",
       "      <td>Y</td>\n",
       "      <td>B</td>\n",
       "      <td>Married</td>\n",
       "      <td>N</td>\n",
       "      <td>Retired</td>\n",
       "      <td>2Med</td>\n",
       "      <td>Owner</td>\n",
       "      <td>Northeast</td>\n",
       "      <td>1</td>\n",
       "      <td>J</td>\n",
       "    </tr>\n",
       "  </tbody>\n",
       "</table>\n",
       "<p>40000 rows × 15 columns</p>\n",
       "</div>"
      ],
      "text/plain": [
       "      flag gender        education  house_val     age online customer_psy  \\\n",
       "0        Y      M          4. Grad     756460   1_Unk      N            B   \n",
       "1        N      F          3. Bach     213171   7_>65      N            E   \n",
       "2        N      M  2. Some College     111147  2_<=25      Y            C   \n",
       "3        Y      M  2. Some College     354151  2_<=25      Y            B   \n",
       "4        Y      F  2. Some College     117087   1_Unk      Y            J   \n",
       "...    ...    ...              ...        ...     ...    ...          ...   \n",
       "39995    Y      F          3. Bach          0   7_>65      Y            C   \n",
       "39996    N      F            1. HS     213596  4_<=45      N            I   \n",
       "39997    Y      M           0. <HS     134070  3_<=35      Y            F   \n",
       "39998    N      M            1. HS     402210   7_>65      Y            E   \n",
       "39999    N      F          3. Bach     836030   7_>65      Y            B   \n",
       "\n",
       "      marriage child     occupation mortgage house_owner     region  car_prob  \\\n",
       "0          NaN     U   Professional     1Low         NaN    Midwest         1   \n",
       "1          NaN     U   Professional     1Low       Owner  Northeast         3   \n",
       "2          NaN     Y   Professional     1Low       Owner    Midwest         1   \n",
       "3       Single     U  Sales/Service     1Low         NaN       West         2   \n",
       "4      Married     Y  Sales/Service     1Low         NaN      South         7   \n",
       "...        ...   ...            ...      ...         ...        ...       ...   \n",
       "39995      NaN     U        Retired     1Low         NaN      South         3   \n",
       "39996  Married     U    Blue Collar     1Low       Owner      South         1   \n",
       "39997  Married     U  Sales/Service     1Low       Owner    Midwest         4   \n",
       "39998      NaN     Y  Sales/Service     1Low         NaN       West         2   \n",
       "39999  Married     N        Retired     2Med       Owner  Northeast         1   \n",
       "\n",
       "      fam_income  \n",
       "0              L  \n",
       "1              G  \n",
       "2              J  \n",
       "3              L  \n",
       "4              H  \n",
       "...          ...  \n",
       "39995          F  \n",
       "39996          D  \n",
       "39997          E  \n",
       "39998          B  \n",
       "39999          J  \n",
       "\n",
       "[40000 rows x 15 columns]"
      ]
     },
     "metadata": {},
     "output_type": "display_data"
    }
   ],
   "source": [
    "sales_df"
   ]
  },
  {
   "cell_type": "code",
   "execution_count": 10,
   "metadata": {},
   "outputs": [
    {
     "data": {
      "text/plain": [
       "N    20000\n",
       "Y    20000\n",
       "Name: flag, dtype: int64"
      ]
     },
     "execution_count": 10,
     "metadata": {},
     "output_type": "execute_result"
    }
   ],
   "source": [
    "# Checking target class balance\n",
    "sales_df['flag'].value_counts() #balanced "
   ]
  },
  {
   "cell_type": "code",
   "execution_count": 11,
   "metadata": {},
   "outputs": [
    {
     "name": "stdout",
     "output_type": "stream",
     "text": [
      "Unique values per column in sales_df: \n",
      "\n",
      "flag : ['Y' 'N']\n",
      "gender : ['M' 'F' 'U']\n",
      "education : ['4. Grad' '3. Bach' '2. Some College' '1. HS' '0. <HS' nan]\n",
      "house_val : [756460 213171 111147 ... 120630 603554 213596]\n",
      "age : ['1_Unk' '7_>65' '2_<=25' '6_<=65' '5_<=55' '4_<=45' '3_<=35']\n",
      "online : ['N' 'Y']\n",
      "customer_psy : ['B' 'E' 'C' 'J' 'A' 'G' 'F' 'I' 'D' 'H' 'U']\n",
      "marriage : [nan 'Single' 'Married']\n",
      "child : ['U' 'Y' 'N' '0']\n",
      "occupation : ['Professional' 'Sales/Service' 'Blue Collar' 'Others' 'Retired' 'Farm']\n",
      "mortgage : ['1Low' '2Med' '3High']\n",
      "house_owner : [nan 'Owner' 'Renter']\n",
      "region : ['Midwest' 'Northeast' 'West' 'South' 'Rest']\n",
      "car_prob : [1 3 2 7 5 6 9 8 4 0]\n",
      "fam_income : ['L' 'G' 'J' 'H' 'C' 'I' 'D' 'E' 'A' 'F' 'B' 'K' 'U']\n"
     ]
    }
   ],
   "source": [
    "# Printing out unique values in each column to check if there are any values we must convert to np.nan\n",
    "print(\"Unique values per column in sales_df: \\n\")\n",
    "for col in sales_df:\n",
    "    print(f\"{col} : {sales_df[col].unique()}\")"
   ]
  },
  {
   "cell_type": "markdown",
   "metadata": {},
   "source": [
    "We can see that we have to replace the following values for the following columns:\n",
    "- gender: U -> nan\n",
    "- age: 1_Unk -> nan\n",
    "- house value: 0 -> nan\n",
    "- customer_psy: U -> nan\n",
    "- child: U -> nan, $\\;$ 0 -> N\n",
    "- fam_income: U -> nan"
   ]
  },
  {
   "cell_type": "code",
   "execution_count": 12,
   "metadata": {},
   "outputs": [],
   "source": [
    "# For each column, we want to convert every unkown value representation into a uniform np.nan \n",
    "\n",
    "sales_df.loc[sales_df['gender'] == 'U', ['gender']] = np.nan # GENDER COLUMN\n",
    "sales_df.loc[sales_df['age'] == '1_Unk', ['age']] = np.nan # AGE COLUMN\n",
    "sales_df.loc[sales_df['house_val'] == 0, ['house_val']] = np.nan # house value COLUMN\n",
    "sales_df.loc[sales_df['customer_psy'] == 'U', ['customer_psy']] = np.nan # customer_psy COLUMN\n",
    "sales_df.loc[sales_df['child'] == 'U', ['child']] = np.nan # child COLUMN\n",
    "sales_df.loc[sales_df['child'] == 0, ['child']] = 'N' # child COLUMN\n",
    "sales_df.loc[sales_df['fam_income'] == 'U', ['fam_income']] = np.nan # fam income COLUMN\n"
   ]
  },
  {
   "cell_type": "code",
   "execution_count": 13,
   "metadata": {},
   "outputs": [
    {
     "data": {
      "text/plain": [
       "marriage        14027\n",
       "child            8528\n",
       "house_val        7696\n",
       "age              6709\n",
       "house_owner      3377\n",
       "gender           1151\n",
       "education         741\n",
       "fam_income        153\n",
       "customer_psy      127\n",
       "flag                0\n",
       "online              0\n",
       "occupation          0\n",
       "mortgage            0\n",
       "region              0\n",
       "car_prob            0\n",
       "dtype: int64"
      ]
     },
     "execution_count": 13,
     "metadata": {},
     "output_type": "execute_result"
    }
   ],
   "source": [
    "# Checking sum of null values per column\n",
    "sales_df.isnull().sum().sort_values(ascending=False)"
   ]
  },
  {
   "cell_type": "code",
   "execution_count": 14,
   "metadata": {},
   "outputs": [
    {
     "data": {
      "text/plain": [
       "marriage        35.0675\n",
       "child           21.3200\n",
       "house_val       19.2400\n",
       "age             16.7725\n",
       "house_owner      8.4425\n",
       "gender           2.8775\n",
       "education        1.8525\n",
       "fam_income       0.3825\n",
       "customer_psy     0.3175\n",
       "flag             0.0000\n",
       "online           0.0000\n",
       "occupation       0.0000\n",
       "mortgage         0.0000\n",
       "region           0.0000\n",
       "car_prob         0.0000\n",
       "dtype: float64"
      ]
     },
     "execution_count": 14,
     "metadata": {},
     "output_type": "execute_result"
    }
   ],
   "source": [
    "# Checking null values per column in sales_df in terms of percentage\n",
    "sales_df.isnull().mean().sort_values(ascending=False) * 100"
   ]
  },
  {
   "cell_type": "markdown",
   "metadata": {},
   "source": [
    "Null values in the marriage child and age column are all greater than 15%."
   ]
  },
  {
   "cell_type": "code",
   "execution_count": 15,
   "metadata": {},
   "outputs": [],
   "source": [
    "# Dropping marriage, child, house_val and age columns\n",
    "sales_df2 = sales_df.copy().drop('marriage', axis=1)\n",
    "sales_df2 = sales_df2.drop('child', axis=1)\n",
    "sales_df2 = sales_df2.drop('house_val', axis=1)\n",
    "sales_df2 = sales_df2.drop('house_owner', axis=1)\n",
    "sales_df2 = sales_df2.drop('age', axis=1)\n",
    "\n",
    "#sales_df2['house_owner'] = sales_df2['house_owner'].fillna(sales_df2.mode()['house_owner'][0])"
   ]
  },
  {
   "cell_type": "code",
   "execution_count": 16,
   "metadata": {},
   "outputs": [],
   "source": [
    "#Replacing house_owner, gender,education, fam_income and customer_psy with mode \n",
    "#sales_df2['house_owner'] = sales_df2['house_owner'].fillna(sales_df2.mode()['house_owner'][0])\n",
    "# sales_df2['gender'] = sales_df2['gender'].fillna(sales_df2.mode()['gender'][0])\n",
    "# sales_df2['education'] = sales_df2['education'].fillna(sales_df2.mode()['education'][0])\n",
    "# sales_df2['fam_income'] = sales_df2['fam_income'].fillna(sales_df2.mode()['fam_income'][0])\n",
    "# sales_df2['customer_psy'] = sales_df2['customer_psy'].fillna(sales_df2.mode()['customer_psy'][0])"
   ]
  },
  {
   "cell_type": "code",
   "execution_count": 17,
   "metadata": {},
   "outputs": [],
   "source": [
    "sales_df2 = sales_df2.dropna()"
   ]
  },
  {
   "cell_type": "code",
   "execution_count": 18,
   "metadata": {},
   "outputs": [
    {
     "data": {
      "text/plain": [
       "(38022, 10)"
      ]
     },
     "execution_count": 18,
     "metadata": {},
     "output_type": "execute_result"
    }
   ],
   "source": [
    "sales_df2.shape # lost 1978 data points that had either age,gender, education, fam_income or customer_psy as NaN"
   ]
  },
  {
   "cell_type": "markdown",
   "metadata": {},
   "source": [
    "### EDA - Visualizing Summary Statistics"
   ]
  },
  {
   "cell_type": "markdown",
   "metadata": {},
   "source": [
    "Let's generate some important summary statistics from our dataset before we proceed with modeling!"
   ]
  },
  {
   "cell_type": "code",
   "execution_count": 19,
   "metadata": {},
   "outputs": [
    {
     "data": {
      "text/plain": [
       "Index(['flag', 'gender', 'education', 'house_val', 'age', 'online',\n",
       "       'customer_psy', 'marriage', 'child', 'occupation', 'mortgage',\n",
       "       'house_owner', 'region', 'car_prob', 'fam_income'],\n",
       "      dtype='object')"
      ]
     },
     "execution_count": 19,
     "metadata": {},
     "output_type": "execute_result"
    }
   ],
   "source": [
    "sales_df.columns"
   ]
  },
  {
   "cell_type": "markdown",
   "metadata": {},
   "source": [
    "#### Checking out the Predicting Power Score of the dataset features"
   ]
  },
  {
   "cell_type": "code",
   "execution_count": 20,
   "metadata": {},
   "outputs": [
    {
     "data": {
      "application/vnd.jupyter.widget-view+json": {
       "model_id": "7ef605347d0c4e19a01b8a1882d3182d",
       "version_major": 2,
       "version_minor": 0
      },
      "text/plain": [
       "TabSection(children=(BrowserCheck(), HBox(children=(Tab(closable=False, title='plot', _dom_classes=('bamboolib…"
      ]
     },
     "metadata": {},
     "output_type": "display_data"
    }
   ],
   "source": [
    "bam.plot(sales_df, 'flag', 'gender')"
   ]
  },
  {
   "cell_type": "markdown",
   "metadata": {},
   "source": [
    "From the Predictive Power Score computed by the bamboolib package (via DecisionTreeClassifiers and DecisionTreeRegressors), we can see that some features have more predictive power over the rest of the columns. <br><br> Marriage, house_owner, region, child and house_val all seem to be not as important as the other features. Let's try and use these results for our feature selection later once we try and do modeling."
   ]
  },
  {
   "cell_type": "markdown",
   "metadata": {},
   "source": [
    "#### Summary statistics of customers who availed the product in terms of profiled Customer Psychology"
   ]
  },
  {
   "cell_type": "code",
   "execution_count": 21,
   "metadata": {},
   "outputs": [
    {
     "data": {
      "application/vnd.jupyter.widget-view+json": {
       "model_id": "a38a48355d6f4381b329442f68fdb0f8",
       "version_major": 2,
       "version_minor": 0
      },
      "text/plain": [
       "TabSection(children=(BrowserCheck(), HBox(children=(Tab(closable=False, title='plot', _dom_classes=('bamboolib…"
      ]
     },
     "metadata": {},
     "output_type": "display_data"
    }
   ],
   "source": [
    "bam.plot(sales_df, 'flag', 'customer_psy')"
   ]
  },
  {
   "cell_type": "code",
   "execution_count": 23,
   "metadata": {},
   "outputs": [
    {
     "name": "stdout",
     "output_type": "stream",
     "text": [
      "Percentage distribution: \n"
     ]
    },
    {
     "data": {
      "text/plain": [
       "C    0.265253\n",
       "B    0.255527\n",
       "E    0.164837\n",
       "F    0.079661\n",
       "G    0.062215\n",
       "A    0.042362\n",
       "D    0.040006\n",
       "I    0.038853\n",
       "J    0.036547\n",
       "H    0.014739\n",
       "Name: customer_psy, dtype: float64"
      ]
     },
     "execution_count": 23,
     "metadata": {},
     "output_type": "execute_result"
    }
   ],
   "source": [
    "print('Percentage distribution: ')\n",
    "sales_df[sales_df['flag'] == 'Y']['customer_psy'].value_counts(normalize = True)"
   ]
  },
  {
   "cell_type": "markdown",
   "metadata": {},
   "source": [
    "#### Summary statistics of customers who availed the product in terms of Occupation"
   ]
  },
  {
   "cell_type": "code",
   "execution_count": 24,
   "metadata": {},
   "outputs": [
    {
     "data": {
      "application/vnd.jupyter.widget-view+json": {
       "model_id": "149e12938d674489a2b0ecfeb9349067",
       "version_major": 2,
       "version_minor": 0
      },
      "text/plain": [
       "TabSection(children=(BrowserCheck(), HBox(children=(Tab(closable=False, title='plot', _dom_classes=('bamboolib…"
      ]
     },
     "metadata": {},
     "output_type": "display_data"
    }
   ],
   "source": [
    "bam.plot(sales_df, 'flag', 'occupation')"
   ]
  },
  {
   "cell_type": "code",
   "execution_count": 26,
   "metadata": {},
   "outputs": [
    {
     "name": "stdout",
     "output_type": "stream",
     "text": [
      "Percentage distribution: \n"
     ]
    },
    {
     "data": {
      "text/plain": [
       "Professional     0.48155\n",
       "Sales/Service    0.25615\n",
       "Blue Collar      0.13340\n",
       "Retired          0.07075\n",
       "Others           0.05285\n",
       "Farm             0.00530\n",
       "Name: occupation, dtype: float64"
      ]
     },
     "execution_count": 26,
     "metadata": {},
     "output_type": "execute_result"
    }
   ],
   "source": [
    "print('Percentage distribution: ')\n",
    "sales_df[sales_df['flag'] == 'Y']['occupation'].value_counts(normalize = True)"
   ]
  },
  {
   "cell_type": "markdown",
   "metadata": {},
   "source": [
    "#### Summary statistics of customers who availed the product in terms of Educational attainment"
   ]
  },
  {
   "cell_type": "code",
   "execution_count": 27,
   "metadata": {},
   "outputs": [
    {
     "data": {
      "application/vnd.jupyter.widget-view+json": {
       "model_id": "27083706bf6449d2ae99470eb0ffa7c1",
       "version_major": 2,
       "version_minor": 0
      },
      "text/plain": [
       "TabSection(children=(BrowserCheck(), HBox(children=(Tab(closable=False, title='plot', _dom_classes=('bamboolib…"
      ]
     },
     "metadata": {},
     "output_type": "display_data"
    }
   ],
   "source": [
    "bam.plot(sales_df, 'flag', 'education')"
   ]
  },
  {
   "cell_type": "code",
   "execution_count": 28,
   "metadata": {},
   "outputs": [
    {
     "name": "stdout",
     "output_type": "stream",
     "text": [
      "Percentage distribution: \n"
     ]
    },
    {
     "data": {
      "text/plain": [
       "3. Bach            0.294115\n",
       "2. Some College    0.285736\n",
       "4. Grad            0.199755\n",
       "1. HS              0.164044\n",
       "0. <HS             0.056350\n",
       "Name: education, dtype: float64"
      ]
     },
     "execution_count": 28,
     "metadata": {},
     "output_type": "execute_result"
    }
   ],
   "source": [
    "print('Percentage distribution: ')\n",
    "sales_df[sales_df['flag'] == 'Y']['education'].value_counts(normalize = True)"
   ]
  },
  {
   "cell_type": "markdown",
   "metadata": {},
   "source": [
    "#### Summary statistics of customers who availed the product in terms of marked probability of buying a new car (car_prob)"
   ]
  },
  {
   "cell_type": "code",
   "execution_count": 29,
   "metadata": {},
   "outputs": [
    {
     "data": {
      "application/vnd.jupyter.widget-view+json": {
       "model_id": "0da92c953225491dbbe7dd4a4ee9d2df",
       "version_major": 2,
       "version_minor": 0
      },
      "text/plain": [
       "TabSection(children=(BrowserCheck(), HBox(children=(Tab(closable=False, title='plot', _dom_classes=('bamboolib…"
      ]
     },
     "metadata": {},
     "output_type": "display_data"
    }
   ],
   "source": [
    "bam.plot(sales_df, 'car_prob', 'flag')"
   ]
  },
  {
   "cell_type": "code",
   "execution_count": 30,
   "metadata": {},
   "outputs": [
    {
     "name": "stdout",
     "output_type": "stream",
     "text": [
      "Percentage distribution: \n"
     ]
    },
    {
     "data": {
      "text/plain": [
       "1    0.38880\n",
       "2    0.20290\n",
       "3    0.13080\n",
       "4    0.06445\n",
       "5    0.05910\n",
       "6    0.04240\n",
       "8    0.04175\n",
       "7    0.03790\n",
       "9    0.02925\n",
       "0    0.00265\n",
       "Name: car_prob, dtype: float64"
      ]
     },
     "execution_count": 30,
     "metadata": {},
     "output_type": "execute_result"
    }
   ],
   "source": [
    "print('Percentage distribution: ')\n",
    "sales_df[sales_df['flag'] == 'Y']['car_prob'].value_counts(normalize = True)"
   ]
  },
  {
   "cell_type": "markdown",
   "metadata": {},
   "source": [
    "#### Summary statistics of customers who availed the product in terms of Gender"
   ]
  },
  {
   "cell_type": "code",
   "execution_count": 31,
   "metadata": {},
   "outputs": [
    {
     "data": {
      "application/vnd.jupyter.widget-view+json": {
       "model_id": "d3b71362b4d6462b92c713d4558e6c6d",
       "version_major": 2,
       "version_minor": 0
      },
      "text/plain": [
       "TabSection(children=(BrowserCheck(), HBox(children=(Tab(closable=False, title='plot', _dom_classes=('bamboolib…"
      ]
     },
     "metadata": {},
     "output_type": "display_data"
    }
   ],
   "source": [
    "bam.plot(sales_df, 'flag', 'gender')"
   ]
  },
  {
   "cell_type": "code",
   "execution_count": 32,
   "metadata": {},
   "outputs": [
    {
     "name": "stdout",
     "output_type": "stream",
     "text": [
      "Percentage distribution: \n"
     ]
    },
    {
     "data": {
      "text/plain": [
       "M    0.666785\n",
       "F    0.333215\n",
       "Name: gender, dtype: float64"
      ]
     },
     "execution_count": 32,
     "metadata": {},
     "output_type": "execute_result"
    }
   ],
   "source": [
    "print('Percentage distribution: ')\n",
    "sales_df[sales_df['flag'] == 'Y']['gender'].value_counts(normalize = True)"
   ]
  },
  {
   "cell_type": "markdown",
   "metadata": {},
   "source": [
    "#### Summary statistics of customers who availed the product in terms of family income"
   ]
  },
  {
   "cell_type": "code",
   "execution_count": 33,
   "metadata": {},
   "outputs": [
    {
     "data": {
      "application/vnd.jupyter.widget-view+json": {
       "model_id": "3056ea327b50471dabd251a6e9c2dbe1",
       "version_major": 2,
       "version_minor": 0
      },
      "text/plain": [
       "TabSection(children=(BrowserCheck(), HBox(children=(Tab(closable=False, title='plot', _dom_classes=('bamboolib…"
      ]
     },
     "metadata": {},
     "output_type": "display_data"
    }
   ],
   "source": [
    "bam.plot(sales_df, 'flag', 'fam_income')"
   ]
  },
  {
   "cell_type": "code",
   "execution_count": 34,
   "metadata": {},
   "outputs": [
    {
     "name": "stdout",
     "output_type": "stream",
     "text": [
      "Percentage distribution: \n"
     ]
    },
    {
     "data": {
      "text/plain": [
       "E    0.204615\n",
       "F    0.175621\n",
       "G    0.124103\n",
       "D    0.083070\n",
       "H    0.077853\n",
       "L    0.057988\n",
       "J    0.057186\n",
       "I    0.053373\n",
       "K    0.049411\n",
       "C    0.049160\n",
       "B    0.034412\n",
       "A    0.033208\n",
       "Name: fam_income, dtype: float64"
      ]
     },
     "execution_count": 34,
     "metadata": {},
     "output_type": "execute_result"
    }
   ],
   "source": [
    "print('Percentage distribution: ')\n",
    "sales_df[sales_df['flag'] == 'Y']['fam_income'].value_counts(normalize = True)"
   ]
  },
  {
   "cell_type": "markdown",
   "metadata": {},
   "source": [
    "#### Summary statistics of customers who availed the product in terms of age"
   ]
  },
  {
   "cell_type": "code",
   "execution_count": 35,
   "metadata": {},
   "outputs": [
    {
     "data": {
      "application/vnd.jupyter.widget-view+json": {
       "model_id": "39d3ded57ed540928e4f11d2231f13d3",
       "version_major": 2,
       "version_minor": 0
      },
      "text/plain": [
       "TabSection(children=(BrowserCheck(), HBox(children=(Tab(closable=False, title='plot', _dom_classes=('bamboolib…"
      ]
     },
     "metadata": {},
     "output_type": "display_data"
    }
   ],
   "source": [
    "bam.plot(sales_df, 'flag', 'age')"
   ]
  },
  {
   "cell_type": "code",
   "execution_count": 36,
   "metadata": {},
   "outputs": [
    {
     "name": "stdout",
     "output_type": "stream",
     "text": [
      "Percentage distribution: \n"
     ]
    },
    {
     "data": {
      "text/plain": [
       "5_<=55    0.288072\n",
       "4_<=45    0.246403\n",
       "6_<=65    0.187310\n",
       "3_<=35    0.139394\n",
       "7_>65     0.094744\n",
       "2_<=25    0.044076\n",
       "Name: age, dtype: float64"
      ]
     },
     "execution_count": 36,
     "metadata": {},
     "output_type": "execute_result"
    }
   ],
   "source": [
    "print('Percentage distribution: ')\n",
    "sales_df[sales_df['flag'] == 'Y']['age'].value_counts(normalize = True)"
   ]
  },
  {
   "cell_type": "markdown",
   "metadata": {},
   "source": [
    "#### Summary statistics of customers who availed the product in terms of having online shopping experience or not"
   ]
  },
  {
   "cell_type": "code",
   "execution_count": 37,
   "metadata": {},
   "outputs": [
    {
     "data": {
      "application/vnd.jupyter.widget-view+json": {
       "model_id": "d3dcadd934484a9ca7e43d13d0661225",
       "version_major": 2,
       "version_minor": 0
      },
      "text/plain": [
       "TabSection(children=(BrowserCheck(), HBox(children=(Tab(closable=False, title='plot', _dom_classes=('bamboolib…"
      ]
     },
     "metadata": {},
     "output_type": "display_data"
    }
   ],
   "source": [
    "bam.plot(sales_df, 'flag', 'online')"
   ]
  },
  {
   "cell_type": "code",
   "execution_count": 38,
   "metadata": {},
   "outputs": [
    {
     "name": "stdout",
     "output_type": "stream",
     "text": [
      "Percentage distribution: \n"
     ]
    },
    {
     "data": {
      "text/plain": [
       "Y    0.78255\n",
       "N    0.21745\n",
       "Name: online, dtype: float64"
      ]
     },
     "execution_count": 38,
     "metadata": {},
     "output_type": "execute_result"
    }
   ],
   "source": [
    "print('Percentage distribution: ')\n",
    "sales_df[sales_df['flag'] == 'Y']['online'].value_counts(normalize = True)"
   ]
  },
  {
   "cell_type": "markdown",
   "metadata": {},
   "source": [
    "#### Summary statistics of customers who availed the product in terms of their mortgage info"
   ]
  },
  {
   "cell_type": "code",
   "execution_count": 39,
   "metadata": {},
   "outputs": [
    {
     "data": {
      "application/vnd.jupyter.widget-view+json": {
       "model_id": "d0a9aeac84694417b4ae393be6d15d72",
       "version_major": 2,
       "version_minor": 0
      },
      "text/plain": [
       "TabSection(children=(BrowserCheck(), HBox(children=(Tab(closable=False, title='plot', _dom_classes=('bamboolib…"
      ]
     },
     "metadata": {},
     "output_type": "display_data"
    }
   ],
   "source": [
    "bam.plot(sales_df, 'flag', 'mortgage')"
   ]
  },
  {
   "cell_type": "code",
   "execution_count": 41,
   "metadata": {},
   "outputs": [
    {
     "name": "stdout",
     "output_type": "stream",
     "text": [
      "Percentage distribution: \n"
     ]
    },
    {
     "data": {
      "text/plain": [
       "1Low     0.65170\n",
       "3High    0.19475\n",
       "2Med     0.15355\n",
       "Name: mortgage, dtype: float64"
      ]
     },
     "execution_count": 41,
     "metadata": {},
     "output_type": "execute_result"
    }
   ],
   "source": [
    "print('Percentage distribution: ')\n",
    "sales_df[sales_df['flag'] == 'Y']['mortgage'].value_counts(normalize = True)"
   ]
  },
  {
   "cell_type": "markdown",
   "metadata": {},
   "source": [
    "## Modeling Flag prediction\n",
    "\n",
    "**Flag prediction modeling:** <br>\n",
    "For modeling the flag predictor, we'll use all the features from the Predictive Power Score computed by the bam package. If the results are bad, I'll consider dropping the age column to retain more data samples. I'll use the XGBoost algorithm for binary classification."
   ]
  },
  {
   "cell_type": "code",
   "execution_count": 81,
   "metadata": {},
   "outputs": [],
   "source": [
    "# building df for flag prediciton model \n",
    "flag_df = sales_df.copy().drop('marriage', axis=1)\n",
    "flag_df = flag_df.drop('child', axis=1)\n",
    "flag_df = flag_df.drop('house_val', axis=1)\n",
    "flag_df = flag_df.drop('house_owner', axis=1)\n",
    "flag_df = flag_df.drop('region', axis=1)"
   ]
  },
  {
   "cell_type": "code",
   "execution_count": 43,
   "metadata": {},
   "outputs": [
    {
     "data": {
      "text/plain": [
       "(40000, 10)"
      ]
     },
     "execution_count": 43,
     "metadata": {},
     "output_type": "execute_result"
    }
   ],
   "source": [
    "flag_df.shape"
   ]
  },
  {
   "cell_type": "code",
   "execution_count": 44,
   "metadata": {},
   "outputs": [],
   "source": [
    "# flag_df = flag_df.dropna() -- wont drop na's --- lets see how xgboost handles nans"
   ]
  },
  {
   "cell_type": "code",
   "execution_count": 45,
   "metadata": {},
   "outputs": [
    {
     "data": {
      "application/vnd.jupyter.widget-view+json": {
       "model_id": "00e1ef7f2b0f49b083c7311f1df1698c",
       "version_major": 2,
       "version_minor": 0
      },
      "text/plain": [
       "TabSection(children=(BrowserCheck(), HBox(children=(Tab(closable=False, title='plot', _dom_classes=('bamboolib…"
      ]
     },
     "metadata": {},
     "output_type": "display_data"
    }
   ],
   "source": [
    "bam.plot(flag_df, 'flag')"
   ]
  },
  {
   "cell_type": "code",
   "execution_count": 46,
   "metadata": {},
   "outputs": [
    {
     "name": "stdout",
     "output_type": "stream",
     "text": [
      "flag : ['Y' 'N']\n",
      "gender : ['M' 'F' nan]\n",
      "education : ['4. Grad' '3. Bach' '2. Some College' '1. HS' '0. <HS' nan]\n",
      "age : [nan '7_>65' '2_<=25' '6_<=65' '5_<=55' '4_<=45' '3_<=35']\n",
      "online : ['N' 'Y']\n",
      "customer_psy : ['B' 'E' 'C' 'J' 'A' 'G' 'F' 'I' 'D' 'H' nan]\n",
      "occupation : ['Professional' 'Sales/Service' 'Blue Collar' 'Others' 'Retired' 'Farm']\n",
      "mortgage : ['1Low' '2Med' '3High']\n",
      "car_prob : [1 3 2 7 5 6 9 8 4 0]\n",
      "fam_income : ['L' 'G' 'J' 'H' 'C' 'I' 'D' 'E' 'A' 'F' 'B' 'K' nan]\n"
     ]
    }
   ],
   "source": [
    "\n",
    "for col in flag_df:\n",
    "    print(f\"{col} : {flag_df[col].unique()}\")\n"
   ]
  },
  {
   "cell_type": "code",
   "execution_count": 82,
   "metadata": {},
   "outputs": [
    {
     "data": {
      "application/vnd.jupyter.widget-view+json": {
       "model_id": "488fa106a1d24d248cd8d3998f1e4dd2"
      },
      "text/html": [
       "<div>\n",
       "<style scoped>\n",
       "    .dataframe tbody tr th:only-of-type {\n",
       "        vertical-align: middle;\n",
       "    }\n",
       "\n",
       "    .dataframe tbody tr th {\n",
       "        vertical-align: top;\n",
       "    }\n",
       "\n",
       "    .dataframe thead th {\n",
       "        text-align: right;\n",
       "    }\n",
       "</style>\n",
       "<table border=\"1\" class=\"dataframe\">\n",
       "  <thead>\n",
       "    <tr style=\"text-align: right;\">\n",
       "      <th></th>\n",
       "      <th>flag</th>\n",
       "      <th>gender</th>\n",
       "      <th>education</th>\n",
       "      <th>age</th>\n",
       "      <th>online</th>\n",
       "      <th>customer_psy</th>\n",
       "      <th>occupation</th>\n",
       "      <th>mortgage</th>\n",
       "      <th>car_prob</th>\n",
       "      <th>fam_income</th>\n",
       "    </tr>\n",
       "  </thead>\n",
       "  <tbody>\n",
       "    <tr>\n",
       "      <th>0</th>\n",
       "      <td>Y</td>\n",
       "      <td>M</td>\n",
       "      <td>5.0</td>\n",
       "      <td>NaN</td>\n",
       "      <td>N</td>\n",
       "      <td>B</td>\n",
       "      <td>Professional</td>\n",
       "      <td>1</td>\n",
       "      <td>9</td>\n",
       "      <td>12.0</td>\n",
       "    </tr>\n",
       "    <tr>\n",
       "      <th>1</th>\n",
       "      <td>N</td>\n",
       "      <td>F</td>\n",
       "      <td>4.0</td>\n",
       "      <td>6.0</td>\n",
       "      <td>N</td>\n",
       "      <td>E</td>\n",
       "      <td>Professional</td>\n",
       "      <td>1</td>\n",
       "      <td>7</td>\n",
       "      <td>7.0</td>\n",
       "    </tr>\n",
       "    <tr>\n",
       "      <th>2</th>\n",
       "      <td>N</td>\n",
       "      <td>M</td>\n",
       "      <td>3.0</td>\n",
       "      <td>1.0</td>\n",
       "      <td>Y</td>\n",
       "      <td>C</td>\n",
       "      <td>Professional</td>\n",
       "      <td>1</td>\n",
       "      <td>9</td>\n",
       "      <td>10.0</td>\n",
       "    </tr>\n",
       "    <tr>\n",
       "      <th>3</th>\n",
       "      <td>Y</td>\n",
       "      <td>M</td>\n",
       "      <td>3.0</td>\n",
       "      <td>1.0</td>\n",
       "      <td>Y</td>\n",
       "      <td>B</td>\n",
       "      <td>Sales/Service</td>\n",
       "      <td>1</td>\n",
       "      <td>8</td>\n",
       "      <td>12.0</td>\n",
       "    </tr>\n",
       "    <tr>\n",
       "      <th>4</th>\n",
       "      <td>Y</td>\n",
       "      <td>F</td>\n",
       "      <td>3.0</td>\n",
       "      <td>NaN</td>\n",
       "      <td>Y</td>\n",
       "      <td>J</td>\n",
       "      <td>Sales/Service</td>\n",
       "      <td>1</td>\n",
       "      <td>3</td>\n",
       "      <td>8.0</td>\n",
       "    </tr>\n",
       "  </tbody>\n",
       "</table>\n",
       "</div>"
      ],
      "text/plain": [
       "  flag gender  education  age online customer_psy     occupation  mortgage  \\\n",
       "0    Y      M        5.0  NaN      N            B   Professional         1   \n",
       "1    N      F        4.0  6.0      N            E   Professional         1   \n",
       "2    N      M        3.0  1.0      Y            C   Professional         1   \n",
       "3    Y      M        3.0  1.0      Y            B  Sales/Service         1   \n",
       "4    Y      F        3.0  NaN      Y            J  Sales/Service         1   \n",
       "\n",
       "   car_prob  fam_income  \n",
       "0         9        12.0  \n",
       "1         7         7.0  \n",
       "2         9        10.0  \n",
       "3         8        12.0  \n",
       "4         3         8.0  "
      ]
     },
     "metadata": {},
     "output_type": "display_data"
    }
   ],
   "source": [
    "# Convert ordinal and categorical columns \n",
    "# Ordinal encoding (car_prob, age, fam_income, education, mortgage)\n",
    "dict_car_prob = {1: 9, 2: 8, 3: 7, 4: 6, 5: 5 , 6: 4, 7: 3, 8:2, 9:1}\n",
    "dict_age = {\"2_<=25\":1, \"3_<=35\":2, \"4_<=45\": 3, \"5_<=55\": 4, \"6_<=65\": 5, \"7_>65\":6 }\n",
    "dict_fam_income = {\"A\":1, \"B\":2, \"C\":3, \"D\":4, \"E\":5, \"F\":6, \"G\":7, \"H\":8, \"I\":9, \"J\":10, \"K\":11, \"L\":12}\n",
    "dict_education = {\"0. <HS\":1, \"1. HS\":2, \"2. Some College\":3, \"3. Bach\":4, \"4. Grad\":5}\n",
    "dict_mortgage = {\"1Low\":1, \"2Med\":2, \"3High\":3}\n",
    "\n",
    "flag_df = flag_df.replace({\"car_prob\": dict_car_prob})\n",
    "flag_df = flag_df.replace({\"age\": dict_age})\n",
    "flag_df = flag_df.replace({\"fam_income\": dict_fam_income})\n",
    "flag_df = flag_df.replace({\"education\": dict_education})\n",
    "flag_df = flag_df.replace({\"mortgage\": dict_mortgage})\n",
    "\n",
    "flag_df.head()"
   ]
  },
  {
   "cell_type": "code",
   "execution_count": 83,
   "metadata": {},
   "outputs": [
    {
     "data": {
      "application/vnd.jupyter.widget-view+json": {
       "model_id": "d408e0a9034f46e4972cbf8a6b23de87"
      },
      "text/html": [
       "<div>\n",
       "<style scoped>\n",
       "    .dataframe tbody tr th:only-of-type {\n",
       "        vertical-align: middle;\n",
       "    }\n",
       "\n",
       "    .dataframe tbody tr th {\n",
       "        vertical-align: top;\n",
       "    }\n",
       "\n",
       "    .dataframe thead th {\n",
       "        text-align: right;\n",
       "    }\n",
       "</style>\n",
       "<table border=\"1\" class=\"dataframe\">\n",
       "  <thead>\n",
       "    <tr style=\"text-align: right;\">\n",
       "      <th></th>\n",
       "      <th>flag</th>\n",
       "      <th>education</th>\n",
       "      <th>age</th>\n",
       "      <th>mortgage</th>\n",
       "      <th>car_prob</th>\n",
       "      <th>fam_income</th>\n",
       "      <th>gender_M</th>\n",
       "      <th>online_Y</th>\n",
       "      <th>occupation_Blue Collar</th>\n",
       "      <th>occupation_Others</th>\n",
       "      <th>...</th>\n",
       "      <th>occupation_Sales/Service</th>\n",
       "      <th>customer_psy_A</th>\n",
       "      <th>customer_psy_B</th>\n",
       "      <th>customer_psy_C</th>\n",
       "      <th>customer_psy_D</th>\n",
       "      <th>customer_psy_E</th>\n",
       "      <th>customer_psy_F</th>\n",
       "      <th>customer_psy_G</th>\n",
       "      <th>customer_psy_I</th>\n",
       "      <th>customer_psy_J</th>\n",
       "    </tr>\n",
       "  </thead>\n",
       "  <tbody>\n",
       "    <tr>\n",
       "      <th>0</th>\n",
       "      <td>Y</td>\n",
       "      <td>5.0</td>\n",
       "      <td>NaN</td>\n",
       "      <td>1</td>\n",
       "      <td>9</td>\n",
       "      <td>12.0</td>\n",
       "      <td>1</td>\n",
       "      <td>0</td>\n",
       "      <td>0</td>\n",
       "      <td>0</td>\n",
       "      <td>...</td>\n",
       "      <td>0</td>\n",
       "      <td>0</td>\n",
       "      <td>1</td>\n",
       "      <td>0</td>\n",
       "      <td>0</td>\n",
       "      <td>0</td>\n",
       "      <td>0</td>\n",
       "      <td>0</td>\n",
       "      <td>0</td>\n",
       "      <td>0</td>\n",
       "    </tr>\n",
       "    <tr>\n",
       "      <th>1</th>\n",
       "      <td>N</td>\n",
       "      <td>4.0</td>\n",
       "      <td>6.0</td>\n",
       "      <td>1</td>\n",
       "      <td>7</td>\n",
       "      <td>7.0</td>\n",
       "      <td>0</td>\n",
       "      <td>0</td>\n",
       "      <td>0</td>\n",
       "      <td>0</td>\n",
       "      <td>...</td>\n",
       "      <td>0</td>\n",
       "      <td>0</td>\n",
       "      <td>0</td>\n",
       "      <td>0</td>\n",
       "      <td>0</td>\n",
       "      <td>1</td>\n",
       "      <td>0</td>\n",
       "      <td>0</td>\n",
       "      <td>0</td>\n",
       "      <td>0</td>\n",
       "    </tr>\n",
       "    <tr>\n",
       "      <th>2</th>\n",
       "      <td>N</td>\n",
       "      <td>3.0</td>\n",
       "      <td>1.0</td>\n",
       "      <td>1</td>\n",
       "      <td>9</td>\n",
       "      <td>10.0</td>\n",
       "      <td>1</td>\n",
       "      <td>1</td>\n",
       "      <td>0</td>\n",
       "      <td>0</td>\n",
       "      <td>...</td>\n",
       "      <td>0</td>\n",
       "      <td>0</td>\n",
       "      <td>0</td>\n",
       "      <td>1</td>\n",
       "      <td>0</td>\n",
       "      <td>0</td>\n",
       "      <td>0</td>\n",
       "      <td>0</td>\n",
       "      <td>0</td>\n",
       "      <td>0</td>\n",
       "    </tr>\n",
       "    <tr>\n",
       "      <th>3</th>\n",
       "      <td>Y</td>\n",
       "      <td>3.0</td>\n",
       "      <td>1.0</td>\n",
       "      <td>1</td>\n",
       "      <td>8</td>\n",
       "      <td>12.0</td>\n",
       "      <td>1</td>\n",
       "      <td>1</td>\n",
       "      <td>0</td>\n",
       "      <td>0</td>\n",
       "      <td>...</td>\n",
       "      <td>1</td>\n",
       "      <td>0</td>\n",
       "      <td>1</td>\n",
       "      <td>0</td>\n",
       "      <td>0</td>\n",
       "      <td>0</td>\n",
       "      <td>0</td>\n",
       "      <td>0</td>\n",
       "      <td>0</td>\n",
       "      <td>0</td>\n",
       "    </tr>\n",
       "    <tr>\n",
       "      <th>4</th>\n",
       "      <td>Y</td>\n",
       "      <td>3.0</td>\n",
       "      <td>NaN</td>\n",
       "      <td>1</td>\n",
       "      <td>3</td>\n",
       "      <td>8.0</td>\n",
       "      <td>0</td>\n",
       "      <td>1</td>\n",
       "      <td>0</td>\n",
       "      <td>0</td>\n",
       "      <td>...</td>\n",
       "      <td>1</td>\n",
       "      <td>0</td>\n",
       "      <td>0</td>\n",
       "      <td>0</td>\n",
       "      <td>0</td>\n",
       "      <td>0</td>\n",
       "      <td>0</td>\n",
       "      <td>0</td>\n",
       "      <td>0</td>\n",
       "      <td>1</td>\n",
       "    </tr>\n",
       "  </tbody>\n",
       "</table>\n",
       "<p>5 rows × 22 columns</p>\n",
       "</div>"
      ],
      "text/plain": [
       "  flag  education  age  mortgage  car_prob  fam_income  gender_M  online_Y  \\\n",
       "0    Y        5.0  NaN         1         9        12.0         1         0   \n",
       "1    N        4.0  6.0         1         7         7.0         0         0   \n",
       "2    N        3.0  1.0         1         9        10.0         1         1   \n",
       "3    Y        3.0  1.0         1         8        12.0         1         1   \n",
       "4    Y        3.0  NaN         1         3         8.0         0         1   \n",
       "\n",
       "   occupation_Blue Collar  occupation_Others  ...  occupation_Sales/Service  \\\n",
       "0                       0                  0  ...                         0   \n",
       "1                       0                  0  ...                         0   \n",
       "2                       0                  0  ...                         0   \n",
       "3                       0                  0  ...                         1   \n",
       "4                       0                  0  ...                         1   \n",
       "\n",
       "   customer_psy_A  customer_psy_B  customer_psy_C  customer_psy_D  \\\n",
       "0               0               1               0               0   \n",
       "1               0               0               0               0   \n",
       "2               0               0               1               0   \n",
       "3               0               1               0               0   \n",
       "4               0               0               0               0   \n",
       "\n",
       "   customer_psy_E  customer_psy_F  customer_psy_G  customer_psy_I  \\\n",
       "0               0               0               0               0   \n",
       "1               1               0               0               0   \n",
       "2               0               0               0               0   \n",
       "3               0               0               0               0   \n",
       "4               0               0               0               0   \n",
       "\n",
       "   customer_psy_J  \n",
       "0               0  \n",
       "1               0  \n",
       "2               0  \n",
       "3               0  \n",
       "4               1  \n",
       "\n",
       "[5 rows x 22 columns]"
      ]
     },
     "metadata": {},
     "output_type": "display_data"
    }
   ],
   "source": [
    "# One hot encode categorical columns (gender, online, occupation, customer_psy)\n",
    "\n",
    "flag_df = pd.get_dummies(flag_df, columns=['gender', 'online', 'occupation', 'customer_psy'])\n",
    "flag_df = flag_df.drop(['gender_F', 'online_N', 'occupation_Farm', 'customer_psy_H'], axis=1) #dropping redundant columns \n",
    "flag_df.head()\n",
    "# SCALE"
   ]
  },
  {
   "cell_type": "markdown",
   "metadata": {},
   "source": [
    "For the initial XGBoost modeling, we'll represent NaN's as 0."
   ]
  },
  {
   "cell_type": "code",
   "execution_count": 84,
   "metadata": {},
   "outputs": [],
   "source": [
    "flag_df = flag_df.fillna(0)\n"
   ]
  },
  {
   "cell_type": "code",
   "execution_count": 85,
   "metadata": {},
   "outputs": [],
   "source": [
    "# Convert target feature to 1 and 0 \n",
    "\n",
    "dict_flag = {\"Y\":1, \"N\":0}\n",
    "flag_df = flag_df.replace({\"flag\": dict_flag})\n"
   ]
  },
  {
   "cell_type": "code",
   "execution_count": 86,
   "metadata": {},
   "outputs": [
    {
     "data": {
      "text/plain": [
       "flag                          int64\n",
       "education                   float64\n",
       "age                         float64\n",
       "mortgage                      int64\n",
       "car_prob                      int64\n",
       "fam_income                  float64\n",
       "gender_M                      uint8\n",
       "online_Y                      uint8\n",
       "occupation_Blue Collar        uint8\n",
       "occupation_Others             uint8\n",
       "occupation_Professional       uint8\n",
       "occupation_Retired            uint8\n",
       "occupation_Sales/Service      uint8\n",
       "customer_psy_A                uint8\n",
       "customer_psy_B                uint8\n",
       "customer_psy_C                uint8\n",
       "customer_psy_D                uint8\n",
       "customer_psy_E                uint8\n",
       "customer_psy_F                uint8\n",
       "customer_psy_G                uint8\n",
       "customer_psy_I                uint8\n",
       "customer_psy_J                uint8\n",
       "dtype: object"
      ]
     },
     "execution_count": 86,
     "metadata": {},
     "output_type": "execute_result"
    }
   ],
   "source": [
    "flag_df.dtypes"
   ]
  },
  {
   "cell_type": "code",
   "execution_count": 87,
   "metadata": {},
   "outputs": [
    {
     "name": "stdout",
     "output_type": "stream",
     "text": [
      "Fitting 5 folds for each of 21 candidates, totalling 105 fits\n"
     ]
    },
    {
     "name": "stderr",
     "output_type": "stream",
     "text": [
      "[Parallel(n_jobs=-1)]: Using backend LokyBackend with 8 concurrent workers.\n",
      "[Parallel(n_jobs=-1)]: Done  16 tasks      | elapsed:    8.4s\n",
      "[Parallel(n_jobs=-1)]: Done 105 out of 105 | elapsed:  1.4min finished\n"
     ]
    },
    {
     "name": "stdout",
     "output_type": "stream",
     "text": [
      "Best: 0.694536 using {'max_depth': 3, 'n_estimators': 250}\n"
     ]
    }
   ],
   "source": [
    "# Split dataset into X and y\n",
    "X, y = flag_df.iloc[:,1:], flag_df.iloc[:,0]\n",
    "X_train, X_test, y_train, y_test = train_test_split(X, y, test_size=0.30, random_state=17, stratify = y)\n",
    "# grid search\n",
    "model = XGBClassifier()\n",
    "max_depth = range(3, 6, 1)\n",
    "n_estimators = range(50, 400, 50)\n",
    "param_grid = dict(n_estimators=n_estimators, max_depth=max_depth,)\n",
    "kfold = StratifiedKFold(n_splits=5, shuffle=True, random_state=7)\n",
    "grid_search = GridSearchCV(model, param_grid, scoring=\"accuracy\", n_jobs=-1, cv=kfold, verbose = 3)\n",
    "grid_result = grid_search.fit(X_train, y_train)\n",
    "# summarize results\n",
    "print(\"Best: %f using %s\" % (grid_result.best_score_, grid_result.best_params_))"
   ]
  },
  {
   "cell_type": "code",
   "execution_count": 88,
   "metadata": {},
   "outputs": [
    {
     "data": {
      "text/plain": [
       "0.69175"
      ]
     },
     "execution_count": 88,
     "metadata": {},
     "output_type": "execute_result"
    }
   ],
   "source": [
    "predictions = grid_search.predict(X_test)\n",
    "accuracy_score(y_test, predictions) # ~ 70% accuracy. Not great, but at least we didnt overfit :D "
   ]
  },
  {
   "cell_type": "markdown",
   "metadata": {},
   "source": [
    "Let's try doing more hyper parameter tuning to see if we can improve the performance of the model!"
   ]
  },
  {
   "cell_type": "code",
   "execution_count": 141,
   "metadata": {},
   "outputs": [
    {
     "name": "stdout",
     "output_type": "stream",
     "text": [
      "Fitting 5 folds for each of 945 candidates, totalling 4725 fits\n"
     ]
    },
    {
     "name": "stderr",
     "output_type": "stream",
     "text": [
      "[Parallel(n_jobs=-1)]: Using backend LokyBackend with 8 concurrent workers.\n",
      "[Parallel(n_jobs=-1)]: Done  16 tasks      | elapsed:    4.5s\n",
      "[Parallel(n_jobs=-1)]: Done 112 tasks      | elapsed:   50.3s\n",
      "[Parallel(n_jobs=-1)]: Done 272 tasks      | elapsed:  2.7min\n",
      "[Parallel(n_jobs=-1)]: Done 496 tasks      | elapsed:  4.6min\n",
      "[Parallel(n_jobs=-1)]: Done 784 tasks      | elapsed:  7.3min\n",
      "[Parallel(n_jobs=-1)]: Done 1136 tasks      | elapsed: 11.0min\n",
      "[Parallel(n_jobs=-1)]: Done 1552 tasks      | elapsed: 14.3min\n",
      "[Parallel(n_jobs=-1)]: Done 2032 tasks      | elapsed: 18.7min\n",
      "[Parallel(n_jobs=-1)]: Done 2576 tasks      | elapsed: 23.9min\n",
      "[Parallel(n_jobs=-1)]: Done 3184 tasks      | elapsed: 29.6min\n",
      "[Parallel(n_jobs=-1)]: Done 3856 tasks      | elapsed: 36.7min\n",
      "[Parallel(n_jobs=-1)]: Done 4592 tasks      | elapsed: 44.5min\n",
      "[Parallel(n_jobs=-1)]: Done 4725 out of 4725 | elapsed: 46.2min finished\n"
     ]
    },
    {
     "name": "stdout",
     "output_type": "stream",
     "text": [
      "Best: 0.695036 using {'colsample_bytree': 0.6, 'gamma': 2, 'max_depth': 3, 'min_child_weight': 10, 'n_estimators': 300}\n"
     ]
    }
   ],
   "source": [
    "# Split dataset into X and y\n",
    "X, y = flag_df.iloc[:,1:], flag_df.iloc[:,0]\n",
    "X_train, X_test, y_train, y_test = train_test_split(X, y, test_size=0.30, random_state=17, stratify = y)\n",
    "# grid search\n",
    "model = XGBClassifier()\n",
    "max_depth = range(3, 6, 1)\n",
    "min_child_weight =  [1, 5, 10]\n",
    "gamma = [0.5, 1, 1.5, 2, 5]\n",
    "colsample_bytree =  [0.6, 0.8, 1.0]\n",
    "n_estimators = range(50, 400, 50)\n",
    "param_grid = dict(n_estimators=n_estimators, max_depth=max_depth,min_child_weight= min_child_weight, gamma=gamma, colsample_bytree=colsample_bytree )\n",
    "kfold = StratifiedKFold(n_splits=5, shuffle=True, random_state=7)\n",
    "grid_search = GridSearchCV(model, param_grid, scoring=\"accuracy\", n_jobs=-1, cv=kfold, verbose = 3)\n",
    "grid_result = grid_search.fit(X_train, y_train)\n",
    "# summarize results\n",
    "print(\"Best: %f using %s\" % (grid_result.best_score_, grid_result.best_params_))"
   ]
  },
  {
   "cell_type": "code",
   "execution_count": 142,
   "metadata": {},
   "outputs": [
    {
     "data": {
      "text/plain": [
       "0.6926666666666667"
      ]
     },
     "execution_count": 142,
     "metadata": {},
     "output_type": "execute_result"
    }
   ],
   "source": [
    "predictions = grid_search.predict(X_test)\n",
    "accuracy_score(y_test, predictions) # ~ 70% accuracy still. Trained for almost an hour but results didn't improve."
   ]
  },
  {
   "cell_type": "markdown",
   "metadata": {},
   "source": [
    "For my last attempt at modeling, I'll see if I can get better accuracy results if I just use the dataset with no NaN values. "
   ]
  },
  {
   "cell_type": "code",
   "execution_count": 143,
   "metadata": {},
   "outputs": [],
   "source": [
    "# building df for flag prediciton model \n",
    "flag_df = sales_df.copy().drop('marriage', axis=1)\n",
    "flag_df = flag_df.drop('child', axis=1)\n",
    "flag_df = flag_df.drop('house_val', axis=1)\n",
    "flag_df = flag_df.drop('house_owner', axis=1)\n",
    "flag_df = flag_df.drop('region', axis=1)\n",
    "\n",
    "dict_car_prob = {1: 9, 2: 8, 3: 7, 4: 6, 5: 5 , 6: 4, 7: 3, 8:2, 9:1}\n",
    "dict_age = {\"2_<=25\":1, \"3_<=35\":2, \"4_<=45\": 3, \"5_<=55\": 4, \"6_<=65\": 5, \"7_>65\":6 }\n",
    "dict_fam_income = {\"A\":1, \"B\":2, \"C\":3, \"D\":4, \"E\":5, \"F\":6, \"G\":7, \"H\":8, \"I\":9, \"J\":10, \"K\":11, \"L\":12}\n",
    "dict_education = {\"0. <HS\":1, \"1. HS\":2, \"2. Some College\":3, \"3. Bach\":4, \"4. Grad\":5}\n",
    "dict_mortgage = {\"1Low\":1, \"2Med\":2, \"3High\":3}\n",
    "\n",
    "flag_df = flag_df.replace({\"car_prob\": dict_car_prob})\n",
    "flag_df = flag_df.replace({\"age\": dict_age})\n",
    "flag_df = flag_df.replace({\"fam_income\": dict_fam_income})\n",
    "flag_df = flag_df.replace({\"education\": dict_education})\n",
    "flag_df = flag_df.replace({\"mortgage\": dict_mortgage})\n",
    "\n",
    "flag_df = pd.get_dummies(flag_df, columns=['gender', 'online', 'occupation', 'customer_psy'])\n",
    "flag_df = flag_df.drop(['gender_F', 'online_N', 'occupation_Farm', 'customer_psy_H'], axis=1) #dropping redundant columns \n"
   ]
  },
  {
   "cell_type": "code",
   "execution_count": 145,
   "metadata": {},
   "outputs": [],
   "source": [
    "flag_df = flag_df.dropna() #Dropping the NaN values"
   ]
  },
  {
   "cell_type": "code",
   "execution_count": 149,
   "metadata": {},
   "outputs": [
    {
     "name": "stdout",
     "output_type": "stream",
     "text": [
      "Fitting 5 folds for each of 7 candidates, totalling 35 fits\n"
     ]
    },
    {
     "name": "stderr",
     "output_type": "stream",
     "text": [
      "[Parallel(n_jobs=-1)]: Using backend LokyBackend with 8 concurrent workers.\n",
      "[Parallel(n_jobs=-1)]: Done  16 tasks      | elapsed:    5.1s\n",
      "[Parallel(n_jobs=-1)]: Done  32 out of  35 | elapsed:   13.8s remaining:    1.2s\n",
      "[Parallel(n_jobs=-1)]: Done  35 out of  35 | elapsed:   15.2s finished\n"
     ]
    },
    {
     "name": "stdout",
     "output_type": "stream",
     "text": [
      "Best: 0.689060 using {'n_estimators': 100}\n"
     ]
    }
   ],
   "source": [
    "# Split dataset into X and y\n",
    "X, y = flag_df.iloc[:,1:], flag_df.iloc[:,0]\n",
    "X_train, X_test, y_train, y_test = train_test_split(X, y, test_size=0.30, random_state=17, stratify = y)\n",
    "# grid search\n",
    "model = XGBClassifier()\n",
    "n_estimators = range(50, 400, 50)\n",
    "param_grid = dict(n_estimators=n_estimators)\n",
    "kfold = StratifiedKFold(n_splits=5, shuffle=True, random_state=7)\n",
    "grid_search = GridSearchCV(model, param_grid, scoring=\"accuracy\", n_jobs=-1, cv=kfold, verbose = 3)\n",
    "grid_result = grid_search.fit(X_train, y_train)\n",
    "# summarize results\n",
    "print(\"Best: %f using %s\" % (grid_result.best_score_, grid_result.best_params_))"
   ]
  },
  {
   "cell_type": "code",
   "execution_count": 150,
   "metadata": {},
   "outputs": [
    {
     "data": {
      "text/plain": [
       "0.6954232482786553"
      ]
     },
     "execution_count": 150,
     "metadata": {},
     "output_type": "execute_result"
    }
   ],
   "source": [
    "predictions = grid_search.predict(X_test)\n",
    "accuracy_score(y_test, predictions)  #similar with the previous values i.e. missing values didnt really affect the performance of XGBoost as expected. On the bright side, no over fitting occurred haha"
   ]
  },
  {
   "cell_type": "markdown",
   "metadata": {},
   "source": [
    "#### Flag Prediction Modelling - Conclusion"
   ]
  },
  {
   "cell_type": "markdown",
   "metadata": {},
   "source": [
    "To summarize the flag prediction modeling efforts, I tried out modeling two datasets - one with missing values and one without using the XGBoost Classifier. I also attempted to hyperparameter tune the XGBoost algorithm but the accuracy I got didn't really improve by much. For my final model for analysis, I'll choose the hyperparameter tuned XGBoost Classifier with the null data intact to account for more completeness in data points. <br> The section below contains the final model + output evaluation + algorithm feature importances."
   ]
  },
  {
   "cell_type": "code",
   "execution_count": 53,
   "metadata": {},
   "outputs": [],
   "source": [
    "# building df for flag prediciton model \n",
    "flag_df = sales_df.copy().drop('marriage', axis=1)\n",
    "flag_df = flag_df.drop('child', axis=1)\n",
    "flag_df = flag_df.drop('house_val', axis=1)\n",
    "flag_df = flag_df.drop('house_owner', axis=1)\n",
    "flag_df = flag_df.drop('region', axis=1)\n",
    "\n",
    "dict_car_prob = {1: 9, 2: 8, 3: 7, 4: 6, 5: 5 , 6: 4, 7: 3, 8:2, 9:1}\n",
    "dict_age = {\"2_<=25\":1, \"3_<=35\":2, \"4_<=45\": 3, \"5_<=55\": 4, \"6_<=65\": 5, \"7_>65\":6 }\n",
    "dict_fam_income = {\"A\":1, \"B\":2, \"C\":3, \"D\":4, \"E\":5, \"F\":6, \"G\":7, \"H\":8, \"I\":9, \"J\":10, \"K\":11, \"L\":12}\n",
    "dict_education = {\"0. <HS\":1, \"1. HS\":2, \"2. Some College\":3, \"3. Bach\":4, \"4. Grad\":5}\n",
    "dict_mortgage = {\"1Low\":1, \"2Med\":2, \"3High\":3}\n",
    "\n",
    "flag_df = flag_df.replace({\"car_prob\": dict_car_prob})\n",
    "flag_df = flag_df.replace({\"age\": dict_age})\n",
    "flag_df = flag_df.replace({\"fam_income\": dict_fam_income})\n",
    "flag_df = flag_df.replace({\"education\": dict_education})\n",
    "flag_df = flag_df.replace({\"mortgage\": dict_mortgage})\n",
    "\n",
    "flag_df = pd.get_dummies(flag_df, columns=['gender', 'online', 'occupation', 'customer_psy'])\n",
    "flag_df = flag_df.drop(['gender_F', 'online_N', 'occupation_Farm', 'customer_psy_H'], axis=1) #dropping redundant columns \n",
    "flag_df = flag_df.fillna(0)"
   ]
  },
  {
   "cell_type": "code",
   "execution_count": 54,
   "metadata": {},
   "outputs": [
    {
     "name": "stdout",
     "output_type": "stream",
     "text": [
      "Fitting 5 folds for each of 1 candidates, totalling 5 fits\n"
     ]
    },
    {
     "name": "stderr",
     "output_type": "stream",
     "text": [
      "[Parallel(n_jobs=-1)]: Using backend LokyBackend with 8 concurrent workers.\n",
      "[Parallel(n_jobs=-1)]: Done   2 out of   5 | elapsed:    5.5s remaining:    8.3s\n",
      "[Parallel(n_jobs=-1)]: Done   5 out of   5 | elapsed:    5.6s finished\n"
     ]
    },
    {
     "name": "stdout",
     "output_type": "stream",
     "text": [
      "Best: 0.695036 using {'colsample_bytree': 0.6, 'gamma': 2, 'max_depth': 3, 'min_child_weight': 10, 'n_estimators': 300}\n"
     ]
    }
   ],
   "source": [
    "# {'colsample_bytree': 0.6, 'gamma': 2, 'max_depth': 3, 'min_child_weight': 10, 'n_estimators': 300}\n",
    "\n",
    "# Split dataset into X and y\n",
    "X, y = flag_df.iloc[:,1:], flag_df.iloc[:,0]\n",
    "X_train, X_test, y_train, y_test = train_test_split(X, y, test_size=0.30, random_state=17, stratify = y)\n",
    "# grid search\n",
    "model = XGBClassifier()\n",
    "max_depth = [3]\n",
    "min_child_weight =  [10]\n",
    "gamma = [2]\n",
    "colsample_bytree =  [0.6]\n",
    "n_estimators = [300]\n",
    "param_grid = dict(n_estimators=n_estimators, max_depth=max_depth,min_child_weight= min_child_weight, gamma=gamma, colsample_bytree=colsample_bytree )\n",
    "kfold = StratifiedKFold(n_splits=5, shuffle=True, random_state=7)\n",
    "grid_search = GridSearchCV(model, param_grid, scoring=\"accuracy\", n_jobs=-1, cv=kfold, verbose = 3)\n",
    "grid_result = grid_search.fit(X_train, y_train)\n",
    "# summarize results\n",
    "print(\"Best: %f using %s\" % (grid_result.best_score_, grid_result.best_params_))"
   ]
  },
  {
   "cell_type": "code",
   "execution_count": 55,
   "metadata": {},
   "outputs": [
    {
     "data": {
      "text/plain": [
       "0.6926666666666667"
      ]
     },
     "execution_count": 55,
     "metadata": {},
     "output_type": "execute_result"
    }
   ],
   "source": [
    "predictions = grid_search.predict(X_test)\n",
    "accuracy_score(y_test, predictions)  #similar with the previous values i.e. missing values didnt really affect the performance of XGBoost as expected. On the bright side, no over fitting occurred haha"
   ]
  },
  {
   "cell_type": "code",
   "execution_count": 56,
   "metadata": {},
   "outputs": [
    {
     "data": {
      "application/vnd.jupyter.widget-view+json": {
       "model_id": "8a6acc369e7146df80e3196b6a5d14f6"
      },
      "text/html": [
       "<div>\n",
       "<style scoped>\n",
       "    .dataframe tbody tr th:only-of-type {\n",
       "        vertical-align: middle;\n",
       "    }\n",
       "\n",
       "    .dataframe tbody tr th {\n",
       "        vertical-align: top;\n",
       "    }\n",
       "\n",
       "    .dataframe thead th {\n",
       "        text-align: right;\n",
       "    }\n",
       "</style>\n",
       "<table border=\"1\" class=\"dataframe\">\n",
       "  <thead>\n",
       "    <tr style=\"text-align: right;\">\n",
       "      <th></th>\n",
       "      <th>N</th>\n",
       "      <th>Y</th>\n",
       "      <th>accuracy</th>\n",
       "      <th>macro avg</th>\n",
       "      <th>weighted avg</th>\n",
       "    </tr>\n",
       "  </thead>\n",
       "  <tbody>\n",
       "    <tr>\n",
       "      <th>precision</th>\n",
       "      <td>0.694220</td>\n",
       "      <td>0.691138</td>\n",
       "      <td>0.692667</td>\n",
       "      <td>0.692679</td>\n",
       "      <td>0.692679</td>\n",
       "    </tr>\n",
       "    <tr>\n",
       "      <th>recall</th>\n",
       "      <td>0.688667</td>\n",
       "      <td>0.696667</td>\n",
       "      <td>0.692667</td>\n",
       "      <td>0.692667</td>\n",
       "      <td>0.692667</td>\n",
       "    </tr>\n",
       "    <tr>\n",
       "      <th>f1-score</th>\n",
       "      <td>0.691432</td>\n",
       "      <td>0.693891</td>\n",
       "      <td>0.692667</td>\n",
       "      <td>0.692662</td>\n",
       "      <td>0.692662</td>\n",
       "    </tr>\n",
       "    <tr>\n",
       "      <th>support</th>\n",
       "      <td>6000.000000</td>\n",
       "      <td>6000.000000</td>\n",
       "      <td>0.692667</td>\n",
       "      <td>12000.000000</td>\n",
       "      <td>12000.000000</td>\n",
       "    </tr>\n",
       "  </tbody>\n",
       "</table>\n",
       "</div>"
      ],
      "text/plain": [
       "                     N            Y  accuracy     macro avg  weighted avg\n",
       "precision     0.694220     0.691138  0.692667      0.692679      0.692679\n",
       "recall        0.688667     0.696667  0.692667      0.692667      0.692667\n",
       "f1-score      0.691432     0.693891  0.692667      0.692662      0.692662\n",
       "support    6000.000000  6000.000000  0.692667  12000.000000  12000.000000"
      ]
     },
     "metadata": {},
     "output_type": "display_data"
    },
    {
     "data": {
      "image/png": "[encoded data removed]",
      "text/plain": [
       "<Figure size 432x288 with 2 Axes>"
      ]
     },
     "metadata": {
      "needs_background": "light"
     },
     "output_type": "display_data"
    }
   ],
   "source": [
    "cf_matrix = confusion_matrix(y_test, predictions)\n",
    "sns.heatmap(cf_matrix, annot=True, cmap='Blues', fmt='g')\n",
    "pd.DataFrame(classification_report(y_test,predictions,output_dict=True))"
   ]
  },
  {
   "cell_type": "code",
   "execution_count": 63,
   "metadata": {},
   "outputs": [
    {
     "data": {
      "text/plain": [
       "<matplotlib.axes._subplots.AxesSubplot at 0x21028cba748>"
      ]
     },
     "execution_count": 63,
     "metadata": {},
     "output_type": "execute_result"
    },
    {
     "data": {
      "image/png": "[encoded data removed]",
      "text/plain": [
       "<Figure size 432x288 with 1 Axes>"
      ]
     },
     "metadata": {
      "needs_background": "light"
     },
     "output_type": "display_data"
    }
   ],
   "source": [
    "\n",
    "plot_importance(grid_search.best_estimator_)\n",
    "\n"
   ]
  },
  {
   "cell_type": "markdown",
   "metadata": {},
   "source": [
    "The model performance is interesting having almost the same Precision and Recall scores per class. A weighted F1 score of almost 70 ~ I guess is not so bad. This ceiling in accuracy improvement might be attributed to the fact that the dataset have been heavily anonymized + scrambled to be allowed for public use.\n",
    "\n",
    "It's interesting to see that the most important features that contributed to predicting whether a customer will buy the product or not are age, educational attainment, probability of buying a new car, family income and having online shopping experience.\n",
    "\n",
    "As a suggestion, instead of predicting a hard flag, it might be possible to convert the flags to a value of 0 and 100 and then instead predict the likelihood that a customer will get a product. We might get more interesting results if we treated this classification problem as a regression problem."
   ]
  },
  {
   "cell_type": "markdown",
   "metadata": {},
   "source": [
    "## Clustering \n",
    "\n",
    "**Clustering Y customers** <br>\n",
    "For clustering the customer segmentations, I'll use k-mode clustering algorithms due to the highly categorical nature of the dataset features. I'll split all the users who availed the products into two subgroups: those with online shopping experience and those who don't, then let the k-mode clustering algorithm come up with clusters for the online shopper customers subgroup. For cluster interpretability, I'll use feature importances from a Random Forest Classifier."
   ]
  },
  {
   "cell_type": "markdown",
   "metadata": {},
   "source": [
    "### Preparing the Y flag Dataframe"
   ]
  },
  {
   "cell_type": "code",
   "execution_count": 64,
   "metadata": {},
   "outputs": [],
   "source": [
    "# build a daset of customers that availed the product\n",
    "cluster_df = sales_df[sales_df['flag'] == 'Y'].copy()"
   ]
  },
  {
   "cell_type": "code",
   "execution_count": 65,
   "metadata": {},
   "outputs": [
    {
     "data": {
      "application/vnd.jupyter.widget-view+json": {
       "model_id": "e1824299e7f946289508eccf36043689"
      },
      "text/html": [
       "<div>\n",
       "<style scoped>\n",
       "    .dataframe tbody tr th:only-of-type {\n",
       "        vertical-align: middle;\n",
       "    }\n",
       "\n",
       "    .dataframe tbody tr th {\n",
       "        vertical-align: top;\n",
       "    }\n",
       "\n",
       "    .dataframe thead th {\n",
       "        text-align: right;\n",
       "    }\n",
       "</style>\n",
       "<table border=\"1\" class=\"dataframe\">\n",
       "  <thead>\n",
       "    <tr style=\"text-align: right;\">\n",
       "      <th></th>\n",
       "      <th>flag</th>\n",
       "      <th>gender</th>\n",
       "      <th>education</th>\n",
       "      <th>house_val</th>\n",
       "      <th>age</th>\n",
       "      <th>online</th>\n",
       "      <th>customer_psy</th>\n",
       "      <th>marriage</th>\n",
       "      <th>child</th>\n",
       "      <th>occupation</th>\n",
       "      <th>mortgage</th>\n",
       "      <th>house_owner</th>\n",
       "      <th>region</th>\n",
       "      <th>car_prob</th>\n",
       "      <th>fam_income</th>\n",
       "    </tr>\n",
       "  </thead>\n",
       "  <tbody>\n",
       "    <tr>\n",
       "      <th>0</th>\n",
       "      <td>Y</td>\n",
       "      <td>M</td>\n",
       "      <td>4. Grad</td>\n",
       "      <td>756460.0</td>\n",
       "      <td>NaN</td>\n",
       "      <td>N</td>\n",
       "      <td>B</td>\n",
       "      <td>NaN</td>\n",
       "      <td>NaN</td>\n",
       "      <td>Professional</td>\n",
       "      <td>1Low</td>\n",
       "      <td>NaN</td>\n",
       "      <td>Midwest</td>\n",
       "      <td>1</td>\n",
       "      <td>L</td>\n",
       "    </tr>\n",
       "    <tr>\n",
       "      <th>3</th>\n",
       "      <td>Y</td>\n",
       "      <td>M</td>\n",
       "      <td>2. Some College</td>\n",
       "      <td>354151.0</td>\n",
       "      <td>2_&lt;=25</td>\n",
       "      <td>Y</td>\n",
       "      <td>B</td>\n",
       "      <td>Single</td>\n",
       "      <td>NaN</td>\n",
       "      <td>Sales/Service</td>\n",
       "      <td>1Low</td>\n",
       "      <td>NaN</td>\n",
       "      <td>West</td>\n",
       "      <td>2</td>\n",
       "      <td>L</td>\n",
       "    </tr>\n",
       "    <tr>\n",
       "      <th>4</th>\n",
       "      <td>Y</td>\n",
       "      <td>F</td>\n",
       "      <td>2. Some College</td>\n",
       "      <td>117087.0</td>\n",
       "      <td>NaN</td>\n",
       "      <td>Y</td>\n",
       "      <td>J</td>\n",
       "      <td>Married</td>\n",
       "      <td>Y</td>\n",
       "      <td>Sales/Service</td>\n",
       "      <td>1Low</td>\n",
       "      <td>NaN</td>\n",
       "      <td>South</td>\n",
       "      <td>7</td>\n",
       "      <td>H</td>\n",
       "    </tr>\n",
       "    <tr>\n",
       "      <th>5</th>\n",
       "      <td>Y</td>\n",
       "      <td>F</td>\n",
       "      <td>3. Bach</td>\n",
       "      <td>248694.0</td>\n",
       "      <td>6_&lt;=65</td>\n",
       "      <td>Y</td>\n",
       "      <td>B</td>\n",
       "      <td>Married</td>\n",
       "      <td>N</td>\n",
       "      <td>Professional</td>\n",
       "      <td>2Med</td>\n",
       "      <td>Owner</td>\n",
       "      <td>West</td>\n",
       "      <td>1</td>\n",
       "      <td>G</td>\n",
       "    </tr>\n",
       "    <tr>\n",
       "      <th>6</th>\n",
       "      <td>Y</td>\n",
       "      <td>M</td>\n",
       "      <td>3. Bach</td>\n",
       "      <td>2000000.0</td>\n",
       "      <td>NaN</td>\n",
       "      <td>Y</td>\n",
       "      <td>A</td>\n",
       "      <td>Married</td>\n",
       "      <td>NaN</td>\n",
       "      <td>Professional</td>\n",
       "      <td>1Low</td>\n",
       "      <td>NaN</td>\n",
       "      <td>Northeast</td>\n",
       "      <td>5</td>\n",
       "      <td>C</td>\n",
       "    </tr>\n",
       "    <tr>\n",
       "      <th>...</th>\n",
       "      <td>...</td>\n",
       "      <td>...</td>\n",
       "      <td>...</td>\n",
       "      <td>...</td>\n",
       "      <td>...</td>\n",
       "      <td>...</td>\n",
       "      <td>...</td>\n",
       "      <td>...</td>\n",
       "      <td>...</td>\n",
       "      <td>...</td>\n",
       "      <td>...</td>\n",
       "      <td>...</td>\n",
       "      <td>...</td>\n",
       "      <td>...</td>\n",
       "      <td>...</td>\n",
       "    </tr>\n",
       "    <tr>\n",
       "      <th>39985</th>\n",
       "      <td>Y</td>\n",
       "      <td>F</td>\n",
       "      <td>4. Grad</td>\n",
       "      <td>632200.0</td>\n",
       "      <td>3_&lt;=35</td>\n",
       "      <td>Y</td>\n",
       "      <td>B</td>\n",
       "      <td>NaN</td>\n",
       "      <td>Y</td>\n",
       "      <td>Professional</td>\n",
       "      <td>3High</td>\n",
       "      <td>Owner</td>\n",
       "      <td>South</td>\n",
       "      <td>1</td>\n",
       "      <td>K</td>\n",
       "    </tr>\n",
       "    <tr>\n",
       "      <th>39987</th>\n",
       "      <td>Y</td>\n",
       "      <td>M</td>\n",
       "      <td>4. Grad</td>\n",
       "      <td>509432.0</td>\n",
       "      <td>5_&lt;=55</td>\n",
       "      <td>Y</td>\n",
       "      <td>B</td>\n",
       "      <td>Married</td>\n",
       "      <td>N</td>\n",
       "      <td>Professional</td>\n",
       "      <td>2Med</td>\n",
       "      <td>Owner</td>\n",
       "      <td>West</td>\n",
       "      <td>1</td>\n",
       "      <td>J</td>\n",
       "    </tr>\n",
       "    <tr>\n",
       "      <th>39994</th>\n",
       "      <td>Y</td>\n",
       "      <td>M</td>\n",
       "      <td>4. Grad</td>\n",
       "      <td>603554.0</td>\n",
       "      <td>5_&lt;=55</td>\n",
       "      <td>Y</td>\n",
       "      <td>C</td>\n",
       "      <td>Married</td>\n",
       "      <td>Y</td>\n",
       "      <td>Professional</td>\n",
       "      <td>3High</td>\n",
       "      <td>Owner</td>\n",
       "      <td>West</td>\n",
       "      <td>2</td>\n",
       "      <td>J</td>\n",
       "    </tr>\n",
       "    <tr>\n",
       "      <th>39995</th>\n",
       "      <td>Y</td>\n",
       "      <td>F</td>\n",
       "      <td>3. Bach</td>\n",
       "      <td>NaN</td>\n",
       "      <td>7_&gt;65</td>\n",
       "      <td>Y</td>\n",
       "      <td>C</td>\n",
       "      <td>NaN</td>\n",
       "      <td>NaN</td>\n",
       "      <td>Retired</td>\n",
       "      <td>1Low</td>\n",
       "      <td>NaN</td>\n",
       "      <td>South</td>\n",
       "      <td>3</td>\n",
       "      <td>F</td>\n",
       "    </tr>\n",
       "    <tr>\n",
       "      <th>39997</th>\n",
       "      <td>Y</td>\n",
       "      <td>M</td>\n",
       "      <td>0. &lt;HS</td>\n",
       "      <td>134070.0</td>\n",
       "      <td>3_&lt;=35</td>\n",
       "      <td>Y</td>\n",
       "      <td>F</td>\n",
       "      <td>Married</td>\n",
       "      <td>NaN</td>\n",
       "      <td>Sales/Service</td>\n",
       "      <td>1Low</td>\n",
       "      <td>Owner</td>\n",
       "      <td>Midwest</td>\n",
       "      <td>4</td>\n",
       "      <td>E</td>\n",
       "    </tr>\n",
       "  </tbody>\n",
       "</table>\n",
       "<p>20000 rows × 15 columns</p>\n",
       "</div>"
      ],
      "text/plain": [
       "      flag gender        education  house_val     age online customer_psy  \\\n",
       "0        Y      M          4. Grad   756460.0     NaN      N            B   \n",
       "3        Y      M  2. Some College   354151.0  2_<=25      Y            B   \n",
       "4        Y      F  2. Some College   117087.0     NaN      Y            J   \n",
       "5        Y      F          3. Bach   248694.0  6_<=65      Y            B   \n",
       "6        Y      M          3. Bach  2000000.0     NaN      Y            A   \n",
       "...    ...    ...              ...        ...     ...    ...          ...   \n",
       "39985    Y      F          4. Grad   632200.0  3_<=35      Y            B   \n",
       "39987    Y      M          4. Grad   509432.0  5_<=55      Y            B   \n",
       "39994    Y      M          4. Grad   603554.0  5_<=55      Y            C   \n",
       "39995    Y      F          3. Bach        NaN   7_>65      Y            C   \n",
       "39997    Y      M           0. <HS   134070.0  3_<=35      Y            F   \n",
       "\n",
       "      marriage child     occupation mortgage house_owner     region  car_prob  \\\n",
       "0          NaN   NaN   Professional     1Low         NaN    Midwest         1   \n",
       "3       Single   NaN  Sales/Service     1Low         NaN       West         2   \n",
       "4      Married     Y  Sales/Service     1Low         NaN      South         7   \n",
       "5      Married     N   Professional     2Med       Owner       West         1   \n",
       "6      Married   NaN   Professional     1Low         NaN  Northeast         5   \n",
       "...        ...   ...            ...      ...         ...        ...       ...   \n",
       "39985      NaN     Y   Professional    3High       Owner      South         1   \n",
       "39987  Married     N   Professional     2Med       Owner       West         1   \n",
       "39994  Married     Y   Professional    3High       Owner       West         2   \n",
       "39995      NaN   NaN        Retired     1Low         NaN      South         3   \n",
       "39997  Married   NaN  Sales/Service     1Low       Owner    Midwest         4   \n",
       "\n",
       "      fam_income  \n",
       "0              L  \n",
       "3              L  \n",
       "4              H  \n",
       "5              G  \n",
       "6              C  \n",
       "...          ...  \n",
       "39985          K  \n",
       "39987          J  \n",
       "39994          J  \n",
       "39995          F  \n",
       "39997          E  \n",
       "\n",
       "[20000 rows x 15 columns]"
      ]
     },
     "metadata": {},
     "output_type": "display_data"
    }
   ],
   "source": [
    "cluster_df"
   ]
  },
  {
   "cell_type": "code",
   "execution_count": 66,
   "metadata": {},
   "outputs": [
    {
     "data": {
      "text/plain": [
       "(20000, 15)"
      ]
     },
     "execution_count": 66,
     "metadata": {},
     "output_type": "execute_result"
    }
   ],
   "source": [
    "cluster_df.shape"
   ]
  },
  {
   "cell_type": "code",
   "execution_count": 67,
   "metadata": {},
   "outputs": [],
   "source": [
    "cluster_df = cluster_df.drop('child', axis=1)\n",
    "cluster_df = cluster_df.drop('house_val', axis=1)\n",
    "cluster_df = cluster_df.drop('house_owner', axis=1)\n",
    "cluster_df = cluster_df.drop('region', axis=1)\n"
   ]
  },
  {
   "cell_type": "code",
   "execution_count": 68,
   "metadata": {},
   "outputs": [
    {
     "data": {
      "text/plain": [
       "marriage        0.27610\n",
       "age             0.12765\n",
       "education       0.02130\n",
       "gender          0.01550\n",
       "fam_income      0.00325\n",
       "customer_psy    0.00265\n",
       "flag            0.00000\n",
       "online          0.00000\n",
       "occupation      0.00000\n",
       "mortgage        0.00000\n",
       "car_prob        0.00000\n",
       "dtype: float64"
      ]
     },
     "execution_count": 68,
     "metadata": {},
     "output_type": "execute_result"
    }
   ],
   "source": [
    "cluster_df.isnull().mean().sort_values(ascending = False)"
   ]
  },
  {
   "cell_type": "code",
   "execution_count": 69,
   "metadata": {},
   "outputs": [],
   "source": [
    "# From the percentage of NaNs above, I'm also gonna drop the marriage feature\n",
    "cluster_df = cluster_df.drop('marriage', axis=1)"
   ]
  },
  {
   "cell_type": "code",
   "execution_count": 70,
   "metadata": {},
   "outputs": [
    {
     "data": {
      "text/plain": [
       "(17236, 10)"
      ]
     },
     "execution_count": 70,
     "metadata": {},
     "output_type": "execute_result"
    }
   ],
   "source": [
    "cluster_df.dropna().shape #When dropping NaN values, this is the resultant shape -- not so bad as when not dropping the features above"
   ]
  },
  {
   "cell_type": "code",
   "execution_count": 71,
   "metadata": {},
   "outputs": [],
   "source": [
    "cluster_df = cluster_df.dropna()"
   ]
  },
  {
   "cell_type": "code",
   "execution_count": 72,
   "metadata": {},
   "outputs": [
    {
     "data": {
      "text/plain": [
       "Y    13923\n",
       "N     3313\n",
       "Name: online, dtype: int64"
      ]
     },
     "execution_count": 72,
     "metadata": {},
     "output_type": "execute_result"
    }
   ],
   "source": [
    "# Value counts for customers who availed the product with and without online shopping experience -- clusters formed from this 2 subgroups might help the company's marketing team in determing\n",
    "# best approaches in enticing customers from the following subgroups.\n",
    "cluster_df['online'].value_counts()"
   ]
  },
  {
   "cell_type": "code",
   "execution_count": 73,
   "metadata": {},
   "outputs": [],
   "source": [
    "# Make 2 new dataframes from cluster df\n",
    "cluster_df_online = cluster_df[cluster_df['online'] == 'Y'].copy()\n",
    "cluster_df_offline = cluster_df[cluster_df['online'] == 'N'].copy()"
   ]
  },
  {
   "cell_type": "code",
   "execution_count": 74,
   "metadata": {},
   "outputs": [],
   "source": [
    "# Form clusters from cluster_df_online\n",
    "\n",
    "# Dataset preparation\n",
    "#Label encoding the categorical features\n",
    "le = preprocessing.LabelEncoder()\n",
    "cluster_df_online = cluster_df_online.apply(le.fit_transform)"
   ]
  },
  {
   "cell_type": "code",
   "execution_count": 75,
   "metadata": {},
   "outputs": [
    {
     "name": "stdout",
     "output_type": "stream",
     "text": [
      "Init: initializing centroids\n",
      "Init: initializing clusters\n",
      "Starting iterations...\n",
      "Run 1, iteration: 1/100, moves: 0, cost: 64832.0\n",
      "Init: initializing centroids\n",
      "Init: initializing clusters\n",
      "Starting iterations...\n",
      "Run 1, iteration: 1/100, moves: 1525, cost: 57968.0\n",
      "Init: initializing centroids\n",
      "Init: initializing clusters\n",
      "Starting iterations...\n",
      "Run 1, iteration: 1/100, moves: 2263, cost: 55518.0\n",
      "Init: initializing centroids\n",
      "Init: initializing clusters\n",
      "Starting iterations...\n",
      "Run 1, iteration: 1/100, moves: 2676, cost: 53348.0\n",
      "Run 1, iteration: 2/100, moves: 402, cost: 53348.0\n",
      "Init: initializing centroids\n",
      "Init: initializing clusters\n",
      "Starting iterations...\n",
      "Run 1, iteration: 1/100, moves: 1893, cost: 52589.0\n",
      "Run 1, iteration: 2/100, moves: 672, cost: 52589.0\n",
      "Init: initializing centroids\n",
      "Init: initializing clusters\n",
      "Starting iterations...\n",
      "Run 1, iteration: 1/100, moves: 2765, cost: 51036.0\n",
      "Run 1, iteration: 2/100, moves: 466, cost: 51036.0\n",
      "Init: initializing centroids\n",
      "Init: initializing clusters\n",
      "Starting iterations...\n",
      "Run 1, iteration: 1/100, moves: 877, cost: 51383.0\n",
      "Init: initializing centroids\n",
      "Init: initializing clusters\n",
      "Starting iterations...\n",
      "Run 1, iteration: 1/100, moves: 848, cost: 50462.0\n",
      "Init: initializing centroids\n",
      "Init: initializing clusters\n",
      "Starting iterations...\n",
      "Run 1, iteration: 1/100, moves: 1295, cost: 49074.0\n",
      "Init: initializing centroids\n",
      "Init: initializing clusters\n",
      "Starting iterations...\n",
      "Run 1, iteration: 1/100, moves: 1640, cost: 48030.0\n",
      "Run 1, iteration: 2/100, moves: 365, cost: 48030.0\n",
      "Init: initializing centroids\n",
      "Init: initializing clusters\n",
      "Starting iterations...\n",
      "Run 1, iteration: 1/100, moves: 1859, cost: 46987.0\n",
      "Run 1, iteration: 2/100, moves: 364, cost: 46987.0\n",
      "Init: initializing centroids\n",
      "Init: initializing clusters\n",
      "Starting iterations...\n",
      "Run 1, iteration: 1/100, moves: 2603, cost: 44538.0\n",
      "Run 1, iteration: 2/100, moves: 410, cost: 44538.0\n",
      "Init: initializing centroids\n",
      "Init: initializing clusters\n",
      "Starting iterations...\n",
      "Run 1, iteration: 1/100, moves: 2379, cost: 44184.0\n",
      "Run 1, iteration: 2/100, moves: 245, cost: 44184.0\n",
      "Init: initializing centroids\n",
      "Init: initializing clusters\n",
      "Starting iterations...\n",
      "Run 1, iteration: 1/100, moves: 2584, cost: 43614.0\n",
      "Run 1, iteration: 2/100, moves: 250, cost: 43614.0\n"
     ]
    }
   ],
   "source": [
    "# Using K-Mode with \"Cao\" initialization \n",
    "\n",
    "cost = []\n",
    "for num_clusters in list(range(1,15)):\n",
    "    kmode = KModes(n_clusters=num_clusters, init = \"Cao\", n_init = 1, verbose=2)\n",
    "    kmode.fit_predict(cluster_df_online)\n",
    "    cost.append(kmode.cost_)"
   ]
  },
  {
   "cell_type": "code",
   "execution_count": 76,
   "metadata": {},
   "outputs": [
    {
     "data": {
      "text/plain": [
       "[<matplotlib.lines.Line2D at 0x21028d219c8>]"
      ]
     },
     "execution_count": 76,
     "metadata": {},
     "output_type": "execute_result"
    },
    {
     "data": {
      "image/png": "[encoded data removed]",
      "text/plain": [
       "<Figure size 432x288 with 1 Axes>"
      ]
     },
     "metadata": {
      "needs_background": "light"
     },
     "output_type": "display_data"
    }
   ],
   "source": [
    "y = np.array([i for i in range(1,15,1)])\n",
    "plt.plot(y,cost)"
   ]
  },
  {
   "cell_type": "markdown",
   "metadata": {},
   "source": [
    " Let's go with k = 4"
   ]
  },
  {
   "cell_type": "code",
   "execution_count": 77,
   "metadata": {},
   "outputs": [
    {
     "name": "stdout",
     "output_type": "stream",
     "text": [
      "Init: initializing centroids\n",
      "Init: initializing clusters\n",
      "Starting iterations...\n",
      "Run 1, iteration: 1/100, moves: 2676, cost: 53348.0\n",
      "Run 1, iteration: 2/100, moves: 402, cost: 53348.0\n"
     ]
    }
   ],
   "source": [
    "km_cao = KModes(n_clusters=4, init = \"Cao\", n_init = 1, verbose=1)\n",
    "fitClusters_cao = km_cao.fit_predict(cluster_df_online) # generate the clusters with n=4 and store the np array at fitClusters_cao"
   ]
  },
  {
   "cell_type": "code",
   "execution_count": 78,
   "metadata": {},
   "outputs": [],
   "source": [
    "#Joining the predicted clusters with the original DF (cluster_df_online)\n",
    "cluster_df_online = cluster_df[cluster_df['online'] == 'Y'].copy().reset_index()\n",
    "clustersDf = pd.DataFrame(fitClusters_cao)\n",
    "clustersDf.columns = ['cluster_predicted']\n",
    "combinedDf = pd.concat([cluster_df_online, clustersDf], axis = 1).reset_index()\n",
    "combinedDf = combinedDf.drop(['index', 'level_0'], axis = 1)"
   ]
  },
  {
   "cell_type": "code",
   "execution_count": 79,
   "metadata": {},
   "outputs": [],
   "source": [
    "#cast cluster_predicted to int\n",
    "combinedDf.cluster_predicted = combinedDf.cluster_predicted.astype(int)"
   ]
  },
  {
   "cell_type": "code",
   "execution_count": 114,
   "metadata": {},
   "outputs": [],
   "source": [
    "# Exploring the DF to make sense of the formed clusters \n",
    "# 1 - Getting feature importances from a random forest classifier model (to know how the clusters differ )\n",
    "\n",
    "# Building the dataframe for Random Forest Classification\n",
    "\n",
    "#create a copy\n",
    "combined_df = combinedDf.drop('flag', axis=1).copy() \n",
    "\n",
    "# one hot encoding\n",
    "combined_df = pd.get_dummies(combined_df, columns=['gender', 'occupation', 'customer_psy'])\n",
    "combined_df = combined_df.drop(['gender_F','online'], axis=1) #dropping redundant column and the online column since the data samples are all online shoppers\n",
    "\n",
    "# label encoding\n",
    "\n",
    "dict_car_prob = {1: 9, 2: 8, 3: 7, 4: 6, 5: 5 , 6: 4, 7: 3, 8:2, 9:1}\n",
    "dict_age = {\"2_<=25\":1, \"3_<=35\":2, \"4_<=45\": 3, \"5_<=55\": 4, \"6_<=65\": 5, \"7_>65\":6 }\n",
    "dict_fam_income = {\"A\":1, \"B\":2, \"C\":3, \"D\":4, \"E\":5, \"F\":6, \"G\":7, \"H\":8, \"I\":9, \"J\":10, \"K\":11, \"L\":12}\n",
    "dict_education = {\"0. <HS\":1, \"1. HS\":2, \"2. Some College\":3, \"3. Bach\":4, \"4. Grad\":5}\n",
    "dict_mortgage = {\"1Low\":1, \"2Med\":2, \"3High\":3}\n",
    "\n",
    "combined_df = combined_df.replace({\"car_prob\": dict_car_prob})\n",
    "combined_df = combined_df.replace({\"age\": dict_age})\n",
    "combined_df = combined_df.replace({\"fam_income\": dict_fam_income})\n",
    "combined_df = combined_df.replace({\"education\": dict_education})\n",
    "combined_df = combined_df.replace({\"mortgage\": dict_mortgage})\n",
    "\n",
    "X, y = combined_df.iloc[:,:-1], combined_df.iloc[:,-1]\n",
    "X_train, X_test, y_train, y_test = train_test_split(X, y, test_size=0.30, random_state=17, stratify = y)"
   ]
  },
  {
   "cell_type": "code",
   "execution_count": 121,
   "metadata": {},
   "outputs": [
    {
     "data": {
      "text/plain": [
       "0.9942542494613359"
      ]
     },
     "execution_count": 121,
     "metadata": {},
     "output_type": "execute_result"
    }
   ],
   "source": [
    "#2 - feature importance from a random forest classifier \n",
    "\n",
    "from sklearn.ensemble import RandomForestClassifier\n",
    "\n",
    "clf = RandomForestClassifier(n_estimators=100).fit(X_train, y_train)\n",
    "predictions = clf.predict(X_test)\n",
    "accuracy_score(y_test,predictions)\n",
    "#Test accuracy for clusters is pretty high i.e. they are different.. but what makes them different? Let's check out feature importances"
   ]
  },
  {
   "cell_type": "code",
   "execution_count": 128,
   "metadata": {},
   "outputs": [
    {
     "data": {
      "text/plain": [
       "<matplotlib.axes._subplots.AxesSubplot at 0x2102ace3248>"
      ]
     },
     "execution_count": 128,
     "metadata": {},
     "output_type": "execute_result"
    },
    {
     "data": {
      "image/png": "[encoded data removed]",
      "text/plain": [
       "<Figure size 432x288 with 1 Axes>"
      ]
     },
     "metadata": {
      "needs_background": "light"
     },
     "output_type": "display_data"
    }
   ],
   "source": [
    "feat_importances = pd.Series(clf.feature_importances_, index=X.columns)\n",
    "feat_importances.nlargest(15).plot(kind='barh')"
   ]
  },
  {
   "cell_type": "markdown",
   "metadata": {},
   "source": [
    "From the feature importance above, we can see that the clusters mainly differed in terms of customer psychology, family income and interestingly, probability of buying a new car. So we can assume that the clusters mainly differ in terms of a customer's purchasing psychology + spending power. It would be great if we can get more details re: customer psychology definitions but since this is a heavily anonymized dataset sourced from real world data, I guess we can settle for this.<br>\n",
    "\n",
    "Lastly, I'll try to visualize the formed clusters to see if we could gain more insights on how they differ. \n",
    "\n",
    "Recommendation for future clustering: Maybe also segragate the customers w/ online shopping experience dataset via Gender so we could align cluster insights with targeted ads."
   ]
  },
  {
   "cell_type": "code",
   "execution_count": 131,
   "metadata": {},
   "outputs": [
    {
     "data": {
      "text/plain": [
       "0    7827\n",
       "1    2924\n",
       "2    1623\n",
       "3    1549\n",
       "Name: cluster_predicted, dtype: int64"
      ]
     },
     "execution_count": 131,
     "metadata": {},
     "output_type": "execute_result"
    }
   ],
   "source": [
    "combinedDf['cluster_predicted'].value_counts()"
   ]
  },
  {
   "cell_type": "code",
   "execution_count": 137,
   "metadata": {},
   "outputs": [
    {
     "data": {
      "application/vnd.jupyter.widget-view+json": {
       "model_id": "1bbfba0b26f3415fb68f4cacc885c410",
       "version_major": 2,
       "version_minor": 0
      },
      "text/plain": [
       "TabSection(children=(BrowserCheck(), HBox(children=(Tab(closable=False, title='plot', _dom_classes=('bamboolib…"
      ]
     },
     "metadata": {},
     "output_type": "display_data"
    }
   ],
   "source": [
    "bam.plot(combinedDf, 'cluster_predicted', 'customer_psy')"
   ]
  },
  {
   "cell_type": "code",
   "execution_count": 134,
   "metadata": {},
   "outputs": [
    {
     "data": {
      "application/vnd.jupyter.widget-view+json": {
       "model_id": "b6200bc8a0e945fd910c2f1c9a5d7995",
       "version_major": 2,
       "version_minor": 0
      },
      "text/plain": [
       "TabSection(children=(BrowserCheck(), HBox(children=(Tab(closable=False, title='plot', _dom_classes=('bamboolib…"
      ]
     },
     "metadata": {},
     "output_type": "display_data"
    }
   ],
   "source": [
    "bam.plot(combinedDf, 'cluster_predicted', 'fam_income')"
   ]
  },
  {
   "cell_type": "code",
   "execution_count": null,
   "metadata": {},
   "outputs": [],
   "source": []
  }
 ],
 "metadata": {
  "kernelspec": {
   "display_name": "Python 3",
   "language": "python",
   "name": "python3"
  },
  "language_info": {
   "codemirror_mode": {
    "name": "ipython",
    "version": 3
   },
   "file_extension": ".py",
   "mimetype": "text/x-python",
   "name": "python",
   "nbconvert_exporter": "python",
   "pygments_lexer": "ipython3",
   "version": "3.7.6"
  }
 },
 "nbformat": 4,
 "nbformat_minor": 5
}
