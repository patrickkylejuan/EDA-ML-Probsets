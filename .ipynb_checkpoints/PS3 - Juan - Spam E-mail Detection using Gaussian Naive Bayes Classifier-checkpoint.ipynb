{
 "cells": [
  {
   "cell_type": "markdown",
   "metadata": {},
   "source": [
    "# Problem Set 3 CS129.18\n",
    "\n",
    "The following problem set will revolve around the Enron Emails dataset.\n",
    "The dataset `data/enron-data/` directory has 6 files. The objective is to build a classifier for whether email is spam or not.\n"
   ]
  },
  {
   "cell_type": "markdown",
   "metadata": {},
   "source": [
    "## Requirements\n",
    "\n",
    "\n",
    ">Spam or Ham?\n",
    "\n",
    "Using the lessons on Naive Bayes and TF-IDF, and the other resource notebooks, show the following in this Jupyter Notebook.\n",
    "\n",
    "Write your answers down as Markdown cells or comments in the code.\n",
    "\n",
    "**Using Enron 1 and 2**\n",
    "\n",
    "1. How many Spam Emails are there? ( 1 pt )\n",
    "\n",
    "2. Structure the email data from the 2 directories into 1 dataframe with columns: Status, Subject, Body ( 7 pts )\n",
    "\n",
    "3. Build a Naive Bayes classifier to classify whether emails are spam or not. ( 3 pts )\n",
    "\n",
    "4. What is the longest ham email? ( 1 pt )\n",
    "\n",
    "5. What is the accuracy of your model?( 1 pt )\n",
    "\n",
    "6. Include the Subject in the analysis of the emails, does the accuracy/performance of the model increase? (7 pts)\n",
    "\n",
    "\n",
    "\n",
    "-----\n",
    "\n",
    "\n",
    "Bonus : Answer questions 1-6 using Enron 1,2, and 3. (5 pts)\n",
    "\n",
    "----\n",
    "\n",
    "**Submit this file on Moodle on the submission link I will provide. This is due October 18 12nn.**"
   ]
  },
  {
   "cell_type": "code",
   "execution_count": 1,
   "metadata": {},
   "outputs": [],
   "source": [
    "%matplotlib inline\n",
    "\n",
    "import matplotlib.pylab as plt\n",
    "import numpy as np\n",
    "import pandas as pd\n",
    "import seaborn as sns\n",
    "import os\n",
    "import random\n",
    "import re\n",
    "import email\n",
    "from sklearn.metrics import confusion_matrix\n",
    "from sklearn.metrics import classification_report"
   ]
  },
  {
   "cell_type": "code",
   "execution_count": 2,
   "metadata": {},
   "outputs": [
    {
     "name": "stdout",
     "output_type": "stream",
     "text": [
      "data/enron-data/enron1 ['ham', 'spam'] 2\n",
      "data/enron-data/enron1\\ham [] 3672\n",
      "data/enron-data/enron1\\spam [] 1499\n"
     ]
    }
   ],
   "source": [
    "rootdir_1 = \"data/enron-data/enron1\"\n",
    "# Loop through all the directories, sub directories and files in the above folder, and print them.\n",
    "for directories, subdirs, files in os.walk(rootdir_1):\n",
    "    print(directories, subdirs, len(files))"
   ]
  },
  {
   "cell_type": "code",
   "execution_count": 3,
   "metadata": {},
   "outputs": [],
   "source": [
    "ham_list_1 = []\n",
    "spam_list_1 = []\n",
    "\n",
    "# Same as before, but this time, read the files, and append them to the ham and spam list\n",
    "for directories, subdirs, files in os.walk(rootdir_1):\n",
    "    if (os.path.split(directories)[1]  == 'ham'):\n",
    "        for filename in files:      \n",
    "            with open(os.path.join(directories, filename), encoding=\"latin-1\") as f:\n",
    "                data = f.read()\n",
    "                ham_list_1.append(data)\n",
    "    \n",
    "    if (os.path.split(directories)[1]  == 'spam'):\n",
    "        for filename in files:\n",
    "            with open(os.path.join(directories, filename), encoding=\"latin-1\") as f:\n",
    "                data = f.read()\n",
    "                spam_list_1.append(data)\n"
   ]
  },
  {
   "cell_type": "code",
   "execution_count": 4,
   "metadata": {},
   "outputs": [
    {
     "name": "stdout",
     "output_type": "stream",
     "text": [
      "data/enron-data/enron2 ['ham', 'spam'] 1\n",
      "data/enron-data/enron2\\ham [] 4361\n",
      "data/enron-data/enron2\\spam [] 1494\n"
     ]
    }
   ],
   "source": [
    "rootdir_2 = \"data/enron-data/enron2\"\n",
    "# Loop through all the directories, sub directories and files in the above folder, and print them.\n",
    "for directories, subdirs, files in os.walk(rootdir_2):\n",
    "    print(directories, subdirs, len(files))"
   ]
  },
  {
   "cell_type": "code",
   "execution_count": 5,
   "metadata": {},
   "outputs": [],
   "source": [
    "ham_list_2 = []\n",
    "spam_list_2 = []\n",
    "\n",
    "# Same as before, but this time, read the files, and append them to the ham and spam list\n",
    "for directories, subdirs, files in os.walk(rootdir_2):\n",
    "    if (os.path.split(directories)[1]  == 'ham'):\n",
    "        for filename in files:      \n",
    "            with open(os.path.join(directories, filename), encoding=\"latin-1\") as f:\n",
    "                data = f.read()\n",
    "                ham_list_2.append(data)\n",
    "    \n",
    "    if (os.path.split(directories)[1]  == 'spam'):\n",
    "        for filename in files:\n",
    "            with open(os.path.join(directories, filename), encoding=\"latin-1\") as f:\n",
    "                data = f.read()\n",
    "                spam_list_2.append(data)"
   ]
  },
  {
   "cell_type": "markdown",
   "metadata": {},
   "source": [
    "### 1. How many Spam Emails are there? ( 1 pt )"
   ]
  },
  {
   "cell_type": "markdown",
   "metadata": {},
   "source": [
    "Based on the directory details, there are (1494 + 1499) spam emails in the enron1 and enron2 folders"
   ]
  },
  {
   "cell_type": "markdown",
   "metadata": {},
   "source": [
    "### 2. Structure the email data from the 2 directories into 1 dataframe with columns: Status, Subject, Body ( 7 pts )"
   ]
  },
  {
   "cell_type": "code",
   "execution_count": 6,
   "metadata": {},
   "outputs": [],
   "source": [
    "# loop and build a dataframe \n",
    "# combining the spam and non spam lists\n",
    "ham_list = ham_list_1 + ham_list_2 \n",
    "spam_list = spam_list_1 + spam_list_2"
   ]
  },
  {
   "cell_type": "code",
   "execution_count": 7,
   "metadata": {},
   "outputs": [],
   "source": [
    "#creating individual lists for status, subject and body per email by parsing first the list of hams, then the list of spams\n",
    "status_list = []\n",
    "subject_list = []\n",
    "body_list = []\n",
    "\n",
    "for mail in ham_list:\n",
    "    msg = email.message_from_string(mail)\n",
    "    status = \"ham\"\n",
    "    subject = msg['subject']\n",
    "    if msg.is_multipart():\n",
    "        for part in msg.walk():\n",
    "            part_list = []\n",
    "            payload = part.get_payload(decode=False) \n",
    "            part_list.append(payload)\n",
    "            payload = ' '.join(part_list)\n",
    "    else:\n",
    "        payload = msg.get_payload(decode=False)\n",
    "    status_list.append(status)\n",
    "    subject_list.append(subject)\n",
    "    body_list.append(payload)\n",
    "    "
   ]
  },
  {
   "cell_type": "code",
   "execution_count": 8,
   "metadata": {},
   "outputs": [],
   "source": [
    "for mail in spam_list:\n",
    "    msg = email.message_from_string(mail)\n",
    "    status = \"spam\"\n",
    "    subject = msg['subject']\n",
    "    if msg.is_multipart():\n",
    "        for part in msg.walk():\n",
    "            part_list = []\n",
    "            payload = part.get_payload(decode=False) \n",
    "            part_list.append(payload)\n",
    "            payload = ' '.join(part_list)\n",
    "    else:\n",
    "        payload = msg.get_payload(decode=False)\n",
    "    status_list.append(status)\n",
    "    subject_list.append(subject)\n",
    "    body_list.append(payload)"
   ]
  },
  {
   "cell_type": "code",
   "execution_count": 9,
   "metadata": {},
   "outputs": [
    {
     "name": "stdout",
     "output_type": "stream",
     "text": [
      "11026\n",
      "11026\n",
      "11026\n"
     ]
    }
   ],
   "source": [
    "print(len(status_list))\n",
    "print(len(subject_list))\n",
    "print(len(body_list))"
   ]
  },
  {
   "cell_type": "code",
   "execution_count": 10,
   "metadata": {},
   "outputs": [],
   "source": [
    "# Create pandas dataframe from lists\n",
    "df = pd.DataFrame(list(zip(status_list, subject_list, body_list)), columns = ['Status', 'Subject', 'Body'])"
   ]
  },
  {
   "cell_type": "code",
   "execution_count": 11,
   "metadata": {},
   "outputs": [
    {
     "data": {
      "text/html": [
       "<div>\n",
       "<style scoped>\n",
       "    .dataframe tbody tr th:only-of-type {\n",
       "        vertical-align: middle;\n",
       "    }\n",
       "\n",
       "    .dataframe tbody tr th {\n",
       "        vertical-align: top;\n",
       "    }\n",
       "\n",
       "    .dataframe thead th {\n",
       "        text-align: right;\n",
       "    }\n",
       "</style>\n",
       "<table border=\"1\" class=\"dataframe\">\n",
       "  <thead>\n",
       "    <tr style=\"text-align: right;\">\n",
       "      <th></th>\n",
       "      <th>Status</th>\n",
       "      <th>Subject</th>\n",
       "      <th>Body</th>\n",
       "    </tr>\n",
       "  </thead>\n",
       "  <tbody>\n",
       "    <tr>\n",
       "      <th>0</th>\n",
       "      <td>ham</td>\n",
       "      <td>christmas tree farm pictures</td>\n",
       "      <td></td>\n",
       "    </tr>\n",
       "    <tr>\n",
       "      <th>1</th>\n",
       "      <td>ham</td>\n",
       "      <td>vastar resources , inc .</td>\n",
       "      <td>gary , production from the high island larger ...</td>\n",
       "    </tr>\n",
       "    <tr>\n",
       "      <th>2</th>\n",
       "      <td>ham</td>\n",
       "      <td>calpine daily gas nomination</td>\n",
       "      <td>- calpine daily gas nomination 1 . doc</td>\n",
       "    </tr>\n",
       "    <tr>\n",
       "      <th>3</th>\n",
       "      <td>ham</td>\n",
       "      <td>re : issue</td>\n",
       "      <td>fyi - see note below - already done .\\nstella\\...</td>\n",
       "    </tr>\n",
       "    <tr>\n",
       "      <th>4</th>\n",
       "      <td>ham</td>\n",
       "      <td>meter 7268 nov allocation</td>\n",
       "      <td>fyi .\\n- - - - - - - - - - - - - - - - - - - -...</td>\n",
       "    </tr>\n",
       "    <tr>\n",
       "      <th>5</th>\n",
       "      <td>ham</td>\n",
       "      <td>mcmullen gas for 11 / 99</td>\n",
       "      <td>jackie ,\\nsince the inlet to 3 river plant is ...</td>\n",
       "    </tr>\n",
       "    <tr>\n",
       "      <th>6</th>\n",
       "      <td>ham</td>\n",
       "      <td>meter 1517 - jan 1999</td>\n",
       "      <td>george ,\\ni need the following done :\\njan 13\\...</td>\n",
       "    </tr>\n",
       "    <tr>\n",
       "      <th>7</th>\n",
       "      <td>ham</td>\n",
       "      <td>duns number changes</td>\n",
       "      <td>fyi\\n- - - - - - - - - - - - - - - - - - - - -...</td>\n",
       "    </tr>\n",
       "    <tr>\n",
       "      <th>8</th>\n",
       "      <td>ham</td>\n",
       "      <td>king ranch</td>\n",
       "      <td>there are two fields of gas that i am having d...</td>\n",
       "    </tr>\n",
       "    <tr>\n",
       "      <th>9</th>\n",
       "      <td>ham</td>\n",
       "      <td>re : entex transistion</td>\n",
       "      <td>thanks so much for the memo . i would like to ...</td>\n",
       "    </tr>\n",
       "  </tbody>\n",
       "</table>\n",
       "</div>"
      ],
      "text/plain": [
       "  Status                       Subject  \\\n",
       "0    ham  christmas tree farm pictures   \n",
       "1    ham      vastar resources , inc .   \n",
       "2    ham  calpine daily gas nomination   \n",
       "3    ham                    re : issue   \n",
       "4    ham     meter 7268 nov allocation   \n",
       "5    ham      mcmullen gas for 11 / 99   \n",
       "6    ham         meter 1517 - jan 1999   \n",
       "7    ham           duns number changes   \n",
       "8    ham                    king ranch   \n",
       "9    ham        re : entex transistion   \n",
       "\n",
       "                                                Body  \n",
       "0                                                     \n",
       "1  gary , production from the high island larger ...  \n",
       "2             - calpine daily gas nomination 1 . doc  \n",
       "3  fyi - see note below - already done .\\nstella\\...  \n",
       "4  fyi .\\n- - - - - - - - - - - - - - - - - - - -...  \n",
       "5  jackie ,\\nsince the inlet to 3 river plant is ...  \n",
       "6  george ,\\ni need the following done :\\njan 13\\...  \n",
       "7  fyi\\n- - - - - - - - - - - - - - - - - - - - -...  \n",
       "8  there are two fields of gas that i am having d...  \n",
       "9  thanks so much for the memo . i would like to ...  "
      ]
     },
     "execution_count": 11,
     "metadata": {},
     "output_type": "execute_result"
    }
   ],
   "source": [
    "df.head(10)"
   ]
  },
  {
   "cell_type": "markdown",
   "metadata": {},
   "source": [
    "### 3. Build a Naive Bayes classifier to classify whether emails are spam or not. ( 3 pts )\n"
   ]
  },
  {
   "cell_type": "code",
   "execution_count": 12,
   "metadata": {},
   "outputs": [
    {
     "data": {
      "image/png": "[encoded data removed]",
      "text/plain": [
       "<Figure size 1008x576 with 1 Axes>"
      ]
     },
     "metadata": {},
     "output_type": "display_data"
    }
   ],
   "source": [
    "plt.style.use('fivethirtyeight')\n",
    "plt.figure(figsize=(14,8))\n",
    "\n",
    "df_2 = df.groupby('Status').count()\n",
    "df_2.reset_index(inplace=True)\n",
    "sns.barplot(x='Status', y='Body', data=df_2);"
   ]
  },
  {
   "cell_type": "code",
   "execution_count": 13,
   "metadata": {},
   "outputs": [],
   "source": [
    "# train test split\n",
    "from sklearn.model_selection import train_test_split\n",
    "from sklearn.feature_extraction.text import TfidfVectorizer\n",
    "from sklearn.feature_extraction.text import CountVectorizer\n",
    "from sklearn.naive_bayes import GaussianNB\n",
    "from sklearn.model_selection import train_test_split, cross_val_score\n",
    "\n",
    "train_x, test_x, train_y, test_y = train_test_split(df[\"Body\"], df[\"Status\"], test_size = 0.30, stratify = df[\"Status\"],random_state=17) #preserve the distribution"
   ]
  },
  {
   "cell_type": "code",
   "execution_count": 14,
   "metadata": {},
   "outputs": [],
   "source": [
    "vectorizer = TfidfVectorizer(stop_words='english')\n",
    "tfidf_train_x = vectorizer.fit_transform(train_x)"
   ]
  },
  {
   "cell_type": "code",
   "execution_count": 15,
   "metadata": {},
   "outputs": [],
   "source": [
    "index_value={i[1]:i[0] for i in vectorizer.vocabulary_.items()}\n",
    "fully_indexed = []\n",
    "for row in tfidf_train_x:\n",
    "    fully_indexed.append({index_value[column]:value for (column,value) in zip(row.indices,row.data)})"
   ]
  },
  {
   "cell_type": "code",
   "execution_count": 16,
   "metadata": {},
   "outputs": [
    {
     "data": {
      "text/plain": [
       "GaussianNB()"
      ]
     },
     "execution_count": 16,
     "metadata": {},
     "output_type": "execute_result"
    }
   ],
   "source": [
    "classifier = GaussianNB()\n",
    "classifier.fit(tfidf_train_x.toarray(), train_y)"
   ]
  },
  {
   "cell_type": "code",
   "execution_count": 17,
   "metadata": {},
   "outputs": [
    {
     "name": "stdout",
     "output_type": "stream",
     "text": [
      "(3308, 58235)\n",
      "Accuracy: 93.98 percent\n"
     ]
    }
   ],
   "source": [
    "tfidf_test_x = vectorizer.transform(test_x) #applying tf-idf to the test data\n",
    "print(tfidf_test_x.shape)\n",
    "scores = cross_val_score(classifier, tfidf_test_x.toarray(), test_y, cv=5) #cross-validation\n",
    "acc = scores.mean()\n",
    "print(\"Accuracy: %0.2f percent\" % (acc *100))"
   ]
  },
  {
   "cell_type": "code",
   "execution_count": 18,
   "metadata": {},
   "outputs": [
    {
     "data": {
      "text/html": [
       "<div>\n",
       "<style scoped>\n",
       "    .dataframe tbody tr th:only-of-type {\n",
       "        vertical-align: middle;\n",
       "    }\n",
       "\n",
       "    .dataframe tbody tr th {\n",
       "        vertical-align: top;\n",
       "    }\n",
       "\n",
       "    .dataframe thead th {\n",
       "        text-align: right;\n",
       "    }\n",
       "</style>\n",
       "<table border=\"1\" class=\"dataframe\">\n",
       "  <thead>\n",
       "    <tr style=\"text-align: right;\">\n",
       "      <th></th>\n",
       "      <th>ham</th>\n",
       "      <th>spam</th>\n",
       "      <th>accuracy</th>\n",
       "      <th>macro avg</th>\n",
       "      <th>weighted avg</th>\n",
       "    </tr>\n",
       "  </thead>\n",
       "  <tbody>\n",
       "    <tr>\n",
       "      <th>precision</th>\n",
       "      <td>0.941481</td>\n",
       "      <td>0.943467</td>\n",
       "      <td>0.941959</td>\n",
       "      <td>0.942474</td>\n",
       "      <td>0.942020</td>\n",
       "    </tr>\n",
       "    <tr>\n",
       "      <th>recall</th>\n",
       "      <td>0.981328</td>\n",
       "      <td>0.836303</td>\n",
       "      <td>0.941959</td>\n",
       "      <td>0.908815</td>\n",
       "      <td>0.941959</td>\n",
       "    </tr>\n",
       "    <tr>\n",
       "      <th>f1-score</th>\n",
       "      <td>0.960991</td>\n",
       "      <td>0.886659</td>\n",
       "      <td>0.941959</td>\n",
       "      <td>0.923825</td>\n",
       "      <td>0.940813</td>\n",
       "    </tr>\n",
       "    <tr>\n",
       "      <th>support</th>\n",
       "      <td>2410.000000</td>\n",
       "      <td>898.000000</td>\n",
       "      <td>0.941959</td>\n",
       "      <td>3308.000000</td>\n",
       "      <td>3308.000000</td>\n",
       "    </tr>\n",
       "  </tbody>\n",
       "</table>\n",
       "</div>"
      ],
      "text/plain": [
       "                   ham        spam  accuracy    macro avg  weighted avg\n",
       "precision     0.941481    0.943467  0.941959     0.942474      0.942020\n",
       "recall        0.981328    0.836303  0.941959     0.908815      0.941959\n",
       "f1-score      0.960991    0.886659  0.941959     0.923825      0.940813\n",
       "support    2410.000000  898.000000  0.941959  3308.000000   3308.000000"
      ]
     },
     "execution_count": 18,
     "metadata": {},
     "output_type": "execute_result"
    },
    {
     "data": {
      "image/png": "[encoded data removed]",
      "text/plain": [
       "<Figure size 432x288 with 2 Axes>"
      ]
     },
     "metadata": {},
     "output_type": "display_data"
    }
   ],
   "source": [
    "# Checking out the confusion matrix from one random train test split \n",
    "\n",
    "\n",
    "predictions = classifier.predict(tfidf_test_x.toarray())\n",
    "\n",
    "cf_matrix = confusion_matrix(test_y, predictions)\n",
    "sns.heatmap(cf_matrix, annot=True, cmap='Blues', fmt='g')\n",
    "pd.DataFrame(classification_report(test_y,predictions,output_dict=True))"
   ]
  },
  {
   "cell_type": "markdown",
   "metadata": {},
   "source": [
    "### 4. What is the longest ham email? ( 1 pt )"
   ]
  },
  {
   "cell_type": "code",
   "execution_count": 19,
   "metadata": {},
   "outputs": [],
   "source": [
    "max(ham_list, key=len); #output is hidden, but here is a line to get the longest ham email from the list of hams"
   ]
  },
  {
   "cell_type": "markdown",
   "metadata": {},
   "source": [
    "### 5. What is the accuracy of your model?( 1 pt )"
   ]
  },
  {
   "cell_type": "markdown",
   "metadata": {},
   "source": [
    "The accuracy of the model is 93.98 percent"
   ]
  },
  {
   "cell_type": "markdown",
   "metadata": {},
   "source": [
    "### 6. Include the Subject in the analysis of the emails, does the accuracy/performance of the model increase? (7 pts)"
   ]
  },
  {
   "cell_type": "code",
   "execution_count": 20,
   "metadata": {},
   "outputs": [],
   "source": [
    "# I'll be concatenating the Subject + Body columns together.\n",
    "df['subject_body'] = df[\"Subject\"] + df[\"Body\"]"
   ]
  },
  {
   "cell_type": "code",
   "execution_count": 21,
   "metadata": {},
   "outputs": [
    {
     "data": {
      "text/html": [
       "<div>\n",
       "<style scoped>\n",
       "    .dataframe tbody tr th:only-of-type {\n",
       "        vertical-align: middle;\n",
       "    }\n",
       "\n",
       "    .dataframe tbody tr th {\n",
       "        vertical-align: top;\n",
       "    }\n",
       "\n",
       "    .dataframe thead th {\n",
       "        text-align: right;\n",
       "    }\n",
       "</style>\n",
       "<table border=\"1\" class=\"dataframe\">\n",
       "  <thead>\n",
       "    <tr style=\"text-align: right;\">\n",
       "      <th></th>\n",
       "      <th>Status</th>\n",
       "      <th>Subject</th>\n",
       "      <th>Body</th>\n",
       "      <th>subject_body</th>\n",
       "    </tr>\n",
       "  </thead>\n",
       "  <tbody>\n",
       "    <tr>\n",
       "      <th>0</th>\n",
       "      <td>ham</td>\n",
       "      <td>christmas tree farm pictures</td>\n",
       "      <td></td>\n",
       "      <td>christmas tree farm pictures</td>\n",
       "    </tr>\n",
       "    <tr>\n",
       "      <th>1</th>\n",
       "      <td>ham</td>\n",
       "      <td>vastar resources , inc .</td>\n",
       "      <td>gary , production from the high island larger ...</td>\n",
       "      <td>vastar resources , inc .gary , production from...</td>\n",
       "    </tr>\n",
       "    <tr>\n",
       "      <th>2</th>\n",
       "      <td>ham</td>\n",
       "      <td>calpine daily gas nomination</td>\n",
       "      <td>- calpine daily gas nomination 1 . doc</td>\n",
       "      <td>calpine daily gas nomination- calpine daily ga...</td>\n",
       "    </tr>\n",
       "    <tr>\n",
       "      <th>3</th>\n",
       "      <td>ham</td>\n",
       "      <td>re : issue</td>\n",
       "      <td>fyi - see note below - already done .\\nstella\\...</td>\n",
       "      <td>re : issuefyi - see note below - already done ...</td>\n",
       "    </tr>\n",
       "    <tr>\n",
       "      <th>4</th>\n",
       "      <td>ham</td>\n",
       "      <td>meter 7268 nov allocation</td>\n",
       "      <td>fyi .\\n- - - - - - - - - - - - - - - - - - - -...</td>\n",
       "      <td>meter 7268 nov allocationfyi .\\n- - - - - - - ...</td>\n",
       "    </tr>\n",
       "  </tbody>\n",
       "</table>\n",
       "</div>"
      ],
      "text/plain": [
       "  Status                       Subject  \\\n",
       "0    ham  christmas tree farm pictures   \n",
       "1    ham      vastar resources , inc .   \n",
       "2    ham  calpine daily gas nomination   \n",
       "3    ham                    re : issue   \n",
       "4    ham     meter 7268 nov allocation   \n",
       "\n",
       "                                                Body  \\\n",
       "0                                                      \n",
       "1  gary , production from the high island larger ...   \n",
       "2             - calpine daily gas nomination 1 . doc   \n",
       "3  fyi - see note below - already done .\\nstella\\...   \n",
       "4  fyi .\\n- - - - - - - - - - - - - - - - - - - -...   \n",
       "\n",
       "                                        subject_body  \n",
       "0                       christmas tree farm pictures  \n",
       "1  vastar resources , inc .gary , production from...  \n",
       "2  calpine daily gas nomination- calpine daily ga...  \n",
       "3  re : issuefyi - see note below - already done ...  \n",
       "4  meter 7268 nov allocationfyi .\\n- - - - - - - ...  "
      ]
     },
     "execution_count": 21,
     "metadata": {},
     "output_type": "execute_result"
    }
   ],
   "source": [
    "df.head()"
   ]
  },
  {
   "cell_type": "code",
   "execution_count": 22,
   "metadata": {},
   "outputs": [],
   "source": [
    "train_x, test_x, train_y, test_y = train_test_split(df[\"subject_body\"], df[\"Status\"], test_size = 0.30, stratify = df[\"Status\"], random_state=17) #preserve the distribution"
   ]
  },
  {
   "cell_type": "code",
   "execution_count": 23,
   "metadata": {},
   "outputs": [],
   "source": [
    "vectorizer = TfidfVectorizer(stop_words='english') #initialize a tf_idf vectorizer\n",
    "tfidf_train_x = vectorizer.fit_transform(train_x) # fit and transform the training data from the initialized tf-idf vectorizer"
   ]
  },
  {
   "cell_type": "code",
   "execution_count": 24,
   "metadata": {},
   "outputs": [],
   "source": [
    "index_value={i[1]:i[0] for i in vectorizer.vocabulary_.items()}\n",
    "fully_indexed = []\n",
    "# build a  dictionary of unique words in documents and corresponding tf-idf score\n",
    "for row in tfidf_train_x:\n",
    "    fully_indexed.append({index_value[column]:value for (column,value) in zip(row.indices,row.data)})"
   ]
  },
  {
   "cell_type": "code",
   "execution_count": 25,
   "metadata": {},
   "outputs": [
    {
     "data": {
      "text/plain": [
       "GaussianNB()"
      ]
     },
     "execution_count": 25,
     "metadata": {},
     "output_type": "execute_result"
    }
   ],
   "source": [
    "classifier = GaussianNB()\n",
    "classifier.fit(tfidf_train_x.toarray(), train_y)"
   ]
  },
  {
   "cell_type": "code",
   "execution_count": 26,
   "metadata": {},
   "outputs": [
    {
     "name": "stdout",
     "output_type": "stream",
     "text": [
      "(3308, 63456)\n",
      "Accuracy: 94.56 percent\n"
     ]
    }
   ],
   "source": [
    "tfidf_test_x = vectorizer.transform(test_x)\n",
    "print(tfidf_test_x.shape)\n",
    "scores = cross_val_score(classifier, tfidf_test_x.toarray(), test_y, cv=5)\n",
    "acc = scores.mean()\n",
    "print(\"Accuracy: %0.2f percent\" % (acc *100))"
   ]
  },
  {
   "cell_type": "code",
   "execution_count": 27,
   "metadata": {},
   "outputs": [
    {
     "data": {
      "text/html": [
       "<div>\n",
       "<style scoped>\n",
       "    .dataframe tbody tr th:only-of-type {\n",
       "        vertical-align: middle;\n",
       "    }\n",
       "\n",
       "    .dataframe tbody tr th {\n",
       "        vertical-align: top;\n",
       "    }\n",
       "\n",
       "    .dataframe thead th {\n",
       "        text-align: right;\n",
       "    }\n",
       "</style>\n",
       "<table border=\"1\" class=\"dataframe\">\n",
       "  <thead>\n",
       "    <tr style=\"text-align: right;\">\n",
       "      <th></th>\n",
       "      <th>ham</th>\n",
       "      <th>spam</th>\n",
       "      <th>accuracy</th>\n",
       "      <th>macro avg</th>\n",
       "      <th>weighted avg</th>\n",
       "    </tr>\n",
       "  </thead>\n",
       "  <tbody>\n",
       "    <tr>\n",
       "      <th>precision</th>\n",
       "      <td>0.958333</td>\n",
       "      <td>0.950957</td>\n",
       "      <td>0.956469</td>\n",
       "      <td>0.954645</td>\n",
       "      <td>0.956331</td>\n",
       "    </tr>\n",
       "    <tr>\n",
       "      <th>recall</th>\n",
       "      <td>0.982988</td>\n",
       "      <td>0.885301</td>\n",
       "      <td>0.956469</td>\n",
       "      <td>0.934144</td>\n",
       "      <td>0.956469</td>\n",
       "    </tr>\n",
       "    <tr>\n",
       "      <th>f1-score</th>\n",
       "      <td>0.970504</td>\n",
       "      <td>0.916955</td>\n",
       "      <td>0.956469</td>\n",
       "      <td>0.943729</td>\n",
       "      <td>0.955967</td>\n",
       "    </tr>\n",
       "    <tr>\n",
       "      <th>support</th>\n",
       "      <td>2410.000000</td>\n",
       "      <td>898.000000</td>\n",
       "      <td>0.956469</td>\n",
       "      <td>3308.000000</td>\n",
       "      <td>3308.000000</td>\n",
       "    </tr>\n",
       "  </tbody>\n",
       "</table>\n",
       "</div>"
      ],
      "text/plain": [
       "                   ham        spam  accuracy    macro avg  weighted avg\n",
       "precision     0.958333    0.950957  0.956469     0.954645      0.956331\n",
       "recall        0.982988    0.885301  0.956469     0.934144      0.956469\n",
       "f1-score      0.970504    0.916955  0.956469     0.943729      0.955967\n",
       "support    2410.000000  898.000000  0.956469  3308.000000   3308.000000"
      ]
     },
     "execution_count": 27,
     "metadata": {},
     "output_type": "execute_result"
    },
    {
     "data": {
      "image/png": "[encoded data removed]",
      "text/plain": [
       "<Figure size 432x288 with 2 Axes>"
      ]
     },
     "metadata": {},
     "output_type": "display_data"
    }
   ],
   "source": [
    "# Checking out the confusion matrix from one random train test split \n",
    "\n",
    "\n",
    "predictions = classifier.predict(tfidf_test_x.toarray())\n",
    "\n",
    "cf_matrix = confusion_matrix(test_y, predictions)\n",
    "sns.heatmap(cf_matrix, annot=True, cmap='Blues', fmt='g')\n",
    "pd.DataFrame(classification_report(test_y,predictions,output_dict=True))"
   ]
  },
  {
   "cell_type": "markdown",
   "metadata": {},
   "source": [
    "The cross-validated accuracy improved by almost 1 percent! (0.98%) and precision and recall for spam emails has improved by a bit too.\n",
    "\n",
    "Points of exploration from my approach to the modeling problem:\n",
    "- In terms of parsing the texts, I opted to include everything after the first subject line. i.e. for email threads, I kept the subject lines from the following email threads, miscellaneous symbols like '------' and also the to, from, date lines. For next possible iteration, I could be more specific in how I parse the email texts.\n"
   ]
  },
  {
   "cell_type": "code",
   "execution_count": null,
   "metadata": {},
   "outputs": [],
   "source": []
  }
 ],
 "metadata": {
  "kernelspec": {
   "display_name": "Python 3",
   "language": "python",
   "name": "python3"
  },
  "language_info": {
   "codemirror_mode": {
    "name": "ipython",
    "version": 3
   },
   "file_extension": ".py",
   "mimetype": "text/x-python",
   "name": "python",
   "nbconvert_exporter": "python",
   "pygments_lexer": "ipython3",
   "version": "3.7.10"
  }
 },
 "nbformat": 4,
 "nbformat_minor": 4
}
